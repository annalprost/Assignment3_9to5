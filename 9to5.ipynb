{
    "metadata": {
        "kernelspec": {
            "name": "SQL",
            "display_name": "SQL",
            "language": "sql"
        },
        "language_info": {
            "name": "sql",
            "version": ""
        },
        "extensions": {
            "azuredatastudio": {
                "version": 1,
                "views": []
            }
        }
    },
    "nbformat_minor": 2,
    "nbformat": 4,
    "cells": [
        {
            "cell_type": "markdown",
            "source": [
                "# <span style=\"font-size: 20pt; font-family: Montserrat, sans-serif; color: rgb(92, 148, 206); background-color: rgb(255, 255, 255); font-weight: 700; font-variant-east-asian: normal; vertical-align: baseline; white-space: pre-wrap;\">Graded Assignment 3: 9 to 5</span>\n",
                "\n",
                "  \n",
                "\n",
                "<span style=\"font-size: 10pt; font-family: &quot;Times New Roman&quot;; color: rgb(102, 102, 102); background-color: rgb(255, 255, 255); font-variant-east-asian: normal; vertical-align: baseline; white-space: pre-wrap;\">Time to show off your SQL skills! For each question, copy the SQL query you used and make note of the answer.</span>\n",
                "\n",
                "  \n",
                "\n",
                "## <span style=\"font-size: 12pt; font-family: Montserrat, sans-serif; color: rgb(53, 74, 95); background-color: rgb(255, 255, 255); font-weight: 700; font-variant-east-asian: normal; vertical-align: baseline; white-space: pre-wrap;\">The Dataset</span>\n",
                "\n",
                "<span style=\"font-size: 10pt; font-family: &quot;Times New Roman&quot;; color: rgb(102, 102, 102); background-color: rgb(255, 255, 255); font-variant-east-asian: normal; vertical-align: baseline; white-space: pre-wrap;\">For this assignment, you will be using the Bureau of Labor Statistics (BLS) Current Employment Survey (CES) results which can be found on</span> [<span style=\"font-size: 10pt; font-family: &quot;Times New Roman&quot;; color: rgb(17, 85, 204); background-color: rgb(255, 255, 255); font-variant-east-asian: normal; text-decoration-line: underline; vertical-align: baseline; white-space: pre-wrap;\">Kaggle</span>](https://www.kaggle.com/bls/employment)<span style=\"font-size: 10pt; font-family: &quot;Times New Roman&quot;; color: rgb(102, 102, 102); background-color: rgb(255, 255, 255); font-variant-east-asian: normal; vertical-align: baseline; white-space: pre-wrap;\">.</span>\n",
                "\n",
                "  \n",
                "\n",
                "## <span style=\"font-size: 12pt; font-family: Montserrat, sans-serif; color: rgb(53, 74, 95); background-color: rgb(255, 255, 255); font-weight: 700; font-variant-east-asian: normal; vertical-align: baseline; white-space: pre-wrap;\">Business Issue</span>\n",
                "\n",
                "<span style=\"font-size: 10pt; font-family: &quot;Times New Roman&quot;; color: rgb(102, 102, 102); background-color: rgb(255, 255, 255); font-variant-east-asian: normal; vertical-align: baseline; white-space: pre-wrap;\">You are working for the Bureau of Labor Statistics with the United States government and have been approached by your boss with an important meeting request. You have been asked by your supervisor to meet with Dolly Parton whose nonprofit is looking to shed light on the state of employment in the United States. As part of the 9 to 5 project, their research is focused on production and nonsupervisory employees and how those employees fare compared to all employees in the United States. While the data the BLS collects from the CES is publicly available, Dolly Parton and her colleagues need your assistance navigating the thousands of rows in each table in LaborStatisticsDB.</span>\n",
                "\n",
                "  \n",
                "\n",
                "## <span style=\"font-size: 12pt; font-family: Montserrat, sans-serif; color: rgb(53, 74, 95); background-color: rgb(255, 255, 255); font-weight: 700; font-variant-east-asian: normal; vertical-align: baseline; white-space: pre-wrap;\">About the Dataset</span>\n",
                "\n",
                "<span style=\"font-size: 10pt; font-family: &quot;Times New Roman&quot;; color: rgb(102, 102, 102); background-color: rgb(255, 255, 255); font-variant-east-asian: normal; vertical-align: baseline; white-space: pre-wrap;\">This dataset comes directly from the Bureau of Labor Statistics’ Current Employment Survey (CES). Here are some things you need to know:</span>\n",
                "\n",
                "1. <span style=\"font-size: 10pt; background-color: rgb(255, 255, 255); font-variant-east-asian: normal; vertical-align: baseline; white-space: pre-wrap;\">The industry table contains an NAICS code. This is different from the industry code. NAICS stands for North American Industry Classification System.</span>\n",
                "    \n",
                "2. <span style=\"font-size: 10pt; background-color: rgb(255, 255, 255); font-variant-east-asian: normal; vertical-align: baseline; white-space: pre-wrap;\">Series ID is composed of multiple different codes. CES stands for Current Employment Survey, the name of the survey which collected the data. The industry code as specified by the BLS and the data type code as specified in the datatype table.</span>\n",
                "    \n",
                "\n",
                "  \n",
                "\n",
                "## <span style=\"font-size: 12pt; font-family: Montserrat, sans-serif; color: rgb(53, 74, 95); background-color: rgb(255, 255, 255); font-weight: 700; font-variant-east-asian: normal; vertical-align: baseline; white-space: pre-wrap;\">Set Up</span>\n",
                "\n",
                "<span style=\"font-size: 10pt; font-family: &quot;Times New Roman&quot;; color: rgb(102, 102, 102); background-color: rgb(255, 255, 255); font-variant-east-asian: normal; vertical-align: baseline; white-space: pre-wrap;\">To connect to the database, use the same connection info used during the SQL lessons.&nbsp;</span> \n",
                "\n",
                "<span style=\"font-size: 10pt; font-family: &quot;Times New Roman&quot;; color: rgb(102, 102, 102); background-color: rgb(255, 255, 255); font-variant-east-asian: normal; vertical-align: baseline; white-space: pre-wrap;\">For the assignment, we will be using the LaborStatisticsDB database.</span>\n",
                "\n",
                "  \n",
                "\n",
                "## <span style=\"font-size: 12pt; font-family: Montserrat, sans-serif; color: rgb(53, 74, 95); background-color: rgb(255, 255, 255); font-weight: 700; font-variant-east-asian: normal; vertical-align: baseline; white-space: pre-wrap;\">Database Exploration</span>\n",
                "\n",
                "<span style=\"font-size: 10pt; font-family: &quot;Times New Roman&quot;; color: rgb(102, 102, 102); background-color: rgb(255, 255, 255); font-variant-east-asian: normal; vertical-align: baseline; white-space: pre-wrap;\">To start with, let’s get to know the database further.</span>\n",
                "\n",
                "1. <span style=\"background-color: rgb(255, 255, 255); color: rgb(102, 102, 102); font-family: &quot;Times New Roman&quot;; font-size: 10pt; white-space: pre-wrap;\">Use this space to make note of each table in the database, the columns within each table, each column’s data type, and how the tables are connected. You can write this down or draw a diagram. Whatever method helps you get an understanding of what is going on with LaborStatisticsDB.</span>"
            ],
            "metadata": {
                "azdata_cell_guid": "28ea70c5-f0be-4197-b6c0-ade22886a708"
            },
            "attachments": {}
        },
        {
            "cell_type": "markdown",
            "source": [
                "```\n",
                "To add a photo, diagram or document to your file, drop the file into the folder that holds this notebook.  Use the the link button to the right of the  </> symbol in the gray part of this cell, the link is just the name of your file.\n",
                "Data Diagram\n",
                "```\n",
                "```\n",
                "file:///Users/annaprost/Documents/LaunchCode/9to5/Assignment3_9to5/Diagram.png \n",
                "```"
            ],
            "metadata": {
                "azdata_cell_guid": "aeae906c-752c-49d3-b482-3ed6a4f54b6e"
            },
            "attachments": {}
        },
        {
            "cell_type": "code",
            "source": [
                "SELECT TOP (5)*\n",
                "FROM LaborStatisticsDB.dbo.annual_2016"
            ],
            "metadata": {
                "azdata_cell_guid": "dbf3633e-8503-49e6-b128-cf010d1558cf",
                "language": "sql",
                "tags": []
            },
            "outputs": [
                {
                    "output_type": "display_data",
                    "data": {
                        "text/html": "(5 rows affected)"
                    },
                    "metadata": {}
                },
                {
                    "output_type": "display_data",
                    "data": {
                        "text/html": "Total execution time: 00:00:00.167"
                    },
                    "metadata": {}
                },
                {
                    "output_type": "execute_result",
                    "execution_count": 3,
                    "data": {
                        "application/vnd.dataresource+json": {
                            "schema": {
                                "fields": [
                                    {
                                        "name": "id"
                                    },
                                    {
                                        "name": "series_id"
                                    },
                                    {
                                        "name": "year"
                                    },
                                    {
                                        "name": "period"
                                    },
                                    {
                                        "name": "value"
                                    },
                                    {
                                        "name": "footnote_codes"
                                    },
                                    {
                                        "name": "original_file"
                                    }
                                ]
                            },
                            "data": [
                                {
                                    "id": "0",
                                    "series_id": "CEU5500000007",
                                    "year": "2016",
                                    "period": "M13",
                                    "value": "36.9",
                                    "footnote_codes": "NULL",
                                    "original_file": "ce.data.55c.FinancialActivities.ProductionEmployeeHoursAndEarnings.csv"
                                },
                                {
                                    "id": "1",
                                    "series_id": "CEU5500000008",
                                    "year": "2016",
                                    "period": "M13",
                                    "value": "26.11",
                                    "footnote_codes": "NULL",
                                    "original_file": "ce.data.55c.FinancialActivities.ProductionEmployeeHoursAndEarnings.csv"
                                },
                                {
                                    "id": "2",
                                    "series_id": "CEU5500000030",
                                    "year": "2016",
                                    "period": "M13",
                                    "value": "962.73",
                                    "footnote_codes": "NULL",
                                    "original_file": "ce.data.55c.FinancialActivities.ProductionEmployeeHoursAndEarnings.csv"
                                },
                                {
                                    "id": "3",
                                    "series_id": "CEU5500000031",
                                    "year": "2016",
                                    "period": "M13",
                                    "value": "411.29",
                                    "footnote_codes": "NULL",
                                    "original_file": "ce.data.55c.FinancialActivities.ProductionEmployeeHoursAndEarnings.csv"
                                },
                                {
                                    "id": "4",
                                    "series_id": "CEU5500000032",
                                    "year": "2016",
                                    "period": "M13",
                                    "value": "11.15",
                                    "footnote_codes": "NULL",
                                    "original_file": "ce.data.55c.FinancialActivities.ProductionEmployeeHoursAndEarnings.csv"
                                }
                            ]
                        },
                        "text/html": "<table><tr><th>id</th><th>series_id</th><th>year</th><th>period</th><th>value</th><th>footnote_codes</th><th>original_file</th></tr><tr><td>0</td><td>CEU5500000007</td><td>2016</td><td>M13</td><td>36.9</td><td>NULL</td><td>ce.data.55c.FinancialActivities.ProductionEmployeeHoursAndEarnings.csv</td></tr><tr><td>1</td><td>CEU5500000008</td><td>2016</td><td>M13</td><td>26.11</td><td>NULL</td><td>ce.data.55c.FinancialActivities.ProductionEmployeeHoursAndEarnings.csv</td></tr><tr><td>2</td><td>CEU5500000030</td><td>2016</td><td>M13</td><td>962.73</td><td>NULL</td><td>ce.data.55c.FinancialActivities.ProductionEmployeeHoursAndEarnings.csv</td></tr><tr><td>3</td><td>CEU5500000031</td><td>2016</td><td>M13</td><td>411.29</td><td>NULL</td><td>ce.data.55c.FinancialActivities.ProductionEmployeeHoursAndEarnings.csv</td></tr><tr><td>4</td><td>CEU5500000032</td><td>2016</td><td>M13</td><td>11.15</td><td>NULL</td><td>ce.data.55c.FinancialActivities.ProductionEmployeeHoursAndEarnings.csv</td></tr></table>"
                    },
                    "metadata": {}
                }
            ],
            "execution_count": 3
        },
        {
            "cell_type": "code",
            "source": [
                "SELECT *\n",
                "FROM LaborStatisticsDB.dbo.datatype\n",
                ""
            ],
            "metadata": {
                "azdata_cell_guid": "6b49ad14-3699-49fc-a067-af50b4c3a9be",
                "language": "sql"
            },
            "outputs": [
                {
                    "output_type": "display_data",
                    "data": {
                        "text/html": "(45 rows affected)"
                    },
                    "metadata": {}
                },
                {
                    "output_type": "display_data",
                    "data": {
                        "text/html": "Total execution time: 00:00:00.260"
                    },
                    "metadata": {}
                },
                {
                    "output_type": "execute_result",
                    "execution_count": 38,
                    "data": {
                        "application/vnd.dataresource+json": {
                            "schema": {
                                "fields": [
                                    {
                                        "name": "data_type_code"
                                    },
                                    {
                                        "name": "data_type_text"
                                    }
                                ]
                            },
                            "data": [
                                {
                                    "data_type_code": "1",
                                    "data_type_text": "ALL EMPLOYEES"
                                },
                                {
                                    "data_type_code": "2",
                                    "data_type_text": "AVERAGE WEEKLY HOURS OF ALL EMPLOYEES"
                                },
                                {
                                    "data_type_code": "3",
                                    "data_type_text": "AVERAGE HOURLY EARNINGS OF ALL EMPLOYEES"
                                },
                                {
                                    "data_type_code": "4",
                                    "data_type_text": "AVERAGE WEEKLY OVERTIME HOURS OF ALL EMPLOYEES"
                                },
                                {
                                    "data_type_code": "6",
                                    "data_type_text": "PRODUCTION AND NONSUPERVISORY EMPLOYEES"
                                },
                                {
                                    "data_type_code": "7",
                                    "data_type_text": "AVERAGE WEEKLY HOURS OF PRODUCTION AND NONSUPERVISORY EMPLOYEES"
                                },
                                {
                                    "data_type_code": "8",
                                    "data_type_text": "AVERAGE HOURLY EARNINGS OF PRODUCTION AND NONSUPERVISORY EMPLOYEES"
                                },
                                {
                                    "data_type_code": "9",
                                    "data_type_text": "AVERAGE WEEKLY OVERTIME HOURS OF PRODUCTION AND NONSUPERVISORY EMPLOYEES"
                                },
                                {
                                    "data_type_code": "10",
                                    "data_type_text": "WOMEN EMPLOYEES"
                                },
                                {
                                    "data_type_code": "11",
                                    "data_type_text": "AVERAGE WEEKLY EARNINGS OF ALL EMPLOYEES"
                                },
                                {
                                    "data_type_code": "12",
                                    "data_type_text": "AVERAGE WEEKLY EARNINGS OF ALL EMPLOYEES"
                                },
                                {
                                    "data_type_code": "13",
                                    "data_type_text": "AVERAGE HOURLY EARNINGS OF ALL EMPLOYEES"
                                },
                                {
                                    "data_type_code": "15",
                                    "data_type_text": "AVERAGE HOURLY EARNINGS OF ALL EMPLOYEES"
                                },
                                {
                                    "data_type_code": "16",
                                    "data_type_text": "INDEXES OF AGGREGATE WEEKLY HOURS OF ALL EMPLOYEES"
                                },
                                {
                                    "data_type_code": "17",
                                    "data_type_text": "INDEXES OF AGGREGATE WEEKLY PAYROLLS OF ALL EMPLOYEES"
                                },
                                {
                                    "data_type_code": "19",
                                    "data_type_text": "AVERAGE WEEKLY HOURS OF ALL EMPLOYEES"
                                },
                                {
                                    "data_type_code": "20",
                                    "data_type_text": "AVERAGE WEEKLY OVERTIME HOURS OF ALL EMPLOYEES"
                                },
                                {
                                    "data_type_code": "21",
                                    "data_type_text": "DIFFUSION INDEXES"
                                },
                                {
                                    "data_type_code": "22",
                                    "data_type_text": "DIFFUSION INDEXES"
                                },
                                {
                                    "data_type_code": "23",
                                    "data_type_text": "DIFFUSION INDEXES"
                                },
                                {
                                    "data_type_code": "24",
                                    "data_type_text": "DIFFUSION INDEXES"
                                },
                                {
                                    "data_type_code": "25",
                                    "data_type_text": "ALL EMPLOYEES"
                                },
                                {
                                    "data_type_code": "26",
                                    "data_type_text": "ALL EMPLOYEES"
                                },
                                {
                                    "data_type_code": "30",
                                    "data_type_text": "AVERAGE WEEKLY EARNINGS OF PRODUCTION AND NONSUPERVISORY EMPLOYEES"
                                },
                                {
                                    "data_type_code": "31",
                                    "data_type_text": "AVERAGE WEEKLY EARNINGS OF PRODUCTION AND NONSUPERVISORY EMPLOYEES"
                                },
                                {
                                    "data_type_code": "32",
                                    "data_type_text": "AVERAGE HOURLY EARNINGS OF PRODUCTION AND NONSUPERVISORY EMPLOYEES"
                                },
                                {
                                    "data_type_code": "33",
                                    "data_type_text": "AVERAGE HOURLY EARNINGS OF PRODUCTION AND NONSUPERVISORY EMPLOYEES"
                                },
                                {
                                    "data_type_code": "34",
                                    "data_type_text": "INDEXES OF AGGREGATE WEEKLY HOURS OF PRODUCTION AND NONSUPERVISORY EMPLOYEES"
                                },
                                {
                                    "data_type_code": "35",
                                    "data_type_text": "INDEXES OF AGGREGATE WEEKLY PAYROLLS OF PRODUCTION AND NONSUPERVISORY EMPLOYEES"
                                },
                                {
                                    "data_type_code": "36",
                                    "data_type_text": "AVERAGE WEEKLY HOURS"
                                },
                                {
                                    "data_type_code": "37",
                                    "data_type_text": "AVERAGE WEEKLY OVERTIME HOURS"
                                },
                                {
                                    "data_type_code": "38",
                                    "data_type_text": "PRODUCTION AND NONSUPERVISORY EMPLOYEES-TO-ALL EMPLOYEES RATIO"
                                },
                                {
                                    "data_type_code": "39",
                                    "data_type_text": "WOMEN EMPLOYEES-TO-ALL EMPLOYEES RATIO"
                                },
                                {
                                    "data_type_code": "56",
                                    "data_type_text": "AGGREGATE WEEKLY HOURS OF ALL EMPLOYEES"
                                },
                                {
                                    "data_type_code": "57",
                                    "data_type_text": "AGGREGATE WEEKLY PAYROLLS OF ALL EMPLOYEES"
                                },
                                {
                                    "data_type_code": "58",
                                    "data_type_text": "AGGREGATE WEEKLY OVERTIME HOURS OF ALL EMPLOYEES"
                                },
                                {
                                    "data_type_code": "81",
                                    "data_type_text": "AGGREGATE WEEKLY HOURS OF PRODUCTION AND NONSUPERVISORY EMPLOYEES"
                                },
                                {
                                    "data_type_code": "82",
                                    "data_type_text": "AGGREGATE WEEKLY PAYROLLS OF PRODUCTION AND NONSUPERVISORY EMPLOYEES"
                                },
                                {
                                    "data_type_code": "83",
                                    "data_type_text": "AGGREGATE WEEKLY OVERTIME HOURS OF PRODUCTION AND NONSUPERVISORY EMPLOYEES"
                                },
                                {
                                    "data_type_code": "86",
                                    "data_type_text": "1-MONTH CONFIDENCE INTERVAL"
                                },
                                {
                                    "data_type_code": "87",
                                    "data_type_text": "3-MONTH CONFIDENCE INTERVAL"
                                },
                                {
                                    "data_type_code": "88",
                                    "data_type_text": "6-MONTH CONFIDENCE INTERVAL"
                                },
                                {
                                    "data_type_code": "89",
                                    "data_type_text": "12-MONTH CONFIDENCE INTERVAL"
                                },
                                {
                                    "data_type_code": "98",
                                    "data_type_text": "CPI-U 1982-84"
                                },
                                {
                                    "data_type_code": "99",
                                    "data_type_text": "CPI-W 1982-84"
                                }
                            ]
                        },
                        "text/html": "<table><tr><th>data_type_code</th><th>data_type_text</th></tr><tr><td>1</td><td>ALL EMPLOYEES</td></tr><tr><td>2</td><td>AVERAGE WEEKLY HOURS OF ALL EMPLOYEES</td></tr><tr><td>3</td><td>AVERAGE HOURLY EARNINGS OF ALL EMPLOYEES</td></tr><tr><td>4</td><td>AVERAGE WEEKLY OVERTIME HOURS OF ALL EMPLOYEES</td></tr><tr><td>6</td><td>PRODUCTION AND NONSUPERVISORY EMPLOYEES</td></tr><tr><td>7</td><td>AVERAGE WEEKLY HOURS OF PRODUCTION AND NONSUPERVISORY EMPLOYEES</td></tr><tr><td>8</td><td>AVERAGE HOURLY EARNINGS OF PRODUCTION AND NONSUPERVISORY EMPLOYEES</td></tr><tr><td>9</td><td>AVERAGE WEEKLY OVERTIME HOURS OF PRODUCTION AND NONSUPERVISORY EMPLOYEES</td></tr><tr><td>10</td><td>WOMEN EMPLOYEES</td></tr><tr><td>11</td><td>AVERAGE WEEKLY EARNINGS OF ALL EMPLOYEES</td></tr><tr><td>12</td><td>AVERAGE WEEKLY EARNINGS OF ALL EMPLOYEES</td></tr><tr><td>13</td><td>AVERAGE HOURLY EARNINGS OF ALL EMPLOYEES</td></tr><tr><td>15</td><td>AVERAGE HOURLY EARNINGS OF ALL EMPLOYEES</td></tr><tr><td>16</td><td>INDEXES OF AGGREGATE WEEKLY HOURS OF ALL EMPLOYEES</td></tr><tr><td>17</td><td>INDEXES OF AGGREGATE WEEKLY PAYROLLS OF ALL EMPLOYEES</td></tr><tr><td>19</td><td>AVERAGE WEEKLY HOURS OF ALL EMPLOYEES</td></tr><tr><td>20</td><td>AVERAGE WEEKLY OVERTIME HOURS OF ALL EMPLOYEES</td></tr><tr><td>21</td><td>DIFFUSION INDEXES</td></tr><tr><td>22</td><td>DIFFUSION INDEXES</td></tr><tr><td>23</td><td>DIFFUSION INDEXES</td></tr><tr><td>24</td><td>DIFFUSION INDEXES</td></tr><tr><td>25</td><td>ALL EMPLOYEES</td></tr><tr><td>26</td><td>ALL EMPLOYEES</td></tr><tr><td>30</td><td>AVERAGE WEEKLY EARNINGS OF PRODUCTION AND NONSUPERVISORY EMPLOYEES</td></tr><tr><td>31</td><td>AVERAGE WEEKLY EARNINGS OF PRODUCTION AND NONSUPERVISORY EMPLOYEES</td></tr><tr><td>32</td><td>AVERAGE HOURLY EARNINGS OF PRODUCTION AND NONSUPERVISORY EMPLOYEES</td></tr><tr><td>33</td><td>AVERAGE HOURLY EARNINGS OF PRODUCTION AND NONSUPERVISORY EMPLOYEES</td></tr><tr><td>34</td><td>INDEXES OF AGGREGATE WEEKLY HOURS OF PRODUCTION AND NONSUPERVISORY EMPLOYEES</td></tr><tr><td>35</td><td>INDEXES OF AGGREGATE WEEKLY PAYROLLS OF PRODUCTION AND NONSUPERVISORY EMPLOYEES</td></tr><tr><td>36</td><td>AVERAGE WEEKLY HOURS</td></tr><tr><td>37</td><td>AVERAGE WEEKLY OVERTIME HOURS</td></tr><tr><td>38</td><td>PRODUCTION AND NONSUPERVISORY EMPLOYEES-TO-ALL EMPLOYEES RATIO</td></tr><tr><td>39</td><td>WOMEN EMPLOYEES-TO-ALL EMPLOYEES RATIO</td></tr><tr><td>56</td><td>AGGREGATE WEEKLY HOURS OF ALL EMPLOYEES</td></tr><tr><td>57</td><td>AGGREGATE WEEKLY PAYROLLS OF ALL EMPLOYEES</td></tr><tr><td>58</td><td>AGGREGATE WEEKLY OVERTIME HOURS OF ALL EMPLOYEES</td></tr><tr><td>81</td><td>AGGREGATE WEEKLY HOURS OF PRODUCTION AND NONSUPERVISORY EMPLOYEES</td></tr><tr><td>82</td><td>AGGREGATE WEEKLY PAYROLLS OF PRODUCTION AND NONSUPERVISORY EMPLOYEES</td></tr><tr><td>83</td><td>AGGREGATE WEEKLY OVERTIME HOURS OF PRODUCTION AND NONSUPERVISORY EMPLOYEES</td></tr><tr><td>86</td><td>1-MONTH CONFIDENCE INTERVAL</td></tr><tr><td>87</td><td>3-MONTH CONFIDENCE INTERVAL</td></tr><tr><td>88</td><td>6-MONTH CONFIDENCE INTERVAL</td></tr><tr><td>89</td><td>12-MONTH CONFIDENCE INTERVAL</td></tr><tr><td>98</td><td>CPI-U 1982-84</td></tr><tr><td>99</td><td>CPI-W 1982-84</td></tr></table>"
                    },
                    "metadata": {}
                }
            ],
            "execution_count": 38
        },
        {
            "cell_type": "code",
            "source": [
                "SELECT TOP (5)*\n",
                "FROM LaborStatisticsDB.dbo.industry"
            ],
            "metadata": {
                "azdata_cell_guid": "b516e952-4288-4443-8e18-9733d02c60d2",
                "language": "sql"
            },
            "outputs": [
                {
                    "output_type": "display_data",
                    "data": {
                        "text/html": "(5 rows affected)"
                    },
                    "metadata": {}
                },
                {
                    "output_type": "display_data",
                    "data": {
                        "text/html": "Total execution time: 00:00:00.140"
                    },
                    "metadata": {}
                },
                {
                    "output_type": "execute_result",
                    "execution_count": 6,
                    "data": {
                        "application/vnd.dataresource+json": {
                            "schema": {
                                "fields": [
                                    {
                                        "name": "id"
                                    },
                                    {
                                        "name": "industry_code"
                                    },
                                    {
                                        "name": "naics_code"
                                    },
                                    {
                                        "name": "publishing_status"
                                    },
                                    {
                                        "name": "industry_name"
                                    },
                                    {
                                        "name": "display_level"
                                    },
                                    {
                                        "name": "selectable"
                                    },
                                    {
                                        "name": "sort_sequence"
                                    }
                                ]
                            },
                            "data": [
                                {
                                    "id": "0",
                                    "industry_code": "0",
                                    "naics_code": "-",
                                    "publishing_status": "B",
                                    "industry_name": "Total nonfarm",
                                    "display_level": "0",
                                    "selectable": "T",
                                    "sort_sequence": "1"
                                },
                                {
                                    "id": "1",
                                    "industry_code": "5000000",
                                    "naics_code": "-",
                                    "publishing_status": "A",
                                    "industry_name": "Total private",
                                    "display_level": "1",
                                    "selectable": "T",
                                    "sort_sequence": "2"
                                },
                                {
                                    "id": "2",
                                    "industry_code": "6000000",
                                    "naics_code": "-",
                                    "publishing_status": "A",
                                    "industry_name": "Goods-producing",
                                    "display_level": "1",
                                    "selectable": "T",
                                    "sort_sequence": "3"
                                },
                                {
                                    "id": "3",
                                    "industry_code": "7000000",
                                    "naics_code": "-",
                                    "publishing_status": "B",
                                    "industry_name": "Service-providing",
                                    "display_level": "1",
                                    "selectable": "T",
                                    "sort_sequence": "4"
                                },
                                {
                                    "id": "4",
                                    "industry_code": "8000000",
                                    "naics_code": "-",
                                    "publishing_status": "A",
                                    "industry_name": "Private service-providing",
                                    "display_level": "1",
                                    "selectable": "T",
                                    "sort_sequence": "5"
                                }
                            ]
                        },
                        "text/html": "<table><tr><th>id</th><th>industry_code</th><th>naics_code</th><th>publishing_status</th><th>industry_name</th><th>display_level</th><th>selectable</th><th>sort_sequence</th></tr><tr><td>0</td><td>0</td><td>-</td><td>B</td><td>Total nonfarm</td><td>0</td><td>T</td><td>1</td></tr><tr><td>1</td><td>5000000</td><td>-</td><td>A</td><td>Total private</td><td>1</td><td>T</td><td>2</td></tr><tr><td>2</td><td>6000000</td><td>-</td><td>A</td><td>Goods-producing</td><td>1</td><td>T</td><td>3</td></tr><tr><td>3</td><td>7000000</td><td>-</td><td>B</td><td>Service-providing</td><td>1</td><td>T</td><td>4</td></tr><tr><td>4</td><td>8000000</td><td>-</td><td>A</td><td>Private service-providing</td><td>1</td><td>T</td><td>5</td></tr></table>"
                    },
                    "metadata": {}
                }
            ],
            "execution_count": 6
        },
        {
            "cell_type": "code",
            "source": [
                "SELECT TOP (5)*\n",
                "FROM LaborStatisticsDB.dbo.january_2017"
            ],
            "metadata": {
                "azdata_cell_guid": "51ac893b-3e92-472a-85cd-bfd1303ec58c",
                "language": "sql"
            },
            "outputs": [
                {
                    "output_type": "display_data",
                    "data": {
                        "text/html": "(5 rows affected)"
                    },
                    "metadata": {}
                },
                {
                    "output_type": "display_data",
                    "data": {
                        "text/html": "Total execution time: 00:00:00.155"
                    },
                    "metadata": {}
                },
                {
                    "output_type": "execute_result",
                    "execution_count": 7,
                    "data": {
                        "application/vnd.dataresource+json": {
                            "schema": {
                                "fields": [
                                    {
                                        "name": "id"
                                    },
                                    {
                                        "name": "series_id"
                                    },
                                    {
                                        "name": "year"
                                    },
                                    {
                                        "name": "period"
                                    },
                                    {
                                        "name": "value"
                                    },
                                    {
                                        "name": "footnote_codes"
                                    },
                                    {
                                        "name": "original_file"
                                    }
                                ]
                            },
                            "data": [
                                {
                                    "id": "0",
                                    "series_id": "CES5500000007",
                                    "year": "2017",
                                    "period": "M01",
                                    "value": "36.9",
                                    "footnote_codes": "NULL",
                                    "original_file": "ce.data.55c.FinancialActivities.ProductionEmployeeHoursAndEarnings.csv"
                                },
                                {
                                    "id": "1",
                                    "series_id": "CES5500000008",
                                    "year": "2017",
                                    "period": "M01",
                                    "value": "26.27",
                                    "footnote_codes": "NULL",
                                    "original_file": "ce.data.55c.FinancialActivities.ProductionEmployeeHoursAndEarnings.csv"
                                },
                                {
                                    "id": "2",
                                    "series_id": "CES5500000030",
                                    "year": "2017",
                                    "period": "M01",
                                    "value": "969.36",
                                    "footnote_codes": "NULL",
                                    "original_file": "ce.data.55c.FinancialActivities.ProductionEmployeeHoursAndEarnings.csv"
                                },
                                {
                                    "id": "3",
                                    "series_id": "CES5500000031",
                                    "year": "2017",
                                    "period": "M01",
                                    "value": "406.67",
                                    "footnote_codes": "NULL",
                                    "original_file": "ce.data.55c.FinancialActivities.ProductionEmployeeHoursAndEarnings.csv"
                                },
                                {
                                    "id": "4",
                                    "series_id": "CES5500000032",
                                    "year": "2017",
                                    "period": "M01",
                                    "value": "11.02",
                                    "footnote_codes": "NULL",
                                    "original_file": "ce.data.55c.FinancialActivities.ProductionEmployeeHoursAndEarnings.csv"
                                }
                            ]
                        },
                        "text/html": "<table><tr><th>id</th><th>series_id</th><th>year</th><th>period</th><th>value</th><th>footnote_codes</th><th>original_file</th></tr><tr><td>0</td><td>CES5500000007</td><td>2017</td><td>M01</td><td>36.9</td><td>NULL</td><td>ce.data.55c.FinancialActivities.ProductionEmployeeHoursAndEarnings.csv</td></tr><tr><td>1</td><td>CES5500000008</td><td>2017</td><td>M01</td><td>26.27</td><td>NULL</td><td>ce.data.55c.FinancialActivities.ProductionEmployeeHoursAndEarnings.csv</td></tr><tr><td>2</td><td>CES5500000030</td><td>2017</td><td>M01</td><td>969.36</td><td>NULL</td><td>ce.data.55c.FinancialActivities.ProductionEmployeeHoursAndEarnings.csv</td></tr><tr><td>3</td><td>CES5500000031</td><td>2017</td><td>M01</td><td>406.67</td><td>NULL</td><td>ce.data.55c.FinancialActivities.ProductionEmployeeHoursAndEarnings.csv</td></tr><tr><td>4</td><td>CES5500000032</td><td>2017</td><td>M01</td><td>11.02</td><td>NULL</td><td>ce.data.55c.FinancialActivities.ProductionEmployeeHoursAndEarnings.csv</td></tr></table>"
                    },
                    "metadata": {}
                }
            ],
            "execution_count": 7
        },
        {
            "cell_type": "code",
            "source": [
                "SELECT *\n",
                "FROM LaborStatisticsDB.dbo.period"
            ],
            "metadata": {
                "azdata_cell_guid": "6ea2d448-c829-487a-a577-71cbf1932377",
                "language": "sql"
            },
            "outputs": [
                {
                    "output_type": "display_data",
                    "data": {
                        "text/html": "(13 rows affected)"
                    },
                    "metadata": {}
                },
                {
                    "output_type": "display_data",
                    "data": {
                        "text/html": "Total execution time: 00:00:00.094"
                    },
                    "metadata": {}
                },
                {
                    "output_type": "execute_result",
                    "metadata": {},
                    "execution_count": 109,
                    "data": {
                        "application/vnd.dataresource+json": {
                            "schema": {
                                "fields": [
                                    {
                                        "name": "period_code"
                                    },
                                    {
                                        "name": "month_abbr"
                                    },
                                    {
                                        "name": "month"
                                    }
                                ]
                            },
                            "data": [
                                {
                                    "period_code": "M01",
                                    "month_abbr": "JAN",
                                    "month": "January             "
                                },
                                {
                                    "period_code": "M02",
                                    "month_abbr": "FEB",
                                    "month": "February            "
                                },
                                {
                                    "period_code": "M03",
                                    "month_abbr": "MAR",
                                    "month": "March               "
                                },
                                {
                                    "period_code": "M04",
                                    "month_abbr": "APR",
                                    "month": "April               "
                                },
                                {
                                    "period_code": "M05",
                                    "month_abbr": "MAY",
                                    "month": "May                 "
                                },
                                {
                                    "period_code": "M06",
                                    "month_abbr": "JUN",
                                    "month": "June                "
                                },
                                {
                                    "period_code": "M07",
                                    "month_abbr": "JUL",
                                    "month": "July                "
                                },
                                {
                                    "period_code": "M08",
                                    "month_abbr": "AUG",
                                    "month": "August              "
                                },
                                {
                                    "period_code": "M09",
                                    "month_abbr": "SEP",
                                    "month": "September           "
                                },
                                {
                                    "period_code": "M10",
                                    "month_abbr": "OCT",
                                    "month": "October             "
                                },
                                {
                                    "period_code": "M11",
                                    "month_abbr": "NOV",
                                    "month": "November            "
                                },
                                {
                                    "period_code": "M12",
                                    "month_abbr": "DEC",
                                    "month": "December            "
                                },
                                {
                                    "period_code": "M13",
                                    "month_abbr": "AN AV",
                                    "month": "Annual Average      "
                                }
                            ]
                        },
                        "text/html": [
                            "<table>",
                            "<tr><th>period_code</th><th>month_abbr</th><th>month</th></tr>",
                            "<tr><td>M01</td><td>JAN</td><td>January             </td></tr>",
                            "<tr><td>M02</td><td>FEB</td><td>February            </td></tr>",
                            "<tr><td>M03</td><td>MAR</td><td>March               </td></tr>",
                            "<tr><td>M04</td><td>APR</td><td>April               </td></tr>",
                            "<tr><td>M05</td><td>MAY</td><td>May                 </td></tr>",
                            "<tr><td>M06</td><td>JUN</td><td>June                </td></tr>",
                            "<tr><td>M07</td><td>JUL</td><td>July                </td></tr>",
                            "<tr><td>M08</td><td>AUG</td><td>August              </td></tr>",
                            "<tr><td>M09</td><td>SEP</td><td>September           </td></tr>",
                            "<tr><td>M10</td><td>OCT</td><td>October             </td></tr>",
                            "<tr><td>M11</td><td>NOV</td><td>November            </td></tr>",
                            "<tr><td>M12</td><td>DEC</td><td>December            </td></tr>",
                            "<tr><td>M13</td><td>AN AV</td><td>Annual Average      </td></tr>",
                            "</table>"
                        ]
                    }
                }
            ],
            "execution_count": 109
        },
        {
            "cell_type": "code",
            "source": [
                "SELECT TOP (5)*\n",
                "FROM LaborStatisticsDB.dbo.series"
            ],
            "metadata": {
                "azdata_cell_guid": "daec86c2-07c6-44a7-a379-6cfb582039dd",
                "language": "sql"
            },
            "outputs": [
                {
                    "output_type": "display_data",
                    "data": {
                        "text/html": "(5 rows affected)"
                    },
                    "metadata": {}
                },
                {
                    "output_type": "display_data",
                    "data": {
                        "text/html": "Total execution time: 00:00:00.180"
                    },
                    "metadata": {}
                },
                {
                    "output_type": "execute_result",
                    "execution_count": 11,
                    "data": {
                        "application/vnd.dataresource+json": {
                            "schema": {
                                "fields": [
                                    {
                                        "name": "series_id"
                                    },
                                    {
                                        "name": "supersector_code"
                                    },
                                    {
                                        "name": "industry_code"
                                    },
                                    {
                                        "name": "data_type_code"
                                    },
                                    {
                                        "name": "seasonal"
                                    },
                                    {
                                        "name": "series_title"
                                    }
                                ]
                            },
                            "data": [
                                {
                                    "series_id": "CES0000000001",
                                    "supersector_code": "0",
                                    "industry_code": "00000000",
                                    "data_type_code": "1",
                                    "seasonal": "S",
                                    "series_title": "All employees"
                                },
                                {
                                    "series_id": "CES0000000010",
                                    "supersector_code": "0",
                                    "industry_code": "00000000",
                                    "data_type_code": "10",
                                    "seasonal": "S",
                                    "series_title": "Women employees"
                                },
                                {
                                    "series_id": "CES0000000025",
                                    "supersector_code": "0",
                                    "industry_code": "00000000",
                                    "data_type_code": "25",
                                    "seasonal": "S",
                                    "series_title": "All employees"
                                },
                                {
                                    "series_id": "CES0000000026",
                                    "supersector_code": "0",
                                    "industry_code": "00000000",
                                    "data_type_code": "26",
                                    "seasonal": "S",
                                    "series_title": "All employees"
                                },
                                {
                                    "series_id": "CES0500000001",
                                    "supersector_code": "5",
                                    "industry_code": "05000000",
                                    "data_type_code": "1",
                                    "seasonal": "S",
                                    "series_title": "All employees"
                                }
                            ]
                        },
                        "text/html": "<table><tr><th>series_id</th><th>supersector_code</th><th>industry_code</th><th>data_type_code</th><th>seasonal</th><th>series_title</th></tr><tr><td>CES0000000001</td><td>0</td><td>00000000</td><td>1</td><td>S</td><td>All employees</td></tr><tr><td>CES0000000010</td><td>0</td><td>00000000</td><td>10</td><td>S</td><td>Women employees</td></tr><tr><td>CES0000000025</td><td>0</td><td>00000000</td><td>25</td><td>S</td><td>All employees</td></tr><tr><td>CES0000000026</td><td>0</td><td>00000000</td><td>26</td><td>S</td><td>All employees</td></tr><tr><td>CES0500000001</td><td>5</td><td>05000000</td><td>1</td><td>S</td><td>All employees</td></tr></table>"
                    },
                    "metadata": {}
                }
            ],
            "execution_count": 11
        },
        {
            "cell_type": "code",
            "source": [
                "SELECT TOP (5)*\n",
                "FROM LaborStatisticsDB.dbo.supersector"
            ],
            "metadata": {
                "azdata_cell_guid": "edb3bca5-1e6b-472e-89ea-303dadab8235",
                "language": "sql"
            },
            "outputs": [
                {
                    "output_type": "display_data",
                    "data": {
                        "text/html": "(5 rows affected)"
                    },
                    "metadata": {}
                },
                {
                    "output_type": "display_data",
                    "data": {
                        "text/html": "Total execution time: 00:00:00.197"
                    },
                    "metadata": {}
                },
                {
                    "output_type": "execute_result",
                    "execution_count": 12,
                    "data": {
                        "application/vnd.dataresource+json": {
                            "schema": {
                                "fields": [
                                    {
                                        "name": "supersector_code"
                                    },
                                    {
                                        "name": "supersector_name"
                                    }
                                ]
                            },
                            "data": [
                                {
                                    "supersector_code": "0",
                                    "supersector_name": "Total nonfarm"
                                },
                                {
                                    "supersector_code": "5",
                                    "supersector_name": "Total private"
                                },
                                {
                                    "supersector_code": "6",
                                    "supersector_name": "Goods-producing"
                                },
                                {
                                    "supersector_code": "7",
                                    "supersector_name": "Service-providing"
                                },
                                {
                                    "supersector_code": "8",
                                    "supersector_name": "Private service-providing"
                                }
                            ]
                        },
                        "text/html": "<table><tr><th>supersector_code</th><th>supersector_name</th></tr><tr><td>0</td><td>Total nonfarm</td></tr><tr><td>5</td><td>Total private</td></tr><tr><td>6</td><td>Goods-producing</td></tr><tr><td>7</td><td>Service-providing</td></tr><tr><td>8</td><td>Private service-providing</td></tr></table>"
                    },
                    "metadata": {}
                }
            ],
            "execution_count": 12
        },
        {
            "cell_type": "markdown",
            "source": [
                "2. <span style=\"background-color: rgb(255, 255, 255); color: rgb(102, 102, 102); font-family: Arvo, serif; font-size: 10pt; white-space: pre-wrap;\">What is the datatype for women employees?</span>\n",
                "\n",
                "<span style=\"font-size: 13.3333px; white-space: pre-wrap;\">The datatype code for women employees is 10.</span>"
            ],
            "metadata": {
                "azdata_cell_guid": "01b111b7-baf1-4617-88bc-cd442826c9c9"
            },
            "attachments": {}
        },
        {
            "cell_type": "code",
            "source": [
                "SELECT data_type_text, data_type_code\n",
                "FROM LaborStatisticsDB.dbo.datatype as dt\n",
                "WHERE dt.data_type_text LIKE '%Women Employees%'"
            ],
            "metadata": {
                "azdata_cell_guid": "02fa547c-0bb7-4a40-81c2-f5c05154df04",
                "language": "sql"
            },
            "outputs": [
                {
                    "output_type": "display_data",
                    "data": {
                        "text/html": "(2 rows affected)"
                    },
                    "metadata": {}
                },
                {
                    "output_type": "display_data",
                    "data": {
                        "text/html": "Total execution time: 00:00:00.565"
                    },
                    "metadata": {}
                },
                {
                    "output_type": "execute_result",
                    "execution_count": 13,
                    "data": {
                        "application/vnd.dataresource+json": {
                            "schema": {
                                "fields": [
                                    {
                                        "name": "data_type_text"
                                    },
                                    {
                                        "name": "data_type_code"
                                    }
                                ]
                            },
                            "data": [
                                {
                                    "data_type_text": "WOMEN EMPLOYEES",
                                    "data_type_code": "10"
                                },
                                {
                                    "data_type_text": "WOMEN EMPLOYEES-TO-ALL EMPLOYEES RATIO",
                                    "data_type_code": "39"
                                }
                            ]
                        },
                        "text/html": "<table><tr><th>data_type_text</th><th>data_type_code</th></tr><tr><td>WOMEN EMPLOYEES</td><td>10</td></tr><tr><td>WOMEN EMPLOYEES-TO-ALL EMPLOYEES RATIO</td><td>39</td></tr></table>"
                    },
                    "metadata": {}
                }
            ],
            "execution_count": 13
        },
        {
            "cell_type": "markdown",
            "source": [
                "3. <span style=\"background-color: rgb(255, 255, 255); font-size: 10pt; white-space: pre-wrap; color: rgb(102, 102, 102); font-family: Arvo, serif;\">What is the series id for&nbsp; women employees in the commercial banking industry in the financial activities supersector?</span>\n",
                "\n",
                "<span style=\"font-size: 13.3333px; white-space: pre-wrap;\">I first found the supersector code for financial activities (55) and the industry code for commercial banking (55522110) so I could filter the data in the series table to only show me women employees in financial activities and commercial banking. I recieved two results for series_id. After closer inspection, I found that the difference is one series_id is seasonally adjusted and the other is not. The industry code is only referring to one row of data in the industry table, so I believe both series_id's are relevant to the analysis.</span>"
            ],
            "metadata": {
                "azdata_cell_guid": "325f85cc-9545-47b3-b975-3aab6278e4ea"
            },
            "attachments": {}
        },
        {
            "cell_type": "code",
            "source": [
                "-- SELECT supersector_name, supersector_code\n",
                "-- FROM LaborStatisticsDB.dbo.supersector\n",
                "-- WHERE supersector_name LIKE '%financial activities%'\n",
                "\n",
                "-- SELECT industry_name, industry_code\n",
                "-- FROM LaborStatisticsDB.dbo.industry\n",
                "-- WHERE industry_name LIKE '%Commercial Banking%'\n",
                "\n",
                "SELECT series_id, supersector_code, industry_code, series_title, data_type_code\n",
                "FROM LaborStatisticsDB.dbo.series as s\n",
                "WHERE industry_code = 55522110 AND supersector_code = 55 AND data_type_code = 10 \n",
                "\n",
                "\n",
                ""
            ],
            "metadata": {
                "azdata_cell_guid": "1315af1f-45f8-457d-8bbe-8e9f46303fca",
                "language": "sql",
                "tags": []
            },
            "outputs": [
                {
                    "output_type": "display_data",
                    "data": {
                        "text/html": "(2 rows affected)"
                    },
                    "metadata": {}
                },
                {
                    "output_type": "display_data",
                    "data": {
                        "text/html": "Total execution time: 00:00:00.187"
                    },
                    "metadata": {}
                },
                {
                    "output_type": "execute_result",
                    "execution_count": 23,
                    "data": {
                        "application/vnd.dataresource+json": {
                            "schema": {
                                "fields": [
                                    {
                                        "name": "series_id"
                                    },
                                    {
                                        "name": "supersector_code"
                                    },
                                    {
                                        "name": "industry_code"
                                    },
                                    {
                                        "name": "series_title"
                                    },
                                    {
                                        "name": "data_type_code"
                                    }
                                ]
                            },
                            "data": [
                                {
                                    "series_id": "CES5552211010",
                                    "supersector_code": "55",
                                    "industry_code": "55522110",
                                    "series_title": "Women employees",
                                    "data_type_code": "10"
                                },
                                {
                                    "series_id": "CEU5552211010",
                                    "supersector_code": "55",
                                    "industry_code": "55522110",
                                    "series_title": "Women employees",
                                    "data_type_code": "10"
                                }
                            ]
                        },
                        "text/html": "<table><tr><th>series_id</th><th>supersector_code</th><th>industry_code</th><th>series_title</th><th>data_type_code</th></tr><tr><td>CES5552211010</td><td>55</td><td>55522110</td><td>Women employees</td><td>10</td></tr><tr><td>CEU5552211010</td><td>55</td><td>55522110</td><td>Women employees</td><td>10</td></tr></table>"
                    },
                    "metadata": {}
                }
            ],
            "execution_count": 23
        },
        {
            "cell_type": "code",
            "source": [
                "SELECT series_id, series_title, seasonal\n",
                "FROM LaborStatisticsDB.dbo.series\n",
                "WHERE series_id = 'CES5552211010' OR series_id ='CEU5552211010'"
            ],
            "metadata": {
                "azdata_cell_guid": "c08033bc-5b85-44d1-b689-8c211a9c1771",
                "language": "sql",
                "tags": [
                    "hide_input"
                ]
            },
            "outputs": [
                {
                    "output_type": "display_data",
                    "data": {
                        "text/html": "(2 rows affected)"
                    },
                    "metadata": {}
                },
                {
                    "output_type": "display_data",
                    "data": {
                        "text/html": "Total execution time: 00:00:00.099"
                    },
                    "metadata": {}
                },
                {
                    "output_type": "execute_result",
                    "execution_count": 49,
                    "data": {
                        "application/vnd.dataresource+json": {
                            "schema": {
                                "fields": [
                                    {
                                        "name": "series_id"
                                    },
                                    {
                                        "name": "series_title"
                                    },
                                    {
                                        "name": "seasonal"
                                    }
                                ]
                            },
                            "data": [
                                {
                                    "series_id": "CES5552211010",
                                    "series_title": "Women employees",
                                    "seasonal": "S"
                                },
                                {
                                    "series_id": "CEU5552211010",
                                    "series_title": "Women employees",
                                    "seasonal": "U"
                                }
                            ]
                        },
                        "text/html": "<table><tr><th>series_id</th><th>series_title</th><th>seasonal</th></tr><tr><td>CES5552211010</td><td>Women employees</td><td>S</td></tr><tr><td>CEU5552211010</td><td>Women employees</td><td>U</td></tr></table>"
                    },
                    "metadata": {}
                }
            ],
            "execution_count": 49
        },
        {
            "cell_type": "code",
            "source": [
                "SELECT *\n",
                "FROM LaborStatisticsDB.dbo.industry\n",
                "WHERE industry_code = 55522110"
            ],
            "metadata": {
                "azdata_cell_guid": "44db1698-20af-4c0a-9436-5731402bd4fa",
                "language": "sql",
                "tags": [
                    "hide_input"
                ]
            },
            "outputs": [
                {
                    "output_type": "display_data",
                    "data": {
                        "text/html": "(1 row affected)"
                    },
                    "metadata": {}
                },
                {
                    "output_type": "display_data",
                    "data": {
                        "text/html": "Total execution time: 00:00:00.097"
                    },
                    "metadata": {}
                },
                {
                    "output_type": "execute_result",
                    "execution_count": 50,
                    "data": {
                        "application/vnd.dataresource+json": {
                            "schema": {
                                "fields": [
                                    {
                                        "name": "id"
                                    },
                                    {
                                        "name": "industry_code"
                                    },
                                    {
                                        "name": "naics_code"
                                    },
                                    {
                                        "name": "publishing_status"
                                    },
                                    {
                                        "name": "industry_name"
                                    },
                                    {
                                        "name": "display_level"
                                    },
                                    {
                                        "name": "selectable"
                                    },
                                    {
                                        "name": "sort_sequence"
                                    }
                                ]
                            },
                            "data": [
                                {
                                    "id": "563",
                                    "industry_code": "55522110",
                                    "naics_code": "52211",
                                    "publishing_status": "A",
                                    "industry_name": "Commercial banking",
                                    "display_level": "6",
                                    "selectable": "T",
                                    "sort_sequence": "564"
                                }
                            ]
                        },
                        "text/html": "<table><tr><th>id</th><th>industry_code</th><th>naics_code</th><th>publishing_status</th><th>industry_name</th><th>display_level</th><th>selectable</th><th>sort_sequence</th></tr><tr><td>563</td><td>55522110</td><td>52211</td><td>A</td><td>Commercial banking</td><td>6</td><td>T</td><td>564</td></tr></table>"
                    },
                    "metadata": {}
                }
            ],
            "execution_count": 50
        },
        {
            "cell_type": "markdown",
            "source": [
                "## <span style=\"font-size: 12pt; font-family: Montserrat, sans-serif; color: rgb(53, 74, 95); background-color: rgb(255, 255, 255); font-weight: 700; font-variant-numeric: normal; font-variant-east-asian: normal; vertical-align: baseline; white-space: pre-wrap;\">Join in on the Fun</span>\n",
                "\n",
                "<span style=\"font-size: 10pt; font-family: Arvo, serif; color: rgb(102, 102, 102); background-color: rgb(255, 255, 255); font-variant-numeric: normal; font-variant-east-asian: normal; vertical-align: baseline; white-space: pre-wrap;\">Time to start joining! You can choose the type of join you use, just make sure to make a&nbsp; note!</span>\n",
                "\n",
                "1. <span style=\"background-color: rgb(255, 255, 255); font-size: 10pt; white-space: pre-wrap; color: rgb(102, 102, 102); font-family: Arvo, serif;\">Join&nbsp; annual_2016 with series on series_id. We only want the data in the annual_2016 table to be included in the result.</span>\n",
                "\n",
                "<span style=\"font-size: 13.3333px; white-space: pre-wrap;\">I used a left join becuase we want to keep all of the data from the annual_2016 table, and only relevant data from the series_id table.</span>"
            ],
            "metadata": {
                "azdata_cell_guid": "ec1dfc63-ad41-4349-8c26-1d326ace8c6c"
            },
            "attachments": {}
        },
        {
            "cell_type": "code",
            "source": [
                "SELECT TOP(10)*\n",
                "FROM LaborStatisticsDB.dbo.annual_2016 as a16 LEFT JOIN LaborStatisticsDB.dbo.series as s \n",
                "ON a16.series_id = s.series_id "
            ],
            "metadata": {
                "azdata_cell_guid": "cf90f0b4-c482-4fbb-ac17-d2244881caab",
                "language": "sql"
            },
            "outputs": [
                {
                    "output_type": "display_data",
                    "data": {
                        "text/html": "(10 rows affected)"
                    },
                    "metadata": {}
                },
                {
                    "output_type": "display_data",
                    "data": {
                        "text/html": "Total execution time: 00:00:00.243"
                    },
                    "metadata": {}
                },
                {
                    "output_type": "execute_result",
                    "metadata": {},
                    "execution_count": 6,
                    "data": {
                        "application/vnd.dataresource+json": {
                            "schema": {
                                "fields": [
                                    {
                                        "name": "id"
                                    },
                                    {
                                        "name": "series_id"
                                    },
                                    {
                                        "name": "year"
                                    },
                                    {
                                        "name": "period"
                                    },
                                    {
                                        "name": "value"
                                    },
                                    {
                                        "name": "footnote_codes"
                                    },
                                    {
                                        "name": "original_file"
                                    },
                                    {
                                        "name": "series_id"
                                    },
                                    {
                                        "name": "supersector_code"
                                    },
                                    {
                                        "name": "industry_code"
                                    },
                                    {
                                        "name": "data_type_code"
                                    },
                                    {
                                        "name": "seasonal"
                                    },
                                    {
                                        "name": "series_title"
                                    }
                                ]
                            },
                            "data": [
                                {
                                    "id": "0",
                                    "series_id": "CEU5500000007",
                                    "year": "2016",
                                    "period": "M13",
                                    "value": "36.9",
                                    "footnote_codes": "NULL",
                                    "original_file": "ce.data.55c.FinancialActivities.ProductionEmployeeHoursAndEarnings.csv",
                                    "supersector_code": "55",
                                    "industry_code": "55000000",
                                    "data_type_code": "7",
                                    "seasonal": "U",
                                    "series_title": "Average weekly hours of production and nonsupervisory employees"
                                },
                                {
                                    "id": "1",
                                    "series_id": "CEU5500000008",
                                    "year": "2016",
                                    "period": "M13",
                                    "value": "26.11",
                                    "footnote_codes": "NULL",
                                    "original_file": "ce.data.55c.FinancialActivities.ProductionEmployeeHoursAndEarnings.csv",
                                    "supersector_code": "55",
                                    "industry_code": "55000000",
                                    "data_type_code": "8",
                                    "seasonal": "U",
                                    "series_title": "Average hourly earnings of production and nonsupervisory employees"
                                },
                                {
                                    "id": "2",
                                    "series_id": "CEU5500000030",
                                    "year": "2016",
                                    "period": "M13",
                                    "value": "962.73",
                                    "footnote_codes": "NULL",
                                    "original_file": "ce.data.55c.FinancialActivities.ProductionEmployeeHoursAndEarnings.csv",
                                    "supersector_code": "55",
                                    "industry_code": "55000000",
                                    "data_type_code": "30",
                                    "seasonal": "U",
                                    "series_title": "Average weekly earnings of production and nonsupervisory employees"
                                },
                                {
                                    "id": "3",
                                    "series_id": "CEU5500000031",
                                    "year": "2016",
                                    "period": "M13",
                                    "value": "411.29",
                                    "footnote_codes": "NULL",
                                    "original_file": "ce.data.55c.FinancialActivities.ProductionEmployeeHoursAndEarnings.csv",
                                    "supersector_code": "55",
                                    "industry_code": "55000000",
                                    "data_type_code": "31",
                                    "seasonal": "U",
                                    "series_title": "Average weekly earnings of production and nonsupervisory employees"
                                },
                                {
                                    "id": "4",
                                    "series_id": "CEU5500000032",
                                    "year": "2016",
                                    "period": "M13",
                                    "value": "11.15",
                                    "footnote_codes": "NULL",
                                    "original_file": "ce.data.55c.FinancialActivities.ProductionEmployeeHoursAndEarnings.csv",
                                    "supersector_code": "55",
                                    "industry_code": "55000000",
                                    "data_type_code": "32",
                                    "seasonal": "U",
                                    "series_title": "Average hourly earnings of production and nonsupervisory employees"
                                },
                                {
                                    "id": "5",
                                    "series_id": "CEU5500000034",
                                    "year": "2016",
                                    "period": "M13",
                                    "value": "111.6",
                                    "footnote_codes": "NULL",
                                    "original_file": "ce.data.55c.FinancialActivities.ProductionEmployeeHoursAndEarnings.csv",
                                    "supersector_code": "55",
                                    "industry_code": "55000000",
                                    "data_type_code": "34",
                                    "seasonal": "U",
                                    "series_title": "Indexes of aggregate weekly hours of production and nonsupervisory employees"
                                },
                                {
                                    "id": "6",
                                    "series_id": "CEU5500000035",
                                    "year": "2016",
                                    "period": "M13",
                                    "value": "179.2",
                                    "footnote_codes": "NULL",
                                    "original_file": "ce.data.55c.FinancialActivities.ProductionEmployeeHoursAndEarnings.csv",
                                    "supersector_code": "55",
                                    "industry_code": "55000000",
                                    "data_type_code": "35",
                                    "seasonal": "U",
                                    "series_title": "Indexes of aggregate weekly payrolls of production and nonsupervisory employees"
                                },
                                {
                                    "id": "7",
                                    "series_id": "CEU5500000081",
                                    "year": "2016",
                                    "period": "M13",
                                    "value": "236997",
                                    "footnote_codes": "NULL",
                                    "original_file": "ce.data.55c.FinancialActivities.ProductionEmployeeHoursAndEarnings.csv",
                                    "supersector_code": "55",
                                    "industry_code": "55000000",
                                    "data_type_code": "81",
                                    "seasonal": "U",
                                    "series_title": "Aggregate weekly hours of production and nonsupervisory employees"
                                },
                                {
                                    "id": "8",
                                    "series_id": "CEU5500000082",
                                    "year": "2016",
                                    "period": "M13",
                                    "value": "6189003",
                                    "footnote_codes": "NULL",
                                    "original_file": "ce.data.55c.FinancialActivities.ProductionEmployeeHoursAndEarnings.csv",
                                    "supersector_code": "55",
                                    "industry_code": "55000000",
                                    "data_type_code": "82",
                                    "seasonal": "U",
                                    "series_title": "Aggregate weekly payrolls of production and nonsupervisory employees"
                                },
                                {
                                    "id": "9",
                                    "series_id": "CEU5552200007",
                                    "year": "2016",
                                    "period": "M13",
                                    "value": "37.3",
                                    "footnote_codes": "NULL",
                                    "original_file": "ce.data.55c.FinancialActivities.ProductionEmployeeHoursAndEarnings.csv",
                                    "supersector_code": "55",
                                    "industry_code": "55522000",
                                    "data_type_code": "7",
                                    "seasonal": "U",
                                    "series_title": "Average weekly hours of production and nonsupervisory employees"
                                }
                            ]
                        },
                        "text/html": [
                            "<table>",
                            "<tr><th>id</th><th>series_id</th><th>year</th><th>period</th><th>value</th><th>footnote_codes</th><th>original_file</th><th>series_id</th><th>supersector_code</th><th>industry_code</th><th>data_type_code</th><th>seasonal</th><th>series_title</th></tr>",
                            "<tr><td>0</td><td>CEU5500000007</td><td>2016</td><td>M13</td><td>36.9</td><td>NULL</td><td>ce.data.55c.FinancialActivities.ProductionEmployeeHoursAndEarnings.csv</td><td>CEU5500000007</td><td>55</td><td>55000000</td><td>7</td><td>U</td><td>Average weekly hours of production and nonsupervisory employees</td></tr>",
                            "<tr><td>1</td><td>CEU5500000008</td><td>2016</td><td>M13</td><td>26.11</td><td>NULL</td><td>ce.data.55c.FinancialActivities.ProductionEmployeeHoursAndEarnings.csv</td><td>CEU5500000008</td><td>55</td><td>55000000</td><td>8</td><td>U</td><td>Average hourly earnings of production and nonsupervisory employees</td></tr>",
                            "<tr><td>2</td><td>CEU5500000030</td><td>2016</td><td>M13</td><td>962.73</td><td>NULL</td><td>ce.data.55c.FinancialActivities.ProductionEmployeeHoursAndEarnings.csv</td><td>CEU5500000030</td><td>55</td><td>55000000</td><td>30</td><td>U</td><td>Average weekly earnings of production and nonsupervisory employees</td></tr>",
                            "<tr><td>3</td><td>CEU5500000031</td><td>2016</td><td>M13</td><td>411.29</td><td>NULL</td><td>ce.data.55c.FinancialActivities.ProductionEmployeeHoursAndEarnings.csv</td><td>CEU5500000031</td><td>55</td><td>55000000</td><td>31</td><td>U</td><td>Average weekly earnings of production and nonsupervisory employees</td></tr>",
                            "<tr><td>4</td><td>CEU5500000032</td><td>2016</td><td>M13</td><td>11.15</td><td>NULL</td><td>ce.data.55c.FinancialActivities.ProductionEmployeeHoursAndEarnings.csv</td><td>CEU5500000032</td><td>55</td><td>55000000</td><td>32</td><td>U</td><td>Average hourly earnings of production and nonsupervisory employees</td></tr>",
                            "<tr><td>5</td><td>CEU5500000034</td><td>2016</td><td>M13</td><td>111.6</td><td>NULL</td><td>ce.data.55c.FinancialActivities.ProductionEmployeeHoursAndEarnings.csv</td><td>CEU5500000034</td><td>55</td><td>55000000</td><td>34</td><td>U</td><td>Indexes of aggregate weekly hours of production and nonsupervisory employees</td></tr>",
                            "<tr><td>6</td><td>CEU5500000035</td><td>2016</td><td>M13</td><td>179.2</td><td>NULL</td><td>ce.data.55c.FinancialActivities.ProductionEmployeeHoursAndEarnings.csv</td><td>CEU5500000035</td><td>55</td><td>55000000</td><td>35</td><td>U</td><td>Indexes of aggregate weekly payrolls of production and nonsupervisory employees</td></tr>",
                            "<tr><td>7</td><td>CEU5500000081</td><td>2016</td><td>M13</td><td>236997</td><td>NULL</td><td>ce.data.55c.FinancialActivities.ProductionEmployeeHoursAndEarnings.csv</td><td>CEU5500000081</td><td>55</td><td>55000000</td><td>81</td><td>U</td><td>Aggregate weekly hours of production and nonsupervisory employees</td></tr>",
                            "<tr><td>8</td><td>CEU5500000082</td><td>2016</td><td>M13</td><td>6189003</td><td>NULL</td><td>ce.data.55c.FinancialActivities.ProductionEmployeeHoursAndEarnings.csv</td><td>CEU5500000082</td><td>55</td><td>55000000</td><td>82</td><td>U</td><td>Aggregate weekly payrolls of production and nonsupervisory employees</td></tr>",
                            "<tr><td>9</td><td>CEU5552200007</td><td>2016</td><td>M13</td><td>37.3</td><td>NULL</td><td>ce.data.55c.FinancialActivities.ProductionEmployeeHoursAndEarnings.csv</td><td>CEU5552200007</td><td>55</td><td>55522000</td><td>7</td><td>U</td><td>Average weekly hours of production and nonsupervisory employees</td></tr>",
                            "</table>"
                        ]
                    }
                }
            ],
            "execution_count": 6
        },
        {
            "cell_type": "markdown",
            "source": [
                "2. <span style=\"background-color: rgb(255, 255, 255); font-size: 10pt; white-space: pre-wrap; color: rgb(102, 102, 102); font-family: Arvo, serif;\">Join series and datatype on data_type_code</span>\n",
                "\n",
                "<span style=\"font-size: 13.3333px; white-space: pre-wrap;\">I used a full join becuase we want all relevant data from both tables.</span>"
            ],
            "metadata": {
                "azdata_cell_guid": "710b59ae-224b-4f9d-b1a4-4a6b89048bbb"
            },
            "attachments": {}
        },
        {
            "cell_type": "code",
            "source": [
                "SELECT TOP(10) *\n",
                "FROM LaborStatisticsDB.dbo.series as s FULL JOIN LaborStatisticsDB.dbo.datatype as dt \n",
                "ON s.data_type_code = dt.data_type_code"
            ],
            "metadata": {
                "azdata_cell_guid": "fca61371-c9b5-4823-a4b4-34c1279ece3e",
                "language": "sql"
            },
            "outputs": [
                {
                    "output_type": "display_data",
                    "data": {
                        "text/html": "(10 rows affected)"
                    },
                    "metadata": {}
                },
                {
                    "output_type": "display_data",
                    "data": {
                        "text/html": "Total execution time: 00:00:00.105"
                    },
                    "metadata": {}
                },
                {
                    "output_type": "execute_result",
                    "metadata": {},
                    "execution_count": 9,
                    "data": {
                        "application/vnd.dataresource+json": {
                            "schema": {
                                "fields": [
                                    {
                                        "name": "series_id"
                                    },
                                    {
                                        "name": "supersector_code"
                                    },
                                    {
                                        "name": "industry_code"
                                    },
                                    {
                                        "name": "data_type_code"
                                    },
                                    {
                                        "name": "seasonal"
                                    },
                                    {
                                        "name": "series_title"
                                    },
                                    {
                                        "name": "data_type_code"
                                    },
                                    {
                                        "name": "data_type_text"
                                    }
                                ]
                            },
                            "data": [
                                {
                                    "series_id": "CES0000000001",
                                    "supersector_code": "0",
                                    "industry_code": "00000000",
                                    "data_type_code": "1",
                                    "seasonal": "S",
                                    "series_title": "All employees",
                                    "data_type_text": "ALL EMPLOYEES"
                                },
                                {
                                    "series_id": "CES0000000010",
                                    "supersector_code": "0",
                                    "industry_code": "00000000",
                                    "data_type_code": "10",
                                    "seasonal": "S",
                                    "series_title": "Women employees",
                                    "data_type_text": "WOMEN EMPLOYEES"
                                },
                                {
                                    "series_id": "CES0000000025",
                                    "supersector_code": "0",
                                    "industry_code": "00000000",
                                    "data_type_code": "25",
                                    "seasonal": "S",
                                    "series_title": "All employees",
                                    "data_type_text": "ALL EMPLOYEES"
                                },
                                {
                                    "series_id": "CES0000000026",
                                    "supersector_code": "0",
                                    "industry_code": "00000000",
                                    "data_type_code": "26",
                                    "seasonal": "S",
                                    "series_title": "All employees",
                                    "data_type_text": "ALL EMPLOYEES"
                                },
                                {
                                    "series_id": "CES0500000001",
                                    "supersector_code": "5",
                                    "industry_code": "05000000",
                                    "data_type_code": "1",
                                    "seasonal": "S",
                                    "series_title": "All employees",
                                    "data_type_text": "ALL EMPLOYEES"
                                },
                                {
                                    "series_id": "CES0500000002",
                                    "supersector_code": "5",
                                    "industry_code": "05000000",
                                    "data_type_code": "2",
                                    "seasonal": "S",
                                    "series_title": "Average weekly hours of all employees",
                                    "data_type_text": "AVERAGE WEEKLY HOURS OF ALL EMPLOYEES"
                                },
                                {
                                    "series_id": "CES0500000003",
                                    "supersector_code": "5",
                                    "industry_code": "05000000",
                                    "data_type_code": "3",
                                    "seasonal": "S",
                                    "series_title": "Average hourly earnings of all employees",
                                    "data_type_text": "AVERAGE HOURLY EARNINGS OF ALL EMPLOYEES"
                                },
                                {
                                    "series_id": "CES0500000006",
                                    "supersector_code": "5",
                                    "industry_code": "05000000",
                                    "data_type_code": "6",
                                    "seasonal": "S",
                                    "series_title": "Production and nonsupervisory employees",
                                    "data_type_text": "PRODUCTION AND NONSUPERVISORY EMPLOYEES"
                                },
                                {
                                    "series_id": "CES0500000007",
                                    "supersector_code": "5",
                                    "industry_code": "05000000",
                                    "data_type_code": "7",
                                    "seasonal": "S",
                                    "series_title": "Average weekly hours of production and nonsupervisory employees",
                                    "data_type_text": "AVERAGE WEEKLY HOURS OF PRODUCTION AND NONSUPERVISORY EMPLOYEES"
                                },
                                {
                                    "series_id": "CES0500000008",
                                    "supersector_code": "5",
                                    "industry_code": "05000000",
                                    "data_type_code": "8",
                                    "seasonal": "S",
                                    "series_title": "Average hourly earnings of production and nonsupervisory employees",
                                    "data_type_text": "AVERAGE HOURLY EARNINGS OF PRODUCTION AND NONSUPERVISORY EMPLOYEES"
                                }
                            ]
                        },
                        "text/html": [
                            "<table>",
                            "<tr><th>series_id</th><th>supersector_code</th><th>industry_code</th><th>data_type_code</th><th>seasonal</th><th>series_title</th><th>data_type_code</th><th>data_type_text</th></tr>",
                            "<tr><td>CES0000000001</td><td>0</td><td>00000000</td><td>1</td><td>S</td><td>All employees</td><td>1</td><td>ALL EMPLOYEES</td></tr>",
                            "<tr><td>CES0000000010</td><td>0</td><td>00000000</td><td>10</td><td>S</td><td>Women employees</td><td>10</td><td>WOMEN EMPLOYEES</td></tr>",
                            "<tr><td>CES0000000025</td><td>0</td><td>00000000</td><td>25</td><td>S</td><td>All employees</td><td>25</td><td>ALL EMPLOYEES</td></tr>",
                            "<tr><td>CES0000000026</td><td>0</td><td>00000000</td><td>26</td><td>S</td><td>All employees</td><td>26</td><td>ALL EMPLOYEES</td></tr>",
                            "<tr><td>CES0500000001</td><td>5</td><td>05000000</td><td>1</td><td>S</td><td>All employees</td><td>1</td><td>ALL EMPLOYEES</td></tr>",
                            "<tr><td>CES0500000002</td><td>5</td><td>05000000</td><td>2</td><td>S</td><td>Average weekly hours of all employees</td><td>2</td><td>AVERAGE WEEKLY HOURS OF ALL EMPLOYEES</td></tr>",
                            "<tr><td>CES0500000003</td><td>5</td><td>05000000</td><td>3</td><td>S</td><td>Average hourly earnings of all employees</td><td>3</td><td>AVERAGE HOURLY EARNINGS OF ALL EMPLOYEES</td></tr>",
                            "<tr><td>CES0500000006</td><td>5</td><td>05000000</td><td>6</td><td>S</td><td>Production and nonsupervisory employees</td><td>6</td><td>PRODUCTION AND NONSUPERVISORY EMPLOYEES</td></tr>",
                            "<tr><td>CES0500000007</td><td>5</td><td>05000000</td><td>7</td><td>S</td><td>Average weekly hours of production and nonsupervisory employees</td><td>7</td><td>AVERAGE WEEKLY HOURS OF PRODUCTION AND NONSUPERVISORY EMPLOYEES</td></tr>",
                            "<tr><td>CES0500000008</td><td>5</td><td>05000000</td><td>8</td><td>S</td><td>Average hourly earnings of production and nonsupervisory employees</td><td>8</td><td>AVERAGE HOURLY EARNINGS OF PRODUCTION AND NONSUPERVISORY EMPLOYEES</td></tr>",
                            "</table>"
                        ]
                    }
                }
            ],
            "execution_count": 9
        },
        {
            "cell_type": "markdown",
            "source": [
                "3. <span style=\"background-color: rgb(255, 255, 255); font-size: 10pt; white-space: pre-wrap; color: rgb(102, 102, 102); font-family: Arvo, serif;\">Join series and industry on industry_code</span>\n",
                "\n",
                "<span style=\"font-size: 13.3333px; white-space: pre-wrap;\">I used a full join becuase we want all relevant data from both tables.</span>"
            ],
            "metadata": {
                "azdata_cell_guid": "78ac8ba4-2a6a-426f-af30-6b56d9d09054"
            },
            "attachments": {}
        },
        {
            "cell_type": "code",
            "source": [
                "SELECT TOP(10) * \n",
                "FROM LaborStatisticsDB.dbo.series as s FULL JOIN LaborStatisticsDB.dbo.industry as i \n",
                "ON s.industry_code = i.industry_code"
            ],
            "metadata": {
                "azdata_cell_guid": "ac022766-e280-4d95-8362-1f2b18773662",
                "language": "sql"
            },
            "outputs": [
                {
                    "output_type": "display_data",
                    "data": {
                        "text/html": "(10 rows affected)"
                    },
                    "metadata": {}
                },
                {
                    "output_type": "display_data",
                    "data": {
                        "text/html": "Total execution time: 00:00:00.134"
                    },
                    "metadata": {}
                },
                {
                    "output_type": "execute_result",
                    "metadata": {},
                    "execution_count": 10,
                    "data": {
                        "application/vnd.dataresource+json": {
                            "schema": {
                                "fields": [
                                    {
                                        "name": "series_id"
                                    },
                                    {
                                        "name": "supersector_code"
                                    },
                                    {
                                        "name": "industry_code"
                                    },
                                    {
                                        "name": "data_type_code"
                                    },
                                    {
                                        "name": "seasonal"
                                    },
                                    {
                                        "name": "series_title"
                                    },
                                    {
                                        "name": "id"
                                    },
                                    {
                                        "name": "industry_code"
                                    },
                                    {
                                        "name": "naics_code"
                                    },
                                    {
                                        "name": "publishing_status"
                                    },
                                    {
                                        "name": "industry_name"
                                    },
                                    {
                                        "name": "display_level"
                                    },
                                    {
                                        "name": "selectable"
                                    },
                                    {
                                        "name": "sort_sequence"
                                    }
                                ]
                            },
                            "data": [
                                {
                                    "series_id": "CES0000000001",
                                    "supersector_code": "0",
                                    "industry_code": "0",
                                    "data_type_code": "1",
                                    "seasonal": "S",
                                    "series_title": "All employees",
                                    "id": "0",
                                    "naics_code": "-",
                                    "publishing_status": "B",
                                    "industry_name": "Total nonfarm",
                                    "display_level": "0",
                                    "selectable": "T",
                                    "sort_sequence": "1"
                                },
                                {
                                    "series_id": "CES0000000010",
                                    "supersector_code": "0",
                                    "industry_code": "0",
                                    "data_type_code": "10",
                                    "seasonal": "S",
                                    "series_title": "Women employees",
                                    "id": "0",
                                    "naics_code": "-",
                                    "publishing_status": "B",
                                    "industry_name": "Total nonfarm",
                                    "display_level": "0",
                                    "selectable": "T",
                                    "sort_sequence": "1"
                                },
                                {
                                    "series_id": "CES0000000025",
                                    "supersector_code": "0",
                                    "industry_code": "0",
                                    "data_type_code": "25",
                                    "seasonal": "S",
                                    "series_title": "All employees",
                                    "id": "0",
                                    "naics_code": "-",
                                    "publishing_status": "B",
                                    "industry_name": "Total nonfarm",
                                    "display_level": "0",
                                    "selectable": "T",
                                    "sort_sequence": "1"
                                },
                                {
                                    "series_id": "CES0000000026",
                                    "supersector_code": "0",
                                    "industry_code": "0",
                                    "data_type_code": "26",
                                    "seasonal": "S",
                                    "series_title": "All employees",
                                    "id": "0",
                                    "naics_code": "-",
                                    "publishing_status": "B",
                                    "industry_name": "Total nonfarm",
                                    "display_level": "0",
                                    "selectable": "T",
                                    "sort_sequence": "1"
                                },
                                {
                                    "series_id": "CES0500000001",
                                    "supersector_code": "5",
                                    "industry_code": "5000000",
                                    "data_type_code": "1",
                                    "seasonal": "S",
                                    "series_title": "All employees",
                                    "id": "1",
                                    "naics_code": "-",
                                    "publishing_status": "A",
                                    "industry_name": "Total private",
                                    "display_level": "1",
                                    "selectable": "T",
                                    "sort_sequence": "2"
                                },
                                {
                                    "series_id": "CES0500000002",
                                    "supersector_code": "5",
                                    "industry_code": "5000000",
                                    "data_type_code": "2",
                                    "seasonal": "S",
                                    "series_title": "Average weekly hours of all employees",
                                    "id": "1",
                                    "naics_code": "-",
                                    "publishing_status": "A",
                                    "industry_name": "Total private",
                                    "display_level": "1",
                                    "selectable": "T",
                                    "sort_sequence": "2"
                                },
                                {
                                    "series_id": "CES0500000003",
                                    "supersector_code": "5",
                                    "industry_code": "5000000",
                                    "data_type_code": "3",
                                    "seasonal": "S",
                                    "series_title": "Average hourly earnings of all employees",
                                    "id": "1",
                                    "naics_code": "-",
                                    "publishing_status": "A",
                                    "industry_name": "Total private",
                                    "display_level": "1",
                                    "selectable": "T",
                                    "sort_sequence": "2"
                                },
                                {
                                    "series_id": "CES0500000006",
                                    "supersector_code": "5",
                                    "industry_code": "5000000",
                                    "data_type_code": "6",
                                    "seasonal": "S",
                                    "series_title": "Production and nonsupervisory employees",
                                    "id": "1",
                                    "naics_code": "-",
                                    "publishing_status": "A",
                                    "industry_name": "Total private",
                                    "display_level": "1",
                                    "selectable": "T",
                                    "sort_sequence": "2"
                                },
                                {
                                    "series_id": "CES0500000007",
                                    "supersector_code": "5",
                                    "industry_code": "5000000",
                                    "data_type_code": "7",
                                    "seasonal": "S",
                                    "series_title": "Average weekly hours of production and nonsupervisory employees",
                                    "id": "1",
                                    "naics_code": "-",
                                    "publishing_status": "A",
                                    "industry_name": "Total private",
                                    "display_level": "1",
                                    "selectable": "T",
                                    "sort_sequence": "2"
                                },
                                {
                                    "series_id": "CES0500000008",
                                    "supersector_code": "5",
                                    "industry_code": "5000000",
                                    "data_type_code": "8",
                                    "seasonal": "S",
                                    "series_title": "Average hourly earnings of production and nonsupervisory employees",
                                    "id": "1",
                                    "naics_code": "-",
                                    "publishing_status": "A",
                                    "industry_name": "Total private",
                                    "display_level": "1",
                                    "selectable": "T",
                                    "sort_sequence": "2"
                                }
                            ]
                        },
                        "text/html": [
                            "<table>",
                            "<tr><th>series_id</th><th>supersector_code</th><th>industry_code</th><th>data_type_code</th><th>seasonal</th><th>series_title</th><th>id</th><th>industry_code</th><th>naics_code</th><th>publishing_status</th><th>industry_name</th><th>display_level</th><th>selectable</th><th>sort_sequence</th></tr>",
                            "<tr><td>CES0000000001</td><td>0</td><td>00000000</td><td>1</td><td>S</td><td>All employees</td><td>0</td><td>0</td><td>-</td><td>B</td><td>Total nonfarm</td><td>0</td><td>T</td><td>1</td></tr>",
                            "<tr><td>CES0000000010</td><td>0</td><td>00000000</td><td>10</td><td>S</td><td>Women employees</td><td>0</td><td>0</td><td>-</td><td>B</td><td>Total nonfarm</td><td>0</td><td>T</td><td>1</td></tr>",
                            "<tr><td>CES0000000025</td><td>0</td><td>00000000</td><td>25</td><td>S</td><td>All employees</td><td>0</td><td>0</td><td>-</td><td>B</td><td>Total nonfarm</td><td>0</td><td>T</td><td>1</td></tr>",
                            "<tr><td>CES0000000026</td><td>0</td><td>00000000</td><td>26</td><td>S</td><td>All employees</td><td>0</td><td>0</td><td>-</td><td>B</td><td>Total nonfarm</td><td>0</td><td>T</td><td>1</td></tr>",
                            "<tr><td>CES0500000001</td><td>5</td><td>05000000</td><td>1</td><td>S</td><td>All employees</td><td>1</td><td>5000000</td><td>-</td><td>A</td><td>Total private</td><td>1</td><td>T</td><td>2</td></tr>",
                            "<tr><td>CES0500000002</td><td>5</td><td>05000000</td><td>2</td><td>S</td><td>Average weekly hours of all employees</td><td>1</td><td>5000000</td><td>-</td><td>A</td><td>Total private</td><td>1</td><td>T</td><td>2</td></tr>",
                            "<tr><td>CES0500000003</td><td>5</td><td>05000000</td><td>3</td><td>S</td><td>Average hourly earnings of all employees</td><td>1</td><td>5000000</td><td>-</td><td>A</td><td>Total private</td><td>1</td><td>T</td><td>2</td></tr>",
                            "<tr><td>CES0500000006</td><td>5</td><td>05000000</td><td>6</td><td>S</td><td>Production and nonsupervisory employees</td><td>1</td><td>5000000</td><td>-</td><td>A</td><td>Total private</td><td>1</td><td>T</td><td>2</td></tr>",
                            "<tr><td>CES0500000007</td><td>5</td><td>05000000</td><td>7</td><td>S</td><td>Average weekly hours of production and nonsupervisory employees</td><td>1</td><td>5000000</td><td>-</td><td>A</td><td>Total private</td><td>1</td><td>T</td><td>2</td></tr>",
                            "<tr><td>CES0500000008</td><td>5</td><td>05000000</td><td>8</td><td>S</td><td>Average hourly earnings of production and nonsupervisory employees</td><td>1</td><td>5000000</td><td>-</td><td>A</td><td>Total private</td><td>1</td><td>T</td><td>2</td></tr>",
                            "</table>"
                        ]
                    }
                }
            ],
            "execution_count": 10
        },
        {
            "cell_type": "markdown",
            "source": [
                "## <span style=\"font-size: 12pt; font-family: Montserrat, sans-serif; color: rgb(53, 74, 95); background-color: rgb(255, 255, 255); font-weight: 700; font-variant-numeric: normal; font-variant-east-asian: normal; vertical-align: baseline; white-space: pre-wrap;\">Aggregate Your Friends and Code some SQL</span>\n",
                "\n",
                "<span style=\"font-size: 10pt; font-family: Arvo, serif; color: rgb(102, 102, 102); background-color: rgb(255, 255, 255); font-variant-numeric: normal; font-variant-east-asian: normal; vertical-align: baseline; white-space: pre-wrap;\">Put together the following:</span>\n",
                "\n",
                "1. <span style=\"background-color: rgb(255, 255, 255); font-size: 10pt; white-space: pre-wrap; color: rgb(102, 102, 102); font-family: Arvo, serif;\">How many employees were reported in 2016 in all industries? Round to the nearest whole number.&nbsp; No chopping people into little bits, please.</span>\n",
                "\n",
                "<span style=\"font-size: 13.3333px; white-space: pre-wrap;\">There were 2,340,612 employees reported in 2016 in all industries.</span>"
            ],
            "metadata": {
                "azdata_cell_guid": "f4290cc1-f824-4586-8850-59d926bf4460"
            },
            "attachments": {}
        },
        {
            "cell_type": "code",
            "source": [
                "SELECT SUM(value) as 'Sum of All Employees in 2016'\n",
                "FROM LaborStatisticsDB.dbo.annual_2016 as a16 LEFT JOIN LaborStatisticsDB.dbo.series as s \n",
                "ON a16.series_id = s.series_id \n",
                "WHERE data_type_code = 1 OR data_type_code = 26 OR data_type_code = 25\n",
                "\n",
                ""
            ],
            "metadata": {
                "azdata_cell_guid": "25099068-a629-4eb5-afca-ed3748c40605",
                "language": "sql",
                "tags": [
                    "hide_input"
                ]
            },
            "outputs": [
                {
                    "output_type": "display_data",
                    "data": {
                        "text/html": "(1 row affected)"
                    },
                    "metadata": {}
                },
                {
                    "output_type": "display_data",
                    "data": {
                        "text/html": "Total execution time: 00:00:00.128"
                    },
                    "metadata": {}
                },
                {
                    "output_type": "execute_result",
                    "metadata": {},
                    "execution_count": 22,
                    "data": {
                        "application/vnd.dataresource+json": {
                            "schema": {
                                "fields": [
                                    {
                                        "name": "Sum of All Employees in 2016"
                                    }
                                ]
                            },
                            "data": [
                                {
                                    "Sum of All Employees in 2016": "2340612.2000000016"
                                }
                            ]
                        },
                        "text/html": [
                            "<table>",
                            "<tr><th>Sum of All Employees in 2016</th></tr>",
                            "<tr><td>2340612.2000000016</td></tr>",
                            "</table>"
                        ]
                    }
                }
            ],
            "execution_count": 22
        },
        {
            "cell_type": "markdown",
            "source": [
                "2. <span style=\"background-color: rgb(255, 255, 255); font-size: 10pt; white-space: pre-wrap; color: rgb(102, 102, 102); font-family: Arvo, serif;\">How many women employees were reported in 2016 in all industries? Round to the nearest whole number.&nbsp;</span> \n",
                "\n",
                "<span style=\"font-size: 13.3333px; white-space: pre-wrap;\">There were 1,125,489 women employees in reported in 2016.</span>"
            ],
            "metadata": {
                "azdata_cell_guid": "6358fab4-b933-4646-bef1-4be66dcd4317"
            },
            "attachments": {}
        },
        {
            "cell_type": "code",
            "source": [
                "SELECT SUM(value) as 'Sum of Women Employees in 2016'\n",
                "FROM LaborStatisticsDB.dbo.annual_2016 as a16 LEFT JOIN LaborStatisticsDB.dbo.series as s \n",
                "ON a16.series_id = s.series_id \n",
                "WHERE data_type_code = 10"
            ],
            "metadata": {
                "azdata_cell_guid": "7bb0bfb7-b9e3-4672-b354-7ca705bb0c3b",
                "language": "sql",
                "tags": [
                    "hide_input"
                ]
            },
            "outputs": [
                {
                    "output_type": "display_data",
                    "data": {
                        "text/html": "(1 row affected)"
                    },
                    "metadata": {}
                },
                {
                    "output_type": "display_data",
                    "data": {
                        "text/html": "Total execution time: 00:00:00.129"
                    },
                    "metadata": {}
                },
                {
                    "output_type": "execute_result",
                    "metadata": {},
                    "execution_count": 23,
                    "data": {
                        "application/vnd.dataresource+json": {
                            "schema": {
                                "fields": [
                                    {
                                        "name": "Sum of Women Employees in 2016"
                                    }
                                ]
                            },
                            "data": [
                                {
                                    "Sum of Women Employees in 2016": "1125489.6000000008"
                                }
                            ]
                        },
                        "text/html": [
                            "<table>",
                            "<tr><th>Sum of Women Employees in 2016</th></tr>",
                            "<tr><td>1125489.6000000008</td></tr>",
                            "</table>"
                        ]
                    }
                }
            ],
            "execution_count": 23
        },
        {
            "cell_type": "markdown",
            "source": [
                "3. <span style=\"background-color: rgb(255, 255, 255); color: rgb(102, 102, 102); font-family: Arvo, serif; font-size: 10pt; white-space: pre-wrap;\">How many production/nonsupervisory employees were reported in 2016? Round to the nearest whole number.&nbsp;</span> \n",
                "\n",
                "<span style=\"font-size: 13.3333px; white-space: pre-wrap;\">There were 1,263,649 production/nonsupervisory employees reported in 2016.</span>"
            ],
            "metadata": {
                "azdata_cell_guid": "246ea683-2075-4337-878d-fbfdd49b2dd7"
            },
            "attachments": {}
        },
        {
            "cell_type": "code",
            "source": [
                "SELECT SUM(value) as 'Sum of Production/Nonsupervisory Employees in 2016'\n",
                "FROM LaborStatisticsDB.dbo.annual_2016 as a16 LEFT JOIN LaborStatisticsDB.dbo.series as s \n",
                "ON a16.series_id = s.series_id \n",
                "WHERE data_type_code = 6"
            ],
            "metadata": {
                "azdata_cell_guid": "110f2591-069b-4bbe-87c7-2bcf76c3d36f",
                "language": "sql",
                "tags": [
                    "hide_input"
                ]
            },
            "outputs": [
                {
                    "output_type": "display_data",
                    "data": {
                        "text/html": "(1 row affected)"
                    },
                    "metadata": {}
                },
                {
                    "output_type": "display_data",
                    "data": {
                        "text/html": "Total execution time: 00:00:00.125"
                    },
                    "metadata": {}
                },
                {
                    "output_type": "execute_result",
                    "metadata": {},
                    "execution_count": 24,
                    "data": {
                        "application/vnd.dataresource+json": {
                            "schema": {
                                "fields": [
                                    {
                                        "name": "Sum of Production/Nonsupervisory Employees in 2016"
                                    }
                                ]
                            },
                            "data": [
                                {
                                    "Sum of Production/Nonsupervisory Employees in 2016": "1263649.6000000008"
                                }
                            ]
                        },
                        "text/html": [
                            "<table>",
                            "<tr><th>Sum of Production/Nonsupervisory Employees in 2016</th></tr>",
                            "<tr><td>1263649.6000000008</td></tr>",
                            "</table>"
                        ]
                    }
                }
            ],
            "execution_count": 24
        },
        {
            "cell_type": "markdown",
            "source": [
                "4. <span style=\"background-color: rgb(255, 255, 255); font-size: 10pt; white-space: pre-wrap; color: rgb(102, 102, 102); font-family: Arvo, serif;\">In January 2017, what is the average weekly hours worked by production and nonsupervisory employees across all industries?</span>\n",
                "\n",
                "<span style=\"font-size: 13.3333px; white-space: pre-wrap;\">The average weekly hours of production/nonsupervisory employees was reported as 36.06 hours in January 2017.</span>"
            ],
            "metadata": {
                "azdata_cell_guid": "9caa7f57-e39d-4b7a-b705-25f8fe29d60b"
            },
            "attachments": {}
        },
        {
            "cell_type": "code",
            "source": [
                "SELECT AVG(value) as \"Average Weekly Hours Worked by Production/Nonsupervisory Employees\"\n",
                "FROM LaborStatisticsDB.dbo.january_2017 as j17 LEFT JOIN LaborStatisticsDB.dbo.series as s \n",
                "ON j17.series_id = s.series_id\n",
                "WHERE data_type_code = 7"
            ],
            "metadata": {
                "azdata_cell_guid": "9f07fa8a-4217-439a-a9cd-831240d4bc9e",
                "language": "sql",
                "tags": [
                    "hide_input"
                ]
            },
            "outputs": [
                {
                    "output_type": "display_data",
                    "data": {
                        "text/html": "(1 row affected)"
                    },
                    "metadata": {}
                },
                {
                    "output_type": "display_data",
                    "data": {
                        "text/html": "Total execution time: 00:00:00.138"
                    },
                    "metadata": {}
                },
                {
                    "output_type": "execute_result",
                    "metadata": {},
                    "execution_count": 27,
                    "data": {
                        "application/vnd.dataresource+json": {
                            "schema": {
                                "fields": [
                                    {
                                        "name": "Average Weekly Hours Worked by Production/Nonsupervisory Employees"
                                    }
                                ]
                            },
                            "data": [
                                {
                                    "Average Weekly Hours Worked by Production/Nonsupervisory Employees": "36.05862068965521"
                                }
                            ]
                        },
                        "text/html": [
                            "<table>",
                            "<tr><th>Average Weekly Hours Worked by Production/Nonsupervisory Employees</th></tr>",
                            "<tr><td>36.05862068965521</td></tr>",
                            "</table>"
                        ]
                    }
                }
            ],
            "execution_count": 27
        },
        {
            "cell_type": "markdown",
            "source": [
                "5. <span style=\"background-color: rgb(255, 255, 255); font-size: 10pt; white-space: pre-wrap; color: rgb(102, 102, 102); font-family: Arvo, serif;\">What is the total weekly payroll for production and nonsupervisory employees across all industries in January 2017? Round to the nearest penny, please.</span>\n",
                "\n",
                "<span style=\"font-size: 13.3333px; white-space: pre-wrap;\">The total weekly payroll for production/nonsupervisory employees in all industries in January 2017 was $1,838,753,220. I used the data_type_code for the aggregate weekly payroll becuase that gives us the total amount.</span>"
            ],
            "metadata": {
                "azdata_cell_guid": "9c48ff2e-a6eb-4f02-8df2-988e219fbc00"
            },
            "attachments": {}
        },
        {
            "cell_type": "code",
            "source": [
                "SELECT SUM(value) as 'Total Weekly Payroll for Production/Nonsupervisory Employees'\n",
                "FROM LaborStatisticsDB.dbo.january_2017 as j17 LEFT JOIN LaborStatisticsDB.dbo.series as s \n",
                "ON j17.series_id = s.series_id\n",
                "WHERE data_type_code = 82"
            ],
            "metadata": {
                "azdata_cell_guid": "d823f17b-1d63-4a24-9272-f9c340eac561",
                "language": "sql",
                "tags": [
                    "hide_input"
                ]
            },
            "outputs": [
                {
                    "output_type": "display_data",
                    "data": {
                        "text/html": "(1 row affected)"
                    },
                    "metadata": {}
                },
                {
                    "output_type": "display_data",
                    "data": {
                        "text/html": "Total execution time: 00:00:00.135"
                    },
                    "metadata": {}
                },
                {
                    "output_type": "execute_result",
                    "metadata": {},
                    "execution_count": 43,
                    "data": {
                        "application/vnd.dataresource+json": {
                            "schema": {
                                "fields": [
                                    {
                                        "name": "Total Weekly Payroll for Production/Nonsupervisory Employees"
                                    }
                                ]
                            },
                            "data": [
                                {
                                    "Total Weekly Payroll for Production/Nonsupervisory Employees": "1838753220"
                                }
                            ]
                        },
                        "text/html": [
                            "<table>",
                            "<tr><th>Total Weekly Payroll for Production/Nonsupervisory Employees</th></tr>",
                            "<tr><td>1838753220</td></tr>",
                            "</table>"
                        ]
                    }
                }
            ],
            "execution_count": 43
        },
        {
            "cell_type": "markdown",
            "source": [
                "6. <span style=\"background-color: rgb(255, 255, 255); font-size: 10pt; white-space: pre-wrap; color: rgb(102, 102, 102); font-family: Arvo, serif;\">In January 2017, which industry was the average weekly hours worked by production and nonsupervisory employees the highest? Which industry was the lowest?</span>\n",
                "\n",
                "<span style=\"font-size: 13.3333px; white-space: pre-wrap;\">The Motor Vehicle Power Train Components industry had the highest average weekly hours worked by production/nonsupervisory employees at 49.6 hours. Fitness and Recreational Sports industry had the lowest </span> <span style=\"font-size: 13.3333px; white-space: pre-wrap; font-family: -apple-system, BlinkMacSystemFont, sans-serif; color: var(--vscode-foreground);\">average weekly hours worked by production/nonsupervisory employees at 16.85 hours.</span>"
            ],
            "metadata": {
                "azdata_cell_guid": "862fd406-4fff-49bb-9d2b-232275a06405"
            },
            "attachments": {}
        },
        {
            "cell_type": "code",
            "source": [
                "\n",
                "SELECT TOP(1) AVG(Value) as 'Average weekly hours worked by production/nonsupervisory employees', s.industry_code, i.industry_name\n",
                "FROM LaborStatisticsDB.dbo.january_2017 as j17 \n",
                "LEFT JOIN LaborStatisticsDB.dbo.series as s \n",
                "ON j17.series_id = s.series_id\n",
                "JOIN LaborStatisticsDB.dbo.industry as i \n",
                "ON s.industry_code = i.industry_code\n",
                "WHERE data_type_code = 7\n",
                "GROUP BY s.industry_code, i.industry_name\n",
                "ORDER BY AVG(value) DESC\n",
                "\n",
                "SELECT TOP(1) AVG(Value) as 'Average weekly hours worked by production/nonsupervisory employees', s.industry_code, i.industry_name\n",
                "FROM LaborStatisticsDB.dbo.january_2017 as j17 \n",
                "LEFT JOIN LaborStatisticsDB.dbo.series as s \n",
                "ON j17.series_id = s.series_id\n",
                "JOIN LaborStatisticsDB.dbo.industry as i \n",
                "ON s.industry_code = i.industry_code\n",
                "WHERE data_type_code = 7\n",
                "GROUP BY s.industry_code, i.industry_name\n",
                "ORDER BY AVG(value) ASC\n",
                "\n",
                "\n",
                "\n",
                ""
            ],
            "metadata": {
                "azdata_cell_guid": "01e11050-5f2f-4d22-92e0-2b3024b80a5f",
                "language": "sql"
            },
            "outputs": [
                {
                    "output_type": "display_data",
                    "data": {
                        "text/html": "(1 row affected)"
                    },
                    "metadata": {}
                },
                {
                    "output_type": "display_data",
                    "data": {
                        "text/html": "(1 row affected)"
                    },
                    "metadata": {}
                },
                {
                    "output_type": "display_data",
                    "data": {
                        "text/html": "Total execution time: 00:00:00.248"
                    },
                    "metadata": {}
                },
                {
                    "output_type": "execute_result",
                    "metadata": {},
                    "execution_count": 69,
                    "data": {
                        "application/vnd.dataresource+json": {
                            "schema": {
                                "fields": [
                                    {
                                        "name": "Average weekly hours worked by production/nonsupervisory employees"
                                    },
                                    {
                                        "name": "industry_code"
                                    },
                                    {
                                        "name": "industry_name"
                                    }
                                ]
                            },
                            "data": [
                                {
                                    "Average weekly hours worked by production/nonsupervisory employees": "49.6",
                                    "industry_code": "31336350",
                                    "industry_name": "Motor vehicle power train components"
                                }
                            ]
                        },
                        "text/html": [
                            "<table>",
                            "<tr><th>Average weekly hours worked by production/nonsupervisory employees</th><th>industry_code</th><th>industry_name</th></tr>",
                            "<tr><td>49.6</td><td>31336350</td><td>Motor vehicle power train components</td></tr>",
                            "</table>"
                        ]
                    }
                },
                {
                    "output_type": "execute_result",
                    "metadata": {},
                    "execution_count": 69,
                    "data": {
                        "application/vnd.dataresource+json": {
                            "schema": {
                                "fields": [
                                    {
                                        "name": "Average weekly hours worked by production/nonsupervisory employees"
                                    },
                                    {
                                        "name": "industry_code"
                                    },
                                    {
                                        "name": "industry_name"
                                    }
                                ]
                            },
                            "data": [
                                {
                                    "Average weekly hours worked by production/nonsupervisory employees": "16.85",
                                    "industry_code": "70713940",
                                    "industry_name": "Fitness and recreational sports centers"
                                }
                            ]
                        },
                        "text/html": [
                            "<table>",
                            "<tr><th>Average weekly hours worked by production/nonsupervisory employees</th><th>industry_code</th><th>industry_name</th></tr>",
                            "<tr><td>16.85</td><td>70713940</td><td>Fitness and recreational sports centers</td></tr>",
                            "</table>"
                        ]
                    }
                }
            ],
            "execution_count": 69
        },
        {
            "cell_type": "markdown",
            "source": [
                "7. <span style=\"background-color: rgb(255, 255, 255); font-size: 10pt; white-space: pre-wrap; color: rgb(102, 102, 102); font-family: Arvo, serif;\">In January 2021, which industry was the total weekly payroll for production and nonsupervisory employees the highest? Which industry was the lowest?</span>\n",
                "\n",
                "<span style=\"font-size: 13.3333px; white-space: pre-wrap;\">Total private industry had the highest total weekly payroll for production and nonsupervisory employees at $295,944,946. Coin-operated laundries and drycleaners </span> <span style=\"color: rgb(102, 102, 102); font-family: Arvo, serif; font-size: 13.3333px; white-space: pre-wrap;\">industry had the lowest total weekly payroll for production and nonsupervisory employees at $40,448.</span>"
            ],
            "metadata": {
                "azdata_cell_guid": "a53f4113-60c6-46d1-b9a3-34610c61d4f9"
            },
            "attachments": {}
        },
        {
            "cell_type": "code",
            "source": [
                "SELECT TOP(1) SUM(Value) as 'Total Weekly Payroll', s.industry_code, i.industry_name\n",
                "FROM LaborStatisticsDB.dbo.january_2017 as j17 \n",
                "LEFT JOIN LaborStatisticsDB.dbo.series as s \n",
                "ON j17.series_id = s.series_id\n",
                "JOIN LaborStatisticsDB.dbo.industry as i \n",
                "ON s.industry_code = i.industry_code\n",
                "WHERE data_type_code = 82\n",
                "GROUP BY s.industry_code, i.industry_name\n",
                "ORDER BY SUM(value) DESC\n",
                "\n",
                "SELECT TOP(1) SUM(Value) as 'Total Weekly Payroll', s.industry_code, i.industry_name\n",
                "FROM LaborStatisticsDB.dbo.january_2017 as j17 \n",
                "LEFT JOIN LaborStatisticsDB.dbo.series as s \n",
                "ON j17.series_id = s.series_id\n",
                "JOIN LaborStatisticsDB.dbo.industry as i \n",
                "ON s.industry_code = i.industry_code\n",
                "WHERE data_type_code = 82\n",
                "GROUP BY s.industry_code, i.industry_name\n",
                "ORDER BY SUM(value) ASC"
            ],
            "metadata": {
                "azdata_cell_guid": "583695e6-7438-4e03-8970-1fe0c677a793",
                "language": "sql"
            },
            "outputs": [
                {
                    "output_type": "display_data",
                    "data": {
                        "text/html": "(1 row affected)"
                    },
                    "metadata": {}
                },
                {
                    "output_type": "display_data",
                    "data": {
                        "text/html": "(1 row affected)"
                    },
                    "metadata": {}
                },
                {
                    "output_type": "display_data",
                    "data": {
                        "text/html": "Total execution time: 00:00:00.208"
                    },
                    "metadata": {}
                },
                {
                    "output_type": "execute_result",
                    "metadata": {},
                    "execution_count": 76,
                    "data": {
                        "application/vnd.dataresource+json": {
                            "schema": {
                                "fields": [
                                    {
                                        "name": "Total Weekly Payroll"
                                    },
                                    {
                                        "name": "industry_code"
                                    },
                                    {
                                        "name": "industry_name"
                                    }
                                ]
                            },
                            "data": [
                                {
                                    "Total Weekly Payroll": "295944946",
                                    "industry_code": "05000000",
                                    "industry_name": "Total private"
                                }
                            ]
                        },
                        "text/html": [
                            "<table>",
                            "<tr><th>Total Weekly Payroll</th><th>industry_code</th><th>industry_name</th></tr>",
                            "<tr><td>295944946</td><td>05000000</td><td>Total private</td></tr>",
                            "</table>"
                        ]
                    }
                },
                {
                    "output_type": "execute_result",
                    "metadata": {},
                    "execution_count": 76,
                    "data": {
                        "application/vnd.dataresource+json": {
                            "schema": {
                                "fields": [
                                    {
                                        "name": "Total Weekly Payroll"
                                    },
                                    {
                                        "name": "industry_code"
                                    },
                                    {
                                        "name": "industry_name"
                                    }
                                ]
                            },
                            "data": [
                                {
                                    "Total Weekly Payroll": "40448",
                                    "industry_code": "80812310",
                                    "industry_name": "Coin-operated laundries and drycleaners"
                                }
                            ]
                        },
                        "text/html": [
                            "<table>",
                            "<tr><th>Total Weekly Payroll</th><th>industry_code</th><th>industry_name</th></tr>",
                            "<tr><td>40448</td><td>80812310</td><td>Coin-operated laundries and drycleaners</td></tr>",
                            "</table>"
                        ]
                    }
                }
            ],
            "execution_count": 76
        },
        {
            "cell_type": "markdown",
            "source": [
                "## <span style=\"font-size: 12pt; font-family: Montserrat, sans-serif; color: rgb(53, 74, 95); background-color: rgb(255, 255, 255); font-weight: 700; font-variant-numeric: normal; font-variant-east-asian: normal; vertical-align: baseline; white-space: pre-wrap;\">Subqueries, Unions, Derived Tables, Oh My!</span>\n",
                "\n",
                "1. <span style=\"background-color: rgb(255, 255, 255); font-size: 10pt; white-space: pre-wrap; color: rgb(102, 102, 102); font-family: Arvo, serif;\">Write a query that returns the series_id, industry_code, industry_name, and value from the january_2017 table but only if that value is greater than the average value for annual_2016 of data_type_code 82.</span>\n",
                "\n",
                "<span style=\"font-size: 13.3333px; white-space: pre-wrap;\">I first wrote a query to return the average value from the annual_2016 table of data_type_code 82 by joining the annual_2016 table with the series table. I then used that query in a subquery to only return values from the january_2017 table that were greater than that average. I used three joins to join the janurary 2017, series, and industry table so my query could return the industry name and code in one outcome. I ordered by ASC to ensure the lowest value was greater than the average of the 2016 table of data_type_code 82. I then filtered the january 17 table to the data code 82 as well so I was comparing the same values.</span>"
            ],
            "metadata": {
                "azdata_cell_guid": "e98ec195-5399-4718-83ef-54fb954662a5"
            },
            "attachments": {}
        },
        {
            "cell_type": "code",
            "source": [
                "SELECT j17.series_id, s.industry_code, i.industry_name, value \n",
                "FROM LaborStatisticsDB.dbo.january_2017 as j17 LEFT JOIN LaborStatisticsDB.dbo.series as s\n",
                "ON j17.series_id = s.series_id JOIN LaborStatisticsDB.dbo.industry as i\n",
                "ON s.industry_code = i.industry_code\n",
                "WHERE data_type_code = 82 AND value > (SELECT AVG(value)\n",
                "                FROM LaborStatisticsDB.dbo.annual_2016 AS a16 LEFT JOIN LaborStatisticsDB.DBO.series AS s\n",
                "                ON a16.series_id = s.series_id\n",
                "                WHERE data_type_code = 82)\n",
                "ORDER BY value ASC"
            ],
            "metadata": {
                "azdata_cell_guid": "7c85f70b-528f-4cbd-bd8e-a6efab1c18df",
                "language": "sql",
                "tags": []
            },
            "outputs": [
                {
                    "output_type": "display_data",
                    "data": {
                        "text/html": "(294 rows affected)"
                    },
                    "metadata": {}
                },
                {
                    "output_type": "display_data",
                    "data": {
                        "text/html": "Total execution time: 00:00:00.511"
                    },
                    "metadata": {}
                },
                {
                    "output_type": "execute_result",
                    "metadata": {},
                    "execution_count": 112,
                    "data": {
                        "application/vnd.dataresource+json": {
                            "schema": {
                                "fields": [
                                    {
                                        "name": "series_id"
                                    },
                                    {
                                        "name": "industry_code"
                                    },
                                    {
                                        "name": "industry_name"
                                    },
                                    {
                                        "name": "value"
                                    }
                                ]
                            },
                            "data": [
                                {
                                    "series_id": "CES4244511082",
                                    "industry_code": "42445110",
                                    "industry_name": "Supermarkets and other grocery stores",
                                    "value": "821282"
                                },
                                {
                                    "series_id": "CES4244511082",
                                    "industry_code": "42445110",
                                    "industry_name": "Supermarkets and other grocery stores",
                                    "value": "821282"
                                },
                                {
                                    "series_id": "CES6562410082",
                                    "industry_code": "65624100",
                                    "industry_name": "Individual and family services",
                                    "value": "828771"
                                },
                                {
                                    "series_id": "CES6562410082",
                                    "industry_code": "65624100",
                                    "industry_name": "Individual and family services",
                                    "value": "828771"
                                },
                                {
                                    "series_id": "CEU4244110082",
                                    "industry_code": "42441100",
                                    "industry_name": "Automobile dealers",
                                    "value": "831131"
                                },
                                {
                                    "series_id": "CEU4244110082",
                                    "industry_code": "42441100",
                                    "industry_name": "Automobile dealers",
                                    "value": "831131"
                                },
                                {
                                    "series_id": "CES4142512082",
                                    "industry_code": "41425120",
                                    "industry_name": "Wholesale trade agents and brokers",
                                    "value": "831319"
                                },
                                {
                                    "series_id": "CES4142512082",
                                    "industry_code": "41425120",
                                    "industry_name": "Wholesale trade agents and brokers",
                                    "value": "831319"
                                },
                                {
                                    "series_id": "CEU6562410082",
                                    "industry_code": "65624100",
                                    "industry_name": "Individual and family services",
                                    "value": "838886"
                                },
                                {
                                    "series_id": "CEU6562410082",
                                    "industry_code": "65624100",
                                    "industry_name": "Individual and family services",
                                    "value": "838886"
                                },
                                {
                                    "series_id": "CES4244110082",
                                    "industry_code": "42441100",
                                    "industry_name": "Automobile dealers",
                                    "value": "839595"
                                },
                                {
                                    "series_id": "CES4244110082",
                                    "industry_code": "42441100",
                                    "industry_name": "Automobile dealers",
                                    "value": "839595"
                                },
                                {
                                    "series_id": "CEU3231100082",
                                    "industry_code": "32311000",
                                    "industry_name": "Food manufacturing",
                                    "value": "842201"
                                },
                                {
                                    "series_id": "CEU3231100082",
                                    "industry_code": "32311000",
                                    "industry_name": "Food manufacturing",
                                    "value": "842201"
                                },
                                {
                                    "series_id": "CES6056170082",
                                    "industry_code": "60561700",
                                    "industry_name": "Services to buildings and dwellings",
                                    "value": "846000"
                                },
                                {
                                    "series_id": "CES6056170082",
                                    "industry_code": "60561700",
                                    "industry_name": "Services to buildings and dwellings",
                                    "value": "846000"
                                },
                                {
                                    "series_id": "CES3231100082",
                                    "industry_code": "32311000",
                                    "industry_name": "Food manufacturing",
                                    "value": "851406"
                                },
                                {
                                    "series_id": "CES3231100082",
                                    "industry_code": "32311000",
                                    "industry_name": "Food manufacturing",
                                    "value": "851406"
                                },
                                {
                                    "series_id": "CEU4142512082",
                                    "industry_code": "41425120",
                                    "industry_name": "Wholesale trade agents and brokers",
                                    "value": "851551"
                                },
                                {
                                    "series_id": "CEU4142512082",
                                    "industry_code": "41425120",
                                    "industry_name": "Wholesale trade agents and brokers",
                                    "value": "851551"
                                },
                                {
                                    "series_id": "CES4142500082",
                                    "industry_code": "41425000",
                                    "industry_name": "Electronic markets and agents and brokers",
                                    "value": "855291"
                                },
                                {
                                    "series_id": "CES4142500082",
                                    "industry_code": "41425000",
                                    "industry_name": "Electronic markets and agents and brokers",
                                    "value": "855291"
                                },
                                {
                                    "series_id": "CEU4244510082",
                                    "industry_code": "42445100",
                                    "industry_name": "Grocery stores",
                                    "value": "861224"
                                },
                                {
                                    "series_id": "CEU4244510082",
                                    "industry_code": "42445100",
                                    "industry_name": "Grocery stores",
                                    "value": "861224"
                                },
                                {
                                    "series_id": "CES5553100082",
                                    "industry_code": "55531000",
                                    "industry_name": "Real estate",
                                    "value": "862987"
                                },
                                {
                                    "series_id": "CES5553100082",
                                    "industry_code": "55531000",
                                    "industry_name": "Real estate",
                                    "value": "862987"
                                },
                                {
                                    "series_id": "CEU5553100082",
                                    "industry_code": "55531000",
                                    "industry_name": "Real estate",
                                    "value": "865620"
                                },
                                {
                                    "series_id": "CEU5553100082",
                                    "industry_code": "55531000",
                                    "industry_name": "Real estate",
                                    "value": "865620"
                                },
                                {
                                    "series_id": "CEU3133200082",
                                    "industry_code": "31332000",
                                    "industry_name": "Fabricated metal products",
                                    "value": "867242"
                                },
                                {
                                    "series_id": "CEU3133200082",
                                    "industry_code": "31332000",
                                    "industry_name": "Fabricated metal products",
                                    "value": "867242"
                                },
                                {
                                    "series_id": "CES4244510082",
                                    "industry_code": "42445100",
                                    "industry_name": "Grocery stores",
                                    "value": "868430"
                                },
                                {
                                    "series_id": "CES4244510082",
                                    "industry_code": "42445100",
                                    "industry_name": "Grocery stores",
                                    "value": "868430"
                                },
                                {
                                    "series_id": "CES3133200082",
                                    "industry_code": "31332000",
                                    "industry_name": "Fabricated metal products",
                                    "value": "871298"
                                },
                                {
                                    "series_id": "CES3133200082",
                                    "industry_code": "31332000",
                                    "industry_name": "Fabricated metal products",
                                    "value": "871298"
                                },
                                {
                                    "series_id": "CES5552420082",
                                    "industry_code": "55524200",
                                    "industry_name": "Insurance agencies",
                                    "value": "872398"
                                },
                                {
                                    "series_id": "CES5552420082",
                                    "industry_code": "55524200",
                                    "industry_name": "Insurance agencies",
                                    "value": "872398"
                                },
                                {
                                    "series_id": "CEU4142500082",
                                    "industry_code": "41425000",
                                    "industry_name": "Electronic markets and agents and brokers",
                                    "value": "873578"
                                },
                                {
                                    "series_id": "CEU4142500082",
                                    "industry_code": "41425000",
                                    "industry_name": "Electronic markets and agents and brokers",
                                    "value": "873578"
                                },
                                {
                                    "series_id": "CEU5552420082",
                                    "industry_code": "55524200",
                                    "industry_name": "Insurance agencies",
                                    "value": "894878"
                                },
                                {
                                    "series_id": "CEU5552420082",
                                    "industry_code": "55524200",
                                    "industry_name": "Insurance agencies",
                                    "value": "894878"
                                },
                                {
                                    "series_id": "CES2023700082",
                                    "industry_code": "20237000",
                                    "industry_name": "Heavy and civil engineering construction",
                                    "value": "908374"
                                },
                                {
                                    "series_id": "CES2023700082",
                                    "industry_code": "20237000",
                                    "industry_name": "Heavy and civil engineering construction",
                                    "value": "908374"
                                },
                                {
                                    "series_id": "CEU7072251382",
                                    "industry_code": "70722513",
                                    "industry_name": "Limited-service restaurants",
                                    "value": "922041"
                                },
                                {
                                    "series_id": "CEU7072251382",
                                    "industry_code": "70722513",
                                    "industry_name": "Limited-service restaurants",
                                    "value": "922041"
                                },
                                {
                                    "series_id": "CEU2023600082",
                                    "industry_code": "20236000",
                                    "industry_name": "Construction of buildings",
                                    "value": "940800"
                                },
                                {
                                    "series_id": "CEU2023600082",
                                    "industry_code": "20236000",
                                    "industry_name": "Construction of buildings",
                                    "value": "940800"
                                },
                                {
                                    "series_id": "CEU4244500082",
                                    "industry_code": "42445000",
                                    "industry_name": "Food and beverage stores",
                                    "value": "963315"
                                },
                                {
                                    "series_id": "CEU4244500082",
                                    "industry_code": "42445000",
                                    "industry_name": "Food and beverage stores",
                                    "value": "963315"
                                },
                                {
                                    "series_id": "CES7072251382",
                                    "industry_code": "70722513",
                                    "industry_name": "Limited-service restaurants",
                                    "value": "969748"
                                },
                                {
                                    "series_id": "CES7072251382",
                                    "industry_code": "70722513",
                                    "industry_name": "Limited-service restaurants",
                                    "value": "969748"
                                },
                                {
                                    "series_id": "CES5552210082",
                                    "industry_code": "55522100",
                                    "industry_name": "Depository credit intermediation",
                                    "value": "971796"
                                },
                                {
                                    "series_id": "CES5552210082",
                                    "industry_code": "55522100",
                                    "industry_name": "Depository credit intermediation",
                                    "value": "971796"
                                },
                                {
                                    "series_id": "CES4244500082",
                                    "industry_code": "42445000",
                                    "industry_name": "Food and beverage stores",
                                    "value": "974710"
                                },
                                {
                                    "series_id": "CES4244500082",
                                    "industry_code": "42445000",
                                    "industry_name": "Food and beverage stores",
                                    "value": "974710"
                                },
                                {
                                    "series_id": "CES6054111082",
                                    "industry_code": "60541110",
                                    "industry_name": "Offices of lawyers",
                                    "value": "1004009"
                                },
                                {
                                    "series_id": "CES6054111082",
                                    "industry_code": "60541110",
                                    "industry_name": "Offices of lawyers",
                                    "value": "1004009"
                                },
                                {
                                    "series_id": "CEU5552210082",
                                    "industry_code": "55522100",
                                    "industry_name": "Depository credit intermediation",
                                    "value": "1004069"
                                },
                                {
                                    "series_id": "CEU5552210082",
                                    "industry_code": "55522100",
                                    "industry_name": "Depository credit intermediation",
                                    "value": "1004069"
                                },
                                {
                                    "series_id": "CES2023600082",
                                    "industry_code": "20236000",
                                    "industry_name": "Construction of buildings",
                                    "value": "1008035"
                                },
                                {
                                    "series_id": "CES2023600082",
                                    "industry_code": "20236000",
                                    "industry_name": "Construction of buildings",
                                    "value": "1008035"
                                },
                                {
                                    "series_id": "CEU6054111082",
                                    "industry_code": "60541110",
                                    "industry_name": "Offices of lawyers",
                                    "value": "1038464"
                                },
                                {
                                    "series_id": "CEU6054111082",
                                    "industry_code": "60541110",
                                    "industry_name": "Offices of lawyers",
                                    "value": "1038464"
                                },
                                {
                                    "series_id": "CEU6054134082",
                                    "industry_code": "60541340",
                                    "industry_name": "NULL",
                                    "value": "1042223"
                                },
                                {
                                    "series_id": "CEU6054134082",
                                    "industry_code": "60541340",
                                    "industry_name": "NULL",
                                    "value": "1042223"
                                },
                                {
                                    "series_id": "CES5552300082",
                                    "industry_code": "55523000",
                                    "industry_name": "NULL",
                                    "value": "1044224"
                                },
                                {
                                    "series_id": "CES5552300082",
                                    "industry_code": "55523000",
                                    "industry_name": "NULL",
                                    "value": "1044224"
                                },
                                {
                                    "series_id": "CEU4245200082",
                                    "industry_code": "42452000",
                                    "industry_name": "General merchandise stores",
                                    "value": "1049973"
                                },
                                {
                                    "series_id": "CEU4245200082",
                                    "industry_code": "42452000",
                                    "industry_name": "General merchandise stores",
                                    "value": "1049973"
                                },
                                {
                                    "series_id": "CES6054134082",
                                    "industry_code": "60541340",
                                    "industry_name": "NULL",
                                    "value": "1051499"
                                },
                                {
                                    "series_id": "CES6054134082",
                                    "industry_code": "60541340",
                                    "industry_name": "NULL",
                                    "value": "1051499"
                                },
                                {
                                    "series_id": "CES6054161082",
                                    "industry_code": "60541610",
                                    "industry_name": "Management consulting services",
                                    "value": "1053691"
                                },
                                {
                                    "series_id": "CES6054161082",
                                    "industry_code": "60541610",
                                    "industry_name": "Management consulting services",
                                    "value": "1053691"
                                },
                                {
                                    "series_id": "CES6054110082",
                                    "industry_code": "60541100",
                                    "industry_name": "Legal services",
                                    "value": "1058862"
                                },
                                {
                                    "series_id": "CES6054110082",
                                    "industry_code": "60541100",
                                    "industry_name": "Legal services",
                                    "value": "1058862"
                                },
                                {
                                    "series_id": "CES4245200082",
                                    "industry_code": "42452000",
                                    "industry_name": "General merchandise stores",
                                    "value": "1065807"
                                },
                                {
                                    "series_id": "CES4245200082",
                                    "industry_code": "42452000",
                                    "industry_name": "General merchandise stores",
                                    "value": "1065807"
                                },
                                {
                                    "series_id": "CEU6054161082",
                                    "industry_code": "60541610",
                                    "industry_name": "Management consulting services",
                                    "value": "1066602"
                                },
                                {
                                    "series_id": "CEU6054161082",
                                    "industry_code": "60541610",
                                    "industry_name": "Management consulting services",
                                    "value": "1066602"
                                },
                                {
                                    "series_id": "CEU5552300082",
                                    "industry_code": "55523000",
                                    "industry_name": "NULL",
                                    "value": "1087325"
                                },
                                {
                                    "series_id": "CEU5552300082",
                                    "industry_code": "55523000",
                                    "industry_name": "NULL",
                                    "value": "1087325"
                                },
                                {
                                    "series_id": "CEU4348400082",
                                    "industry_code": "43484000",
                                    "industry_name": "Truck transportation",
                                    "value": "1092427"
                                },
                                {
                                    "series_id": "CEU4348400082",
                                    "industry_code": "43484000",
                                    "industry_name": "Truck transportation",
                                    "value": "1092427"
                                },
                                {
                                    "series_id": "CEU6054110082",
                                    "industry_code": "60541100",
                                    "industry_name": "Legal services",
                                    "value": "1093898"
                                },
                                {
                                    "series_id": "CEU6054110082",
                                    "industry_code": "60541100",
                                    "industry_name": "Legal services",
                                    "value": "1093898"
                                },
                                {
                                    "series_id": "CES4348400082",
                                    "industry_code": "43484000",
                                    "industry_name": "Truck transportation",
                                    "value": "1131821"
                                },
                                {
                                    "series_id": "CES4348400082",
                                    "industry_code": "43484000",
                                    "industry_name": "Truck transportation",
                                    "value": "1131821"
                                },
                                {
                                    "series_id": "CEU4244100082",
                                    "industry_code": "42441000",
                                    "industry_name": "Motor vehicle and parts dealers",
                                    "value": "1163420"
                                },
                                {
                                    "series_id": "CEU4244100082",
                                    "industry_code": "42441000",
                                    "industry_name": "Motor vehicle and parts dealers",
                                    "value": "1163420"
                                },
                                {
                                    "series_id": "CES6054151182",
                                    "industry_code": "60541511",
                                    "industry_name": "Custom computer programming services",
                                    "value": "1173494"
                                },
                                {
                                    "series_id": "CES6054151182",
                                    "industry_code": "60541511",
                                    "industry_name": "Custom computer programming services",
                                    "value": "1173494"
                                },
                                {
                                    "series_id": "CES4244100082",
                                    "industry_code": "42441000",
                                    "industry_name": "Motor vehicle and parts dealers",
                                    "value": "1180297"
                                },
                                {
                                    "series_id": "CES4244100082",
                                    "industry_code": "42441000",
                                    "industry_name": "Motor vehicle and parts dealers",
                                    "value": "1180297"
                                },
                                {
                                    "series_id": "CEU6054151182",
                                    "industry_code": "60541511",
                                    "industry_name": "Custom computer programming services",
                                    "value": "1198283"
                                },
                                {
                                    "series_id": "CEU6054151182",
                                    "industry_code": "60541511",
                                    "industry_name": "Custom computer programming services",
                                    "value": "1198283"
                                },
                                {
                                    "series_id": "CEU3133600082",
                                    "industry_code": "31336000",
                                    "industry_name": "Transportation equipment",
                                    "value": "1242685"
                                },
                                {
                                    "series_id": "CEU3133600082",
                                    "industry_code": "31336000",
                                    "industry_name": "Transportation equipment",
                                    "value": "1242685"
                                },
                                {
                                    "series_id": "CES3133600082",
                                    "industry_code": "31336000",
                                    "industry_name": "Transportation equipment",
                                    "value": "1257764"
                                },
                                {
                                    "series_id": "CES3133600082",
                                    "industry_code": "31336000",
                                    "industry_name": "Transportation equipment",
                                    "value": "1257764"
                                },
                                {
                                    "series_id": "CES6054151282",
                                    "industry_code": "60541512",
                                    "industry_name": "Computer systems design services",
                                    "value": "1274481"
                                },
                                {
                                    "series_id": "CES6054151282",
                                    "industry_code": "60541512",
                                    "industry_name": "Computer systems design services",
                                    "value": "1274481"
                                },
                                {
                                    "series_id": "CEU6054151282",
                                    "industry_code": "60541512",
                                    "industry_name": "Computer systems design services",
                                    "value": "1309441"
                                },
                                {
                                    "series_id": "CEU6054151282",
                                    "industry_code": "60541512",
                                    "industry_name": "Computer systems design services",
                                    "value": "1309441"
                                },
                                {
                                    "series_id": "CES6054160082",
                                    "industry_code": "60541600",
                                    "industry_name": "Management and technical consulting services",
                                    "value": "1330587"
                                },
                                {
                                    "series_id": "CES6054160082",
                                    "industry_code": "60541600",
                                    "industry_name": "Management and technical consulting services",
                                    "value": "1330587"
                                },
                                {
                                    "series_id": "CEU6054160082",
                                    "industry_code": "60541600",
                                    "industry_name": "Management and technical consulting services",
                                    "value": "1336594"
                                },
                                {
                                    "series_id": "CEU6054160082",
                                    "industry_code": "60541600",
                                    "industry_name": "Management and technical consulting services",
                                    "value": "1336594"
                                },
                                {
                                    "series_id": "CES6562400082",
                                    "industry_code": "65624000",
                                    "industry_name": "Social assistance",
                                    "value": "1337022"
                                },
                                {
                                    "series_id": "CES6562400082",
                                    "industry_code": "65624000",
                                    "industry_name": "Social assistance",
                                    "value": "1337022"
                                },
                                {
                                    "series_id": "CEU4142400082",
                                    "industry_code": "41424000",
                                    "industry_name": "Nondurable goods",
                                    "value": "1348136"
                                },
                                {
                                    "series_id": "CEU4142400082",
                                    "industry_code": "41424000",
                                    "industry_name": "Nondurable goods",
                                    "value": "1348136"
                                },
                                {
                                    "series_id": "CEU6562400082",
                                    "industry_code": "65624000",
                                    "industry_name": "Social assistance",
                                    "value": "1357629"
                                },
                                {
                                    "series_id": "CEU6562400082",
                                    "industry_code": "65624000",
                                    "industry_name": "Social assistance",
                                    "value": "1357629"
                                },
                                {
                                    "series_id": "CES4142400082",
                                    "industry_code": "41424000",
                                    "industry_name": "Nondurable goods",
                                    "value": "1367413"
                                },
                                {
                                    "series_id": "CES4142400082",
                                    "industry_code": "41424000",
                                    "industry_name": "Nondurable goods",
                                    "value": "1367413"
                                },
                                {
                                    "series_id": "CEU6054130082",
                                    "industry_code": "60541300",
                                    "industry_name": "Architectural and engineering services",
                                    "value": "1422967"
                                },
                                {
                                    "series_id": "CEU6054130082",
                                    "industry_code": "60541300",
                                    "industry_name": "Architectural and engineering services",
                                    "value": "1422967"
                                },
                                {
                                    "series_id": "CES6054130082",
                                    "industry_code": "60541300",
                                    "industry_name": "Architectural and engineering services",
                                    "value": "1439445"
                                },
                                {
                                    "series_id": "CES6054130082",
                                    "industry_code": "60541300",
                                    "industry_name": "Architectural and engineering services",
                                    "value": "1439445"
                                },
                                {
                                    "series_id": "CES5552410082",
                                    "industry_code": "55524100",
                                    "industry_name": "Insurance carriers",
                                    "value": "1477799"
                                },
                                {
                                    "series_id": "CES5552410082",
                                    "industry_code": "55524100",
                                    "industry_name": "Insurance carriers",
                                    "value": "1477799"
                                },
                                {
                                    "series_id": "CES6562300082",
                                    "industry_code": "65623000",
                                    "industry_name": "Nursing and residential care facilities",
                                    "value": "1489277"
                                },
                                {
                                    "series_id": "CES6562300082",
                                    "industry_code": "65623000",
                                    "industry_name": "Nursing and residential care facilities",
                                    "value": "1489277"
                                },
                                {
                                    "series_id": "CES6055111482",
                                    "industry_code": "60551114",
                                    "industry_name": "Managing offices",
                                    "value": "1496334"
                                },
                                {
                                    "series_id": "CES6055111482",
                                    "industry_code": "60551114",
                                    "industry_name": "Managing offices",
                                    "value": "1496334"
                                },
                                {
                                    "series_id": "CEU5552410082",
                                    "industry_code": "55524100",
                                    "industry_name": "Insurance carriers",
                                    "value": "1509979"
                                },
                                {
                                    "series_id": "CEU5552410082",
                                    "industry_code": "55524100",
                                    "industry_name": "Insurance carriers",
                                    "value": "1509979"
                                },
                                {
                                    "series_id": "CEU6055111482",
                                    "industry_code": "60551114",
                                    "industry_name": "Managing offices",
                                    "value": "1517287"
                                },
                                {
                                    "series_id": "CEU6055111482",
                                    "industry_code": "60551114",
                                    "industry_name": "Managing offices",
                                    "value": "1517287"
                                },
                                {
                                    "series_id": "CEU6562300082",
                                    "industry_code": "65623000",
                                    "industry_name": "Nursing and residential care facilities",
                                    "value": "1525889"
                                },
                                {
                                    "series_id": "CEU6562300082",
                                    "industry_code": "65623000",
                                    "industry_name": "Nursing and residential care facilities",
                                    "value": "1525889"
                                },
                                {
                                    "series_id": "CEU7072251182",
                                    "industry_code": "70722511",
                                    "industry_name": "Full-service restaurants",
                                    "value": "1528888"
                                },
                                {
                                    "series_id": "CEU7072251182",
                                    "industry_code": "70722511",
                                    "industry_name": "Full-service restaurants",
                                    "value": "1528888"
                                },
                                {
                                    "series_id": "CEU6056132082",
                                    "industry_code": "60561320",
                                    "industry_name": "Temporary help services",
                                    "value": "1530782"
                                },
                                {
                                    "series_id": "CEU6056132082",
                                    "industry_code": "60561320",
                                    "industry_name": "Temporary help services",
                                    "value": "1530782"
                                },
                                {
                                    "series_id": "CES6055000082",
                                    "industry_code": "60550000",
                                    "industry_name": "Management of companies and enterprises",
                                    "value": "1566036"
                                },
                                {
                                    "series_id": "CES6055000082",
                                    "industry_code": "60550000",
                                    "industry_name": "Management of companies and enterprises",
                                    "value": "1566036"
                                },
                                {
                                    "series_id": "CEU6055000082",
                                    "industry_code": "60550000",
                                    "industry_name": "Management of companies and enterprises",
                                    "value": "1587677"
                                },
                                {
                                    "series_id": "CEU6055000082",
                                    "industry_code": "60550000",
                                    "industry_name": "Management of companies and enterprises",
                                    "value": "1587677"
                                },
                                {
                                    "series_id": "CEU8081300082",
                                    "industry_code": "80813000",
                                    "industry_name": "Membership associations and organizations",
                                    "value": "1594855"
                                },
                                {
                                    "series_id": "CEU8081300082",
                                    "industry_code": "80813000",
                                    "industry_name": "Membership associations and organizations",
                                    "value": "1594855"
                                },
                                {
                                    "series_id": "CES6056132082",
                                    "industry_code": "60561320",
                                    "industry_name": "Temporary help services",
                                    "value": "1598939"
                                },
                                {
                                    "series_id": "CES6056132082",
                                    "industry_code": "60561320",
                                    "industry_name": "Temporary help services",
                                    "value": "1598939"
                                },
                                {
                                    "series_id": "CES8081300082",
                                    "industry_code": "80813000",
                                    "industry_name": "Membership associations and organizations",
                                    "value": "1599916"
                                },
                                {
                                    "series_id": "CES8081300082",
                                    "industry_code": "80813000",
                                    "industry_name": "Membership associations and organizations",
                                    "value": "1599916"
                                },
                                {
                                    "series_id": "CEU2023820082",
                                    "industry_code": "20238200",
                                    "industry_name": "Building equipment contractors",
                                    "value": "1621266"
                                },
                                {
                                    "series_id": "CEU2023820082",
                                    "industry_code": "20238200",
                                    "industry_name": "Building equipment contractors",
                                    "value": "1621266"
                                },
                                {
                                    "series_id": "CES7072251182",
                                    "industry_code": "70722511",
                                    "industry_name": "Full-service restaurants",
                                    "value": "1626780"
                                },
                                {
                                    "series_id": "CES7072251182",
                                    "industry_code": "70722511",
                                    "industry_name": "Full-service restaurants",
                                    "value": "1626780"
                                },
                                {
                                    "series_id": "CES2023820082",
                                    "industry_code": "20238200",
                                    "industry_name": "Building equipment contractors",
                                    "value": "1696080"
                                },
                                {
                                    "series_id": "CES2023820082",
                                    "industry_code": "20238200",
                                    "industry_name": "Building equipment contractors",
                                    "value": "1696080"
                                },
                                {
                                    "series_id": "CES5552200082",
                                    "industry_code": "55522000",
                                    "industry_name": "Credit intermediation and related activities",
                                    "value": "1717912"
                                },
                                {
                                    "series_id": "CES5552200082",
                                    "industry_code": "55522000",
                                    "industry_name": "Credit intermediation and related activities",
                                    "value": "1717912"
                                },
                                {
                                    "series_id": "CEU5552200082",
                                    "industry_code": "55522000",
                                    "industry_name": "Credit intermediation and related activities",
                                    "value": "1767137"
                                },
                                {
                                    "series_id": "CEU5552200082",
                                    "industry_code": "55522000",
                                    "industry_name": "Credit intermediation and related activities",
                                    "value": "1767137"
                                },
                                {
                                    "series_id": "CEU6056130082",
                                    "industry_code": "60561300",
                                    "industry_name": "Employment services",
                                    "value": "1938059"
                                },
                                {
                                    "series_id": "CEU6056130082",
                                    "industry_code": "60561300",
                                    "industry_name": "Employment services",
                                    "value": "1938059"
                                },
                                {
                                    "series_id": "CES6056130082",
                                    "industry_code": "60561300",
                                    "industry_name": "Employment services",
                                    "value": "2013846"
                                },
                                {
                                    "series_id": "CES6056130082",
                                    "industry_code": "60561300",
                                    "industry_name": "Employment services",
                                    "value": "2013846"
                                },
                                {
                                    "series_id": "CES6562111182",
                                    "industry_code": "65621111",
                                    "industry_name": "Offices of physicians",
                                    "value": "2113086"
                                },
                                {
                                    "series_id": "CES6562111182",
                                    "industry_code": "65621111",
                                    "industry_name": "Offices of physicians",
                                    "value": "2113086"
                                },
                                {
                                    "series_id": "CEU6562111182",
                                    "industry_code": "65621111",
                                    "industry_name": "Offices of physicians",
                                    "value": "2121845"
                                },
                                {
                                    "series_id": "CEU6562111182",
                                    "industry_code": "65621111",
                                    "industry_name": "Offices of physicians",
                                    "value": "2121845"
                                },
                                {
                                    "series_id": "CES6562110082",
                                    "industry_code": "65621100",
                                    "industry_name": "Offices of physicians",
                                    "value": "2141331"
                                },
                                {
                                    "series_id": "CES6562110082",
                                    "industry_code": "65621100",
                                    "industry_name": "Offices of physicians",
                                    "value": "2141331"
                                },
                                {
                                    "series_id": "CEU6562110082",
                                    "industry_code": "65621100",
                                    "industry_name": "Offices of physicians",
                                    "value": "2149121"
                                },
                                {
                                    "series_id": "CEU6562110082",
                                    "industry_code": "65621100",
                                    "industry_name": "Offices of physicians",
                                    "value": "2149121"
                                },
                                {
                                    "series_id": "CES4142300082",
                                    "industry_code": "41423000",
                                    "industry_name": "Durable goods",
                                    "value": "2261006"
                                },
                                {
                                    "series_id": "CES4142300082",
                                    "industry_code": "41423000",
                                    "industry_name": "Durable goods",
                                    "value": "2261006"
                                },
                                {
                                    "series_id": "CEU4142300082",
                                    "industry_code": "41423000",
                                    "industry_name": "Durable goods",
                                    "value": "2283094"
                                },
                                {
                                    "series_id": "CEU4142300082",
                                    "industry_code": "41423000",
                                    "industry_name": "Durable goods",
                                    "value": "2283094"
                                },
                                {
                                    "series_id": "CES5552400082",
                                    "industry_code": "55524000",
                                    "industry_name": "Insurance carriers and related activities",
                                    "value": "2347328"
                                },
                                {
                                    "series_id": "CES5552400082",
                                    "industry_code": "55524000",
                                    "industry_name": "Insurance carriers and related activities",
                                    "value": "2347328"
                                },
                                {
                                    "series_id": "CEU5552400082",
                                    "industry_code": "55524000",
                                    "industry_name": "Insurance carriers and related activities",
                                    "value": "2408490"
                                },
                                {
                                    "series_id": "CEU5552400082",
                                    "industry_code": "55524000",
                                    "industry_name": "Insurance carriers and related activities",
                                    "value": "2408490"
                                },
                                {
                                    "series_id": "CES5000000082",
                                    "industry_code": "50000000",
                                    "industry_name": "Information",
                                    "value": "2416443"
                                },
                                {
                                    "series_id": "CES5000000082",
                                    "industry_code": "50000000",
                                    "industry_name": "Information",
                                    "value": "2416443"
                                },
                                {
                                    "series_id": "CEU5000000082",
                                    "industry_code": "50000000",
                                    "industry_name": "Information",
                                    "value": "2434992"
                                },
                                {
                                    "series_id": "CEU5000000082",
                                    "industry_code": "50000000",
                                    "industry_name": "Information",
                                    "value": "2434992"
                                },
                                {
                                    "series_id": "CEU3200000082",
                                    "industry_code": "32000000",
                                    "industry_name": "Nondurable goods",
                                    "value": "2605069"
                                },
                                {
                                    "series_id": "CEU3200000082",
                                    "industry_code": "32000000",
                                    "industry_name": "Nondurable goods",
                                    "value": "2605069"
                                },
                                {
                                    "series_id": "CEU7072250082",
                                    "industry_code": "70722500",
                                    "industry_name": "Restaurants and other eating places",
                                    "value": "2617225"
                                },
                                {
                                    "series_id": "CEU7072250082",
                                    "industry_code": "70722500",
                                    "industry_name": "Restaurants and other eating places",
                                    "value": "2617225"
                                },
                                {
                                    "series_id": "CES3200000082",
                                    "industry_code": "32000000",
                                    "industry_name": "Nondurable goods",
                                    "value": "2633628"
                                },
                                {
                                    "series_id": "CES3200000082",
                                    "industry_code": "32000000",
                                    "industry_name": "Nondurable goods",
                                    "value": "2633628"
                                },
                                {
                                    "series_id": "CES6054150082",
                                    "industry_code": "60541500",
                                    "industry_name": "Computer systems design and related services",
                                    "value": "2666568"
                                },
                                {
                                    "series_id": "CES6054150082",
                                    "industry_code": "60541500",
                                    "industry_name": "Computer systems design and related services",
                                    "value": "2666568"
                                },
                                {
                                    "series_id": "CEU6054150082",
                                    "industry_code": "60541500",
                                    "industry_name": "Computer systems design and related services",
                                    "value": "2725031"
                                },
                                {
                                    "series_id": "CEU6054150082",
                                    "industry_code": "60541500",
                                    "industry_name": "Computer systems design and related services",
                                    "value": "2725031"
                                },
                                {
                                    "series_id": "CES7072250082",
                                    "industry_code": "70722500",
                                    "industry_name": "Restaurants and other eating places",
                                    "value": "2768855"
                                },
                                {
                                    "series_id": "CES7072250082",
                                    "industry_code": "70722500",
                                    "industry_name": "Restaurants and other eating places",
                                    "value": "2768855"
                                },
                                {
                                    "series_id": "CEU8000000082",
                                    "industry_code": "80000000",
                                    "industry_name": "Other services",
                                    "value": "2836698"
                                },
                                {
                                    "series_id": "CEU8000000082",
                                    "industry_code": "80000000",
                                    "industry_name": "Other services",
                                    "value": "2836698"
                                },
                                {
                                    "series_id": "CES8000000082",
                                    "industry_code": "80000000",
                                    "industry_name": "Other services",
                                    "value": "2875314"
                                },
                                {
                                    "series_id": "CES8000000082",
                                    "industry_code": "80000000",
                                    "industry_name": "Other services",
                                    "value": "2875314"
                                },
                                {
                                    "series_id": "CEU7072200082",
                                    "industry_code": "70722000",
                                    "industry_name": "Food services and drinking places",
                                    "value": "2913295"
                                },
                                {
                                    "series_id": "CEU7072200082",
                                    "industry_code": "70722000",
                                    "industry_name": "Food services and drinking places",
                                    "value": "2913295"
                                },
                                {
                                    "series_id": "CEU2023800082",
                                    "industry_code": "20238000",
                                    "industry_name": "Specialty trade contractors",
                                    "value": "3062211"
                                },
                                {
                                    "series_id": "CEU2023800082",
                                    "industry_code": "20238000",
                                    "industry_name": "Specialty trade contractors",
                                    "value": "3062211"
                                },
                                {
                                    "series_id": "CES7072200082",
                                    "industry_code": "70722000",
                                    "industry_name": "Food services and drinking places",
                                    "value": "3085429"
                                },
                                {
                                    "series_id": "CES7072200082",
                                    "industry_code": "70722000",
                                    "industry_name": "Food services and drinking places",
                                    "value": "3085429"
                                },
                                {
                                    "series_id": "CES2023800082",
                                    "industry_code": "20238000",
                                    "industry_name": "Specialty trade contractors",
                                    "value": "3421902"
                                },
                                {
                                    "series_id": "CES2023800082",
                                    "industry_code": "20238000",
                                    "industry_name": "Specialty trade contractors",
                                    "value": "3421902"
                                },
                                {
                                    "series_id": "CEU4300000082",
                                    "industry_code": "43000000",
                                    "industry_name": "Transportation and warehousing",
                                    "value": "3495553"
                                },
                                {
                                    "series_id": "CEU4300000082",
                                    "industry_code": "43000000",
                                    "industry_name": "Transportation and warehousing",
                                    "value": "3495553"
                                },
                                {
                                    "series_id": "CES4300000082",
                                    "industry_code": "43000000",
                                    "industry_name": "Transportation and warehousing",
                                    "value": "3538683"
                                },
                                {
                                    "series_id": "CES4300000082",
                                    "industry_code": "43000000",
                                    "industry_name": "Transportation and warehousing",
                                    "value": "3538683"
                                },
                                {
                                    "series_id": "CEU7072000082",
                                    "industry_code": "70720000",
                                    "industry_name": "Accommodation and food services",
                                    "value": "3572648"
                                },
                                {
                                    "series_id": "CEU7072000082",
                                    "industry_code": "70720000",
                                    "industry_name": "Accommodation and food services",
                                    "value": "3572648"
                                },
                                {
                                    "series_id": "CES7072000082",
                                    "industry_code": "70720000",
                                    "industry_name": "Accommodation and food services",
                                    "value": "3802356"
                                },
                                {
                                    "series_id": "CES7072000082",
                                    "industry_code": "70720000",
                                    "industry_name": "Accommodation and food services",
                                    "value": "3802356"
                                },
                                {
                                    "series_id": "CEU7000000082",
                                    "industry_code": "70000000",
                                    "industry_name": "Leisure and hospitality",
                                    "value": "4224098"
                                },
                                {
                                    "series_id": "CEU7000000082",
                                    "industry_code": "70000000",
                                    "industry_name": "Leisure and hospitality",
                                    "value": "4224098"
                                },
                                {
                                    "series_id": "CEU6056100082",
                                    "industry_code": "60561000",
                                    "industry_name": "Administrative and support services",
                                    "value": "4357866"
                                },
                                {
                                    "series_id": "CEU6056100082",
                                    "industry_code": "60561000",
                                    "industry_name": "Administrative and support services",
                                    "value": "4357866"
                                },
                                {
                                    "series_id": "CES4142000082",
                                    "industry_code": "41420000",
                                    "industry_name": "Wholesale trade",
                                    "value": "4480134"
                                },
                                {
                                    "series_id": "CES4142000082",
                                    "industry_code": "41420000",
                                    "industry_name": "Wholesale trade",
                                    "value": "4480134"
                                },
                                {
                                    "series_id": "CEU4142000082",
                                    "industry_code": "41420000",
                                    "industry_name": "Wholesale trade",
                                    "value": "4506110"
                                },
                                {
                                    "series_id": "CEU4142000082",
                                    "industry_code": "41420000",
                                    "industry_name": "Wholesale trade",
                                    "value": "4506110"
                                },
                                {
                                    "series_id": "CES7000000082",
                                    "industry_code": "70000000",
                                    "industry_name": "Leisure and hospitality",
                                    "value": "4537173"
                                },
                                {
                                    "series_id": "CES7000000082",
                                    "industry_code": "70000000",
                                    "industry_name": "Leisure and hospitality",
                                    "value": "4537173"
                                },
                                {
                                    "series_id": "CES6056100082",
                                    "industry_code": "60561000",
                                    "industry_name": "Administrative and support services",
                                    "value": "4565569"
                                },
                                {
                                    "series_id": "CES6056100082",
                                    "industry_code": "60561000",
                                    "industry_name": "Administrative and support services",
                                    "value": "4565569"
                                },
                                {
                                    "series_id": "CEU6056000082",
                                    "industry_code": "60560000",
                                    "industry_name": "Administrative and waste services",
                                    "value": "4659531"
                                },
                                {
                                    "series_id": "CEU6056000082",
                                    "industry_code": "60560000",
                                    "industry_name": "Administrative and waste services",
                                    "value": "4659531"
                                },
                                {
                                    "series_id": "CES6562210082",
                                    "industry_code": "65622100",
                                    "industry_name": "General medical and surgical hospitals",
                                    "value": "4716914"
                                },
                                {
                                    "series_id": "CES6562210082",
                                    "industry_code": "65622100",
                                    "industry_name": "General medical and surgical hospitals",
                                    "value": "4716914"
                                },
                                {
                                    "series_id": "CEU2000000082",
                                    "industry_code": "20000000",
                                    "industry_name": "Construction",
                                    "value": "4724156"
                                },
                                {
                                    "series_id": "CEU2000000082",
                                    "industry_code": "20000000",
                                    "industry_name": "Construction",
                                    "value": "4724156"
                                },
                                {
                                    "series_id": "CEU6562210082",
                                    "industry_code": "65622100",
                                    "industry_name": "General medical and surgical hospitals",
                                    "value": "4773547"
                                },
                                {
                                    "series_id": "CEU6562210082",
                                    "industry_code": "65622100",
                                    "industry_name": "General medical and surgical hospitals",
                                    "value": "4773547"
                                },
                                {
                                    "series_id": "CEU3100000082",
                                    "industry_code": "31000000",
                                    "industry_name": "Durable goods",
                                    "value": "4808368"
                                },
                                {
                                    "series_id": "CEU3100000082",
                                    "industry_code": "31000000",
                                    "industry_name": "Durable goods",
                                    "value": "4808368"
                                },
                                {
                                    "series_id": "CES3100000082",
                                    "industry_code": "31000000",
                                    "industry_name": "Durable goods",
                                    "value": "4859716"
                                },
                                {
                                    "series_id": "CES3100000082",
                                    "industry_code": "31000000",
                                    "industry_name": "Durable goods",
                                    "value": "4859716"
                                },
                                {
                                    "series_id": "CES6562100082",
                                    "industry_code": "65621000",
                                    "industry_name": "Ambulatory health care services",
                                    "value": "4875906"
                                },
                                {
                                    "series_id": "CES6562100082",
                                    "industry_code": "65621000",
                                    "industry_name": "Ambulatory health care services",
                                    "value": "4875906"
                                },
                                {
                                    "series_id": "CES6056000082",
                                    "industry_code": "60560000",
                                    "industry_name": "Administrative and waste services",
                                    "value": "4886085"
                                },
                                {
                                    "series_id": "CES6056000082",
                                    "industry_code": "60560000",
                                    "industry_name": "Administrative and waste services",
                                    "value": "4886085"
                                },
                                {
                                    "series_id": "CEU6562100082",
                                    "industry_code": "65621000",
                                    "industry_name": "Ambulatory health care services",
                                    "value": "4907269"
                                },
                                {
                                    "series_id": "CEU6562100082",
                                    "industry_code": "65621000",
                                    "industry_name": "Ambulatory health care services",
                                    "value": "4907269"
                                },
                                {
                                    "series_id": "CES6562200082",
                                    "industry_code": "65622000",
                                    "industry_name": "Hospitals",
                                    "value": "5048432"
                                },
                                {
                                    "series_id": "CES6562200082",
                                    "industry_code": "65622000",
                                    "industry_name": "Hospitals",
                                    "value": "5048432"
                                },
                                {
                                    "series_id": "CEU6562200082",
                                    "industry_code": "65622000",
                                    "industry_name": "Hospitals",
                                    "value": "5105336"
                                },
                                {
                                    "series_id": "CEU6562200082",
                                    "industry_code": "65622000",
                                    "industry_name": "Hospitals",
                                    "value": "5105336"
                                },
                                {
                                    "series_id": "CES2000000082",
                                    "industry_code": "20000000",
                                    "industry_name": "Construction",
                                    "value": "5335274"
                                },
                                {
                                    "series_id": "CES2000000082",
                                    "industry_code": "20000000",
                                    "industry_name": "Construction",
                                    "value": "5335274"
                                },
                                {
                                    "series_id": "CEU4200000082",
                                    "industry_code": "42000000",
                                    "industry_name": "Retail trade",
                                    "value": "6060100"
                                },
                                {
                                    "series_id": "CEU4200000082",
                                    "industry_code": "42000000",
                                    "industry_name": "Retail trade",
                                    "value": "6060100"
                                },
                                {
                                    "series_id": "CES4200000082",
                                    "industry_code": "42000000",
                                    "industry_name": "Retail trade",
                                    "value": "6123554"
                                },
                                {
                                    "series_id": "CES4200000082",
                                    "industry_code": "42000000",
                                    "industry_name": "Retail trade",
                                    "value": "6123554"
                                },
                                {
                                    "series_id": "CES5500000082",
                                    "industry_code": "55000000",
                                    "industry_name": "Financial activities",
                                    "value": "6328968"
                                },
                                {
                                    "series_id": "CES5500000082",
                                    "industry_code": "55000000",
                                    "industry_name": "Financial activities",
                                    "value": "6328968"
                                },
                                {
                                    "series_id": "CEU5500000082",
                                    "industry_code": "55000000",
                                    "industry_name": "Financial activities",
                                    "value": "6467426"
                                },
                                {
                                    "series_id": "CEU5500000082",
                                    "industry_code": "55000000",
                                    "industry_name": "Financial activities",
                                    "value": "6467426"
                                },
                                {
                                    "series_id": "CEU3000000082",
                                    "industry_code": "30000000",
                                    "industry_name": "Manufacturing",
                                    "value": "7411960"
                                },
                                {
                                    "series_id": "CEU3000000082",
                                    "industry_code": "30000000",
                                    "industry_name": "Manufacturing",
                                    "value": "7411960"
                                },
                                {
                                    "series_id": "CES3000000082",
                                    "industry_code": "30000000",
                                    "industry_name": "Manufacturing",
                                    "value": "7491723"
                                },
                                {
                                    "series_id": "CES3000000082",
                                    "industry_code": "30000000",
                                    "industry_name": "Manufacturing",
                                    "value": "7491723"
                                },
                                {
                                    "series_id": "CES6054000082",
                                    "industry_code": "60540000",
                                    "industry_name": "Professional and technical services",
                                    "value": "8821026"
                                },
                                {
                                    "series_id": "CES6054000082",
                                    "industry_code": "60540000",
                                    "industry_name": "Professional and technical services",
                                    "value": "8821026"
                                },
                                {
                                    "series_id": "CEU6054000082",
                                    "industry_code": "60540000",
                                    "industry_name": "Professional and technical services",
                                    "value": "8976687"
                                },
                                {
                                    "series_id": "CEU6054000082",
                                    "industry_code": "60540000",
                                    "industry_name": "Professional and technical services",
                                    "value": "8976687"
                                },
                                {
                                    "series_id": "CES6562000182",
                                    "industry_code": "65620001",
                                    "industry_name": "NULL",
                                    "value": "11413008"
                                },
                                {
                                    "series_id": "CES6562000182",
                                    "industry_code": "65620001",
                                    "industry_name": "NULL",
                                    "value": "11413008"
                                },
                                {
                                    "series_id": "CEU6562000182",
                                    "industry_code": "65620001",
                                    "industry_name": "NULL",
                                    "value": "11537267"
                                },
                                {
                                    "series_id": "CEU6562000182",
                                    "industry_code": "65620001",
                                    "industry_name": "NULL",
                                    "value": "11537267"
                                },
                                {
                                    "series_id": "CEU0600000082",
                                    "industry_code": "06000000",
                                    "industry_name": "Goods-producing",
                                    "value": "12711945"
                                },
                                {
                                    "series_id": "CEU0600000082",
                                    "industry_code": "06000000",
                                    "industry_name": "Goods-producing",
                                    "value": "12711945"
                                },
                                {
                                    "series_id": "CES6562000082",
                                    "industry_code": "65620000",
                                    "industry_name": "Health care and social assistance",
                                    "value": "12762526"
                                },
                                {
                                    "series_id": "CES6562000082",
                                    "industry_code": "65620000",
                                    "industry_name": "Health care and social assistance",
                                    "value": "12762526"
                                },
                                {
                                    "series_id": "CEU6562000082",
                                    "industry_code": "65620000",
                                    "industry_name": "Health care and social assistance",
                                    "value": "12878462"
                                },
                                {
                                    "series_id": "CEU6562000082",
                                    "industry_code": "65620000",
                                    "industry_name": "Health care and social assistance",
                                    "value": "12878462"
                                },
                                {
                                    "series_id": "CES0600000082",
                                    "industry_code": "06000000",
                                    "industry_name": "Goods-producing",
                                    "value": "13426820"
                                },
                                {
                                    "series_id": "CES0600000082",
                                    "industry_code": "06000000",
                                    "industry_name": "Goods-producing",
                                    "value": "13426820"
                                },
                                {
                                    "series_id": "CEU4000000082",
                                    "industry_code": "40000000",
                                    "industry_name": "Trade",
                                    "value": "14732108"
                                },
                                {
                                    "series_id": "CEU4000000082",
                                    "industry_code": "40000000",
                                    "industry_name": "Trade",
                                    "value": "14732108"
                                },
                                {
                                    "series_id": "CES6500000082",
                                    "industry_code": "65000000",
                                    "industry_name": "Education and health services",
                                    "value": "14765156"
                                },
                                {
                                    "series_id": "CES6500000082",
                                    "industry_code": "65000000",
                                    "industry_name": "Education and health services",
                                    "value": "14765156"
                                },
                                {
                                    "series_id": "CEU6500000082",
                                    "industry_code": "65000000",
                                    "industry_name": "Education and health services",
                                    "value": "14816074"
                                },
                                {
                                    "series_id": "CEU6500000082",
                                    "industry_code": "65000000",
                                    "industry_name": "Education and health services",
                                    "value": "14816074"
                                },
                                {
                                    "series_id": "CES4000000082",
                                    "industry_code": "40000000",
                                    "industry_name": "Trade",
                                    "value": "14850661"
                                },
                                {
                                    "series_id": "CES4000000082",
                                    "industry_code": "40000000",
                                    "industry_name": "Trade",
                                    "value": "14850661"
                                },
                                {
                                    "series_id": "CEU6000000082",
                                    "industry_code": "60000000",
                                    "industry_name": "Professional and business services",
                                    "value": "15219807"
                                },
                                {
                                    "series_id": "CEU6000000082",
                                    "industry_code": "60000000",
                                    "industry_name": "Professional and business services",
                                    "value": "15219807"
                                },
                                {
                                    "series_id": "CES6000000082",
                                    "industry_code": "60000000",
                                    "industry_name": "Professional and business services",
                                    "value": "15251268"
                                },
                                {
                                    "series_id": "CES6000000082",
                                    "industry_code": "60000000",
                                    "industry_name": "Professional and business services",
                                    "value": "15251268"
                                },
                                {
                                    "series_id": "CEU0800000082",
                                    "industry_code": "08000000",
                                    "industry_name": "Private service-providing",
                                    "value": "60807771"
                                },
                                {
                                    "series_id": "CEU0800000082",
                                    "industry_code": "08000000",
                                    "industry_name": "Private service-providing",
                                    "value": "60807771"
                                },
                                {
                                    "series_id": "CES0800000082",
                                    "industry_code": "08000000",
                                    "industry_name": "Private service-providing",
                                    "value": "60914722"
                                },
                                {
                                    "series_id": "CES0800000082",
                                    "industry_code": "08000000",
                                    "industry_name": "Private service-providing",
                                    "value": "60914722"
                                },
                                {
                                    "series_id": "CEU0500000082",
                                    "industry_code": "05000000",
                                    "industry_name": "Total private",
                                    "value": "73474302"
                                },
                                {
                                    "series_id": "CEU0500000082",
                                    "industry_code": "05000000",
                                    "industry_name": "Total private",
                                    "value": "73474302"
                                },
                                {
                                    "series_id": "CES0500000082",
                                    "industry_code": "05000000",
                                    "industry_name": "Total private",
                                    "value": "74498171"
                                },
                                {
                                    "series_id": "CES0500000082",
                                    "industry_code": "05000000",
                                    "industry_name": "Total private",
                                    "value": "74498171"
                                }
                            ]
                        },
                        "text/html": [
                            "<table>",
                            "<tr><th>series_id</th><th>industry_code</th><th>industry_name</th><th>value</th></tr>",
                            "<tr><td>CES4244511082</td><td>42445110</td><td>Supermarkets and other grocery stores</td><td>821282</td></tr>",
                            "<tr><td>CES4244511082</td><td>42445110</td><td>Supermarkets and other grocery stores</td><td>821282</td></tr>",
                            "<tr><td>CES6562410082</td><td>65624100</td><td>Individual and family services</td><td>828771</td></tr>",
                            "<tr><td>CES6562410082</td><td>65624100</td><td>Individual and family services</td><td>828771</td></tr>",
                            "<tr><td>CEU4244110082</td><td>42441100</td><td>Automobile dealers</td><td>831131</td></tr>",
                            "<tr><td>CEU4244110082</td><td>42441100</td><td>Automobile dealers</td><td>831131</td></tr>",
                            "<tr><td>CES4142512082</td><td>41425120</td><td>Wholesale trade agents and brokers</td><td>831319</td></tr>",
                            "<tr><td>CES4142512082</td><td>41425120</td><td>Wholesale trade agents and brokers</td><td>831319</td></tr>",
                            "<tr><td>CEU6562410082</td><td>65624100</td><td>Individual and family services</td><td>838886</td></tr>",
                            "<tr><td>CEU6562410082</td><td>65624100</td><td>Individual and family services</td><td>838886</td></tr>",
                            "<tr><td>CES4244110082</td><td>42441100</td><td>Automobile dealers</td><td>839595</td></tr>",
                            "<tr><td>CES4244110082</td><td>42441100</td><td>Automobile dealers</td><td>839595</td></tr>",
                            "<tr><td>CEU3231100082</td><td>32311000</td><td>Food manufacturing</td><td>842201</td></tr>",
                            "<tr><td>CEU3231100082</td><td>32311000</td><td>Food manufacturing</td><td>842201</td></tr>",
                            "<tr><td>CES6056170082</td><td>60561700</td><td>Services to buildings and dwellings</td><td>846000</td></tr>",
                            "<tr><td>CES6056170082</td><td>60561700</td><td>Services to buildings and dwellings</td><td>846000</td></tr>",
                            "<tr><td>CES3231100082</td><td>32311000</td><td>Food manufacturing</td><td>851406</td></tr>",
                            "<tr><td>CES3231100082</td><td>32311000</td><td>Food manufacturing</td><td>851406</td></tr>",
                            "<tr><td>CEU4142512082</td><td>41425120</td><td>Wholesale trade agents and brokers</td><td>851551</td></tr>",
                            "<tr><td>CEU4142512082</td><td>41425120</td><td>Wholesale trade agents and brokers</td><td>851551</td></tr>",
                            "<tr><td>CES4142500082</td><td>41425000</td><td>Electronic markets and agents and brokers</td><td>855291</td></tr>",
                            "<tr><td>CES4142500082</td><td>41425000</td><td>Electronic markets and agents and brokers</td><td>855291</td></tr>",
                            "<tr><td>CEU4244510082</td><td>42445100</td><td>Grocery stores</td><td>861224</td></tr>",
                            "<tr><td>CEU4244510082</td><td>42445100</td><td>Grocery stores</td><td>861224</td></tr>",
                            "<tr><td>CES5553100082</td><td>55531000</td><td>Real estate</td><td>862987</td></tr>",
                            "<tr><td>CES5553100082</td><td>55531000</td><td>Real estate</td><td>862987</td></tr>",
                            "<tr><td>CEU5553100082</td><td>55531000</td><td>Real estate</td><td>865620</td></tr>",
                            "<tr><td>CEU5553100082</td><td>55531000</td><td>Real estate</td><td>865620</td></tr>",
                            "<tr><td>CEU3133200082</td><td>31332000</td><td>Fabricated metal products</td><td>867242</td></tr>",
                            "<tr><td>CEU3133200082</td><td>31332000</td><td>Fabricated metal products</td><td>867242</td></tr>",
                            "<tr><td>CES4244510082</td><td>42445100</td><td>Grocery stores</td><td>868430</td></tr>",
                            "<tr><td>CES4244510082</td><td>42445100</td><td>Grocery stores</td><td>868430</td></tr>",
                            "<tr><td>CES3133200082</td><td>31332000</td><td>Fabricated metal products</td><td>871298</td></tr>",
                            "<tr><td>CES3133200082</td><td>31332000</td><td>Fabricated metal products</td><td>871298</td></tr>",
                            "<tr><td>CES5552420082</td><td>55524200</td><td>Insurance agencies</td><td>872398</td></tr>",
                            "<tr><td>CES5552420082</td><td>55524200</td><td>Insurance agencies</td><td>872398</td></tr>",
                            "<tr><td>CEU4142500082</td><td>41425000</td><td>Electronic markets and agents and brokers</td><td>873578</td></tr>",
                            "<tr><td>CEU4142500082</td><td>41425000</td><td>Electronic markets and agents and brokers</td><td>873578</td></tr>",
                            "<tr><td>CEU5552420082</td><td>55524200</td><td>Insurance agencies</td><td>894878</td></tr>",
                            "<tr><td>CEU5552420082</td><td>55524200</td><td>Insurance agencies</td><td>894878</td></tr>",
                            "<tr><td>CES2023700082</td><td>20237000</td><td>Heavy and civil engineering construction</td><td>908374</td></tr>",
                            "<tr><td>CES2023700082</td><td>20237000</td><td>Heavy and civil engineering construction</td><td>908374</td></tr>",
                            "<tr><td>CEU7072251382</td><td>70722513</td><td>Limited-service restaurants</td><td>922041</td></tr>",
                            "<tr><td>CEU7072251382</td><td>70722513</td><td>Limited-service restaurants</td><td>922041</td></tr>",
                            "<tr><td>CEU2023600082</td><td>20236000</td><td>Construction of buildings</td><td>940800</td></tr>",
                            "<tr><td>CEU2023600082</td><td>20236000</td><td>Construction of buildings</td><td>940800</td></tr>",
                            "<tr><td>CEU4244500082</td><td>42445000</td><td>Food and beverage stores</td><td>963315</td></tr>",
                            "<tr><td>CEU4244500082</td><td>42445000</td><td>Food and beverage stores</td><td>963315</td></tr>",
                            "<tr><td>CES7072251382</td><td>70722513</td><td>Limited-service restaurants</td><td>969748</td></tr>",
                            "<tr><td>CES7072251382</td><td>70722513</td><td>Limited-service restaurants</td><td>969748</td></tr>",
                            "<tr><td>CES5552210082</td><td>55522100</td><td>Depository credit intermediation</td><td>971796</td></tr>",
                            "<tr><td>CES5552210082</td><td>55522100</td><td>Depository credit intermediation</td><td>971796</td></tr>",
                            "<tr><td>CES4244500082</td><td>42445000</td><td>Food and beverage stores</td><td>974710</td></tr>",
                            "<tr><td>CES4244500082</td><td>42445000</td><td>Food and beverage stores</td><td>974710</td></tr>",
                            "<tr><td>CES6054111082</td><td>60541110</td><td>Offices of lawyers</td><td>1004009</td></tr>",
                            "<tr><td>CES6054111082</td><td>60541110</td><td>Offices of lawyers</td><td>1004009</td></tr>",
                            "<tr><td>CEU5552210082</td><td>55522100</td><td>Depository credit intermediation</td><td>1004069</td></tr>",
                            "<tr><td>CEU5552210082</td><td>55522100</td><td>Depository credit intermediation</td><td>1004069</td></tr>",
                            "<tr><td>CES2023600082</td><td>20236000</td><td>Construction of buildings</td><td>1008035</td></tr>",
                            "<tr><td>CES2023600082</td><td>20236000</td><td>Construction of buildings</td><td>1008035</td></tr>",
                            "<tr><td>CEU6054111082</td><td>60541110</td><td>Offices of lawyers</td><td>1038464</td></tr>",
                            "<tr><td>CEU6054111082</td><td>60541110</td><td>Offices of lawyers</td><td>1038464</td></tr>",
                            "<tr><td>CEU6054134082</td><td>60541340</td><td>NULL</td><td>1042223</td></tr>",
                            "<tr><td>CEU6054134082</td><td>60541340</td><td>NULL</td><td>1042223</td></tr>",
                            "<tr><td>CES5552300082</td><td>55523000</td><td>NULL</td><td>1044224</td></tr>",
                            "<tr><td>CES5552300082</td><td>55523000</td><td>NULL</td><td>1044224</td></tr>",
                            "<tr><td>CEU4245200082</td><td>42452000</td><td>General merchandise stores</td><td>1049973</td></tr>",
                            "<tr><td>CEU4245200082</td><td>42452000</td><td>General merchandise stores</td><td>1049973</td></tr>",
                            "<tr><td>CES6054134082</td><td>60541340</td><td>NULL</td><td>1051499</td></tr>",
                            "<tr><td>CES6054134082</td><td>60541340</td><td>NULL</td><td>1051499</td></tr>",
                            "<tr><td>CES6054161082</td><td>60541610</td><td>Management consulting services</td><td>1053691</td></tr>",
                            "<tr><td>CES6054161082</td><td>60541610</td><td>Management consulting services</td><td>1053691</td></tr>",
                            "<tr><td>CES6054110082</td><td>60541100</td><td>Legal services</td><td>1058862</td></tr>",
                            "<tr><td>CES6054110082</td><td>60541100</td><td>Legal services</td><td>1058862</td></tr>",
                            "<tr><td>CES4245200082</td><td>42452000</td><td>General merchandise stores</td><td>1065807</td></tr>",
                            "<tr><td>CES4245200082</td><td>42452000</td><td>General merchandise stores</td><td>1065807</td></tr>",
                            "<tr><td>CEU6054161082</td><td>60541610</td><td>Management consulting services</td><td>1066602</td></tr>",
                            "<tr><td>CEU6054161082</td><td>60541610</td><td>Management consulting services</td><td>1066602</td></tr>",
                            "<tr><td>CEU5552300082</td><td>55523000</td><td>NULL</td><td>1087325</td></tr>",
                            "<tr><td>CEU5552300082</td><td>55523000</td><td>NULL</td><td>1087325</td></tr>",
                            "<tr><td>CEU4348400082</td><td>43484000</td><td>Truck transportation</td><td>1092427</td></tr>",
                            "<tr><td>CEU4348400082</td><td>43484000</td><td>Truck transportation</td><td>1092427</td></tr>",
                            "<tr><td>CEU6054110082</td><td>60541100</td><td>Legal services</td><td>1093898</td></tr>",
                            "<tr><td>CEU6054110082</td><td>60541100</td><td>Legal services</td><td>1093898</td></tr>",
                            "<tr><td>CES4348400082</td><td>43484000</td><td>Truck transportation</td><td>1131821</td></tr>",
                            "<tr><td>CES4348400082</td><td>43484000</td><td>Truck transportation</td><td>1131821</td></tr>",
                            "<tr><td>CEU4244100082</td><td>42441000</td><td>Motor vehicle and parts dealers</td><td>1163420</td></tr>",
                            "<tr><td>CEU4244100082</td><td>42441000</td><td>Motor vehicle and parts dealers</td><td>1163420</td></tr>",
                            "<tr><td>CES6054151182</td><td>60541511</td><td>Custom computer programming services</td><td>1173494</td></tr>",
                            "<tr><td>CES6054151182</td><td>60541511</td><td>Custom computer programming services</td><td>1173494</td></tr>",
                            "<tr><td>CES4244100082</td><td>42441000</td><td>Motor vehicle and parts dealers</td><td>1180297</td></tr>",
                            "<tr><td>CES4244100082</td><td>42441000</td><td>Motor vehicle and parts dealers</td><td>1180297</td></tr>",
                            "<tr><td>CEU6054151182</td><td>60541511</td><td>Custom computer programming services</td><td>1198283</td></tr>",
                            "<tr><td>CEU6054151182</td><td>60541511</td><td>Custom computer programming services</td><td>1198283</td></tr>",
                            "<tr><td>CEU3133600082</td><td>31336000</td><td>Transportation equipment</td><td>1242685</td></tr>",
                            "<tr><td>CEU3133600082</td><td>31336000</td><td>Transportation equipment</td><td>1242685</td></tr>",
                            "<tr><td>CES3133600082</td><td>31336000</td><td>Transportation equipment</td><td>1257764</td></tr>",
                            "<tr><td>CES3133600082</td><td>31336000</td><td>Transportation equipment</td><td>1257764</td></tr>",
                            "<tr><td>CES6054151282</td><td>60541512</td><td>Computer systems design services</td><td>1274481</td></tr>",
                            "<tr><td>CES6054151282</td><td>60541512</td><td>Computer systems design services</td><td>1274481</td></tr>",
                            "<tr><td>CEU6054151282</td><td>60541512</td><td>Computer systems design services</td><td>1309441</td></tr>",
                            "<tr><td>CEU6054151282</td><td>60541512</td><td>Computer systems design services</td><td>1309441</td></tr>",
                            "<tr><td>CES6054160082</td><td>60541600</td><td>Management and technical consulting services</td><td>1330587</td></tr>",
                            "<tr><td>CES6054160082</td><td>60541600</td><td>Management and technical consulting services</td><td>1330587</td></tr>",
                            "<tr><td>CEU6054160082</td><td>60541600</td><td>Management and technical consulting services</td><td>1336594</td></tr>",
                            "<tr><td>CEU6054160082</td><td>60541600</td><td>Management and technical consulting services</td><td>1336594</td></tr>",
                            "<tr><td>CES6562400082</td><td>65624000</td><td>Social assistance</td><td>1337022</td></tr>",
                            "<tr><td>CES6562400082</td><td>65624000</td><td>Social assistance</td><td>1337022</td></tr>",
                            "<tr><td>CEU4142400082</td><td>41424000</td><td>Nondurable goods</td><td>1348136</td></tr>",
                            "<tr><td>CEU4142400082</td><td>41424000</td><td>Nondurable goods</td><td>1348136</td></tr>",
                            "<tr><td>CEU6562400082</td><td>65624000</td><td>Social assistance</td><td>1357629</td></tr>",
                            "<tr><td>CEU6562400082</td><td>65624000</td><td>Social assistance</td><td>1357629</td></tr>",
                            "<tr><td>CES4142400082</td><td>41424000</td><td>Nondurable goods</td><td>1367413</td></tr>",
                            "<tr><td>CES4142400082</td><td>41424000</td><td>Nondurable goods</td><td>1367413</td></tr>",
                            "<tr><td>CEU6054130082</td><td>60541300</td><td>Architectural and engineering services</td><td>1422967</td></tr>",
                            "<tr><td>CEU6054130082</td><td>60541300</td><td>Architectural and engineering services</td><td>1422967</td></tr>",
                            "<tr><td>CES6054130082</td><td>60541300</td><td>Architectural and engineering services</td><td>1439445</td></tr>",
                            "<tr><td>CES6054130082</td><td>60541300</td><td>Architectural and engineering services</td><td>1439445</td></tr>",
                            "<tr><td>CES5552410082</td><td>55524100</td><td>Insurance carriers</td><td>1477799</td></tr>",
                            "<tr><td>CES5552410082</td><td>55524100</td><td>Insurance carriers</td><td>1477799</td></tr>",
                            "<tr><td>CES6562300082</td><td>65623000</td><td>Nursing and residential care facilities</td><td>1489277</td></tr>",
                            "<tr><td>CES6562300082</td><td>65623000</td><td>Nursing and residential care facilities</td><td>1489277</td></tr>",
                            "<tr><td>CES6055111482</td><td>60551114</td><td>Managing offices</td><td>1496334</td></tr>",
                            "<tr><td>CES6055111482</td><td>60551114</td><td>Managing offices</td><td>1496334</td></tr>",
                            "<tr><td>CEU5552410082</td><td>55524100</td><td>Insurance carriers</td><td>1509979</td></tr>",
                            "<tr><td>CEU5552410082</td><td>55524100</td><td>Insurance carriers</td><td>1509979</td></tr>",
                            "<tr><td>CEU6055111482</td><td>60551114</td><td>Managing offices</td><td>1517287</td></tr>",
                            "<tr><td>CEU6055111482</td><td>60551114</td><td>Managing offices</td><td>1517287</td></tr>",
                            "<tr><td>CEU6562300082</td><td>65623000</td><td>Nursing and residential care facilities</td><td>1525889</td></tr>",
                            "<tr><td>CEU6562300082</td><td>65623000</td><td>Nursing and residential care facilities</td><td>1525889</td></tr>",
                            "<tr><td>CEU7072251182</td><td>70722511</td><td>Full-service restaurants</td><td>1528888</td></tr>",
                            "<tr><td>CEU7072251182</td><td>70722511</td><td>Full-service restaurants</td><td>1528888</td></tr>",
                            "<tr><td>CEU6056132082</td><td>60561320</td><td>Temporary help services</td><td>1530782</td></tr>",
                            "<tr><td>CEU6056132082</td><td>60561320</td><td>Temporary help services</td><td>1530782</td></tr>",
                            "<tr><td>CES6055000082</td><td>60550000</td><td>Management of companies and enterprises</td><td>1566036</td></tr>",
                            "<tr><td>CES6055000082</td><td>60550000</td><td>Management of companies and enterprises</td><td>1566036</td></tr>",
                            "<tr><td>CEU6055000082</td><td>60550000</td><td>Management of companies and enterprises</td><td>1587677</td></tr>",
                            "<tr><td>CEU6055000082</td><td>60550000</td><td>Management of companies and enterprises</td><td>1587677</td></tr>",
                            "<tr><td>CEU8081300082</td><td>80813000</td><td>Membership associations and organizations</td><td>1594855</td></tr>",
                            "<tr><td>CEU8081300082</td><td>80813000</td><td>Membership associations and organizations</td><td>1594855</td></tr>",
                            "<tr><td>CES6056132082</td><td>60561320</td><td>Temporary help services</td><td>1598939</td></tr>",
                            "<tr><td>CES6056132082</td><td>60561320</td><td>Temporary help services</td><td>1598939</td></tr>",
                            "<tr><td>CES8081300082</td><td>80813000</td><td>Membership associations and organizations</td><td>1599916</td></tr>",
                            "<tr><td>CES8081300082</td><td>80813000</td><td>Membership associations and organizations</td><td>1599916</td></tr>",
                            "<tr><td>CEU2023820082</td><td>20238200</td><td>Building equipment contractors</td><td>1621266</td></tr>",
                            "<tr><td>CEU2023820082</td><td>20238200</td><td>Building equipment contractors</td><td>1621266</td></tr>",
                            "<tr><td>CES7072251182</td><td>70722511</td><td>Full-service restaurants</td><td>1626780</td></tr>",
                            "<tr><td>CES7072251182</td><td>70722511</td><td>Full-service restaurants</td><td>1626780</td></tr>",
                            "<tr><td>CES2023820082</td><td>20238200</td><td>Building equipment contractors</td><td>1696080</td></tr>",
                            "<tr><td>CES2023820082</td><td>20238200</td><td>Building equipment contractors</td><td>1696080</td></tr>",
                            "<tr><td>CES5552200082</td><td>55522000</td><td>Credit intermediation and related activities</td><td>1717912</td></tr>",
                            "<tr><td>CES5552200082</td><td>55522000</td><td>Credit intermediation and related activities</td><td>1717912</td></tr>",
                            "<tr><td>CEU5552200082</td><td>55522000</td><td>Credit intermediation and related activities</td><td>1767137</td></tr>",
                            "<tr><td>CEU5552200082</td><td>55522000</td><td>Credit intermediation and related activities</td><td>1767137</td></tr>",
                            "<tr><td>CEU6056130082</td><td>60561300</td><td>Employment services</td><td>1938059</td></tr>",
                            "<tr><td>CEU6056130082</td><td>60561300</td><td>Employment services</td><td>1938059</td></tr>",
                            "<tr><td>CES6056130082</td><td>60561300</td><td>Employment services</td><td>2013846</td></tr>",
                            "<tr><td>CES6056130082</td><td>60561300</td><td>Employment services</td><td>2013846</td></tr>",
                            "<tr><td>CES6562111182</td><td>65621111</td><td>Offices of physicians</td><td>2113086</td></tr>",
                            "<tr><td>CES6562111182</td><td>65621111</td><td>Offices of physicians</td><td>2113086</td></tr>",
                            "<tr><td>CEU6562111182</td><td>65621111</td><td>Offices of physicians</td><td>2121845</td></tr>",
                            "<tr><td>CEU6562111182</td><td>65621111</td><td>Offices of physicians</td><td>2121845</td></tr>",
                            "<tr><td>CES6562110082</td><td>65621100</td><td>Offices of physicians</td><td>2141331</td></tr>",
                            "<tr><td>CES6562110082</td><td>65621100</td><td>Offices of physicians</td><td>2141331</td></tr>",
                            "<tr><td>CEU6562110082</td><td>65621100</td><td>Offices of physicians</td><td>2149121</td></tr>",
                            "<tr><td>CEU6562110082</td><td>65621100</td><td>Offices of physicians</td><td>2149121</td></tr>",
                            "<tr><td>CES4142300082</td><td>41423000</td><td>Durable goods</td><td>2261006</td></tr>",
                            "<tr><td>CES4142300082</td><td>41423000</td><td>Durable goods</td><td>2261006</td></tr>",
                            "<tr><td>CEU4142300082</td><td>41423000</td><td>Durable goods</td><td>2283094</td></tr>",
                            "<tr><td>CEU4142300082</td><td>41423000</td><td>Durable goods</td><td>2283094</td></tr>",
                            "<tr><td>CES5552400082</td><td>55524000</td><td>Insurance carriers and related activities</td><td>2347328</td></tr>",
                            "<tr><td>CES5552400082</td><td>55524000</td><td>Insurance carriers and related activities</td><td>2347328</td></tr>",
                            "<tr><td>CEU5552400082</td><td>55524000</td><td>Insurance carriers and related activities</td><td>2408490</td></tr>",
                            "<tr><td>CEU5552400082</td><td>55524000</td><td>Insurance carriers and related activities</td><td>2408490</td></tr>",
                            "<tr><td>CES5000000082</td><td>50000000</td><td>Information</td><td>2416443</td></tr>",
                            "<tr><td>CES5000000082</td><td>50000000</td><td>Information</td><td>2416443</td></tr>",
                            "<tr><td>CEU5000000082</td><td>50000000</td><td>Information</td><td>2434992</td></tr>",
                            "<tr><td>CEU5000000082</td><td>50000000</td><td>Information</td><td>2434992</td></tr>",
                            "<tr><td>CEU3200000082</td><td>32000000</td><td>Nondurable goods</td><td>2605069</td></tr>",
                            "<tr><td>CEU3200000082</td><td>32000000</td><td>Nondurable goods</td><td>2605069</td></tr>",
                            "<tr><td>CEU7072250082</td><td>70722500</td><td>Restaurants and other eating places</td><td>2617225</td></tr>",
                            "<tr><td>CEU7072250082</td><td>70722500</td><td>Restaurants and other eating places</td><td>2617225</td></tr>",
                            "<tr><td>CES3200000082</td><td>32000000</td><td>Nondurable goods</td><td>2633628</td></tr>",
                            "<tr><td>CES3200000082</td><td>32000000</td><td>Nondurable goods</td><td>2633628</td></tr>",
                            "<tr><td>CES6054150082</td><td>60541500</td><td>Computer systems design and related services</td><td>2666568</td></tr>",
                            "<tr><td>CES6054150082</td><td>60541500</td><td>Computer systems design and related services</td><td>2666568</td></tr>",
                            "<tr><td>CEU6054150082</td><td>60541500</td><td>Computer systems design and related services</td><td>2725031</td></tr>",
                            "<tr><td>CEU6054150082</td><td>60541500</td><td>Computer systems design and related services</td><td>2725031</td></tr>",
                            "<tr><td>CES7072250082</td><td>70722500</td><td>Restaurants and other eating places</td><td>2768855</td></tr>",
                            "<tr><td>CES7072250082</td><td>70722500</td><td>Restaurants and other eating places</td><td>2768855</td></tr>",
                            "<tr><td>CEU8000000082</td><td>80000000</td><td>Other services</td><td>2836698</td></tr>",
                            "<tr><td>CEU8000000082</td><td>80000000</td><td>Other services</td><td>2836698</td></tr>",
                            "<tr><td>CES8000000082</td><td>80000000</td><td>Other services</td><td>2875314</td></tr>",
                            "<tr><td>CES8000000082</td><td>80000000</td><td>Other services</td><td>2875314</td></tr>",
                            "<tr><td>CEU7072200082</td><td>70722000</td><td>Food services and drinking places</td><td>2913295</td></tr>",
                            "<tr><td>CEU7072200082</td><td>70722000</td><td>Food services and drinking places</td><td>2913295</td></tr>",
                            "<tr><td>CEU2023800082</td><td>20238000</td><td>Specialty trade contractors</td><td>3062211</td></tr>",
                            "<tr><td>CEU2023800082</td><td>20238000</td><td>Specialty trade contractors</td><td>3062211</td></tr>",
                            "<tr><td>CES7072200082</td><td>70722000</td><td>Food services and drinking places</td><td>3085429</td></tr>",
                            "<tr><td>CES7072200082</td><td>70722000</td><td>Food services and drinking places</td><td>3085429</td></tr>",
                            "<tr><td>CES2023800082</td><td>20238000</td><td>Specialty trade contractors</td><td>3421902</td></tr>",
                            "<tr><td>CES2023800082</td><td>20238000</td><td>Specialty trade contractors</td><td>3421902</td></tr>",
                            "<tr><td>CEU4300000082</td><td>43000000</td><td>Transportation and warehousing</td><td>3495553</td></tr>",
                            "<tr><td>CEU4300000082</td><td>43000000</td><td>Transportation and warehousing</td><td>3495553</td></tr>",
                            "<tr><td>CES4300000082</td><td>43000000</td><td>Transportation and warehousing</td><td>3538683</td></tr>",
                            "<tr><td>CES4300000082</td><td>43000000</td><td>Transportation and warehousing</td><td>3538683</td></tr>",
                            "<tr><td>CEU7072000082</td><td>70720000</td><td>Accommodation and food services</td><td>3572648</td></tr>",
                            "<tr><td>CEU7072000082</td><td>70720000</td><td>Accommodation and food services</td><td>3572648</td></tr>",
                            "<tr><td>CES7072000082</td><td>70720000</td><td>Accommodation and food services</td><td>3802356</td></tr>",
                            "<tr><td>CES7072000082</td><td>70720000</td><td>Accommodation and food services</td><td>3802356</td></tr>",
                            "<tr><td>CEU7000000082</td><td>70000000</td><td>Leisure and hospitality</td><td>4224098</td></tr>",
                            "<tr><td>CEU7000000082</td><td>70000000</td><td>Leisure and hospitality</td><td>4224098</td></tr>",
                            "<tr><td>CEU6056100082</td><td>60561000</td><td>Administrative and support services</td><td>4357866</td></tr>",
                            "<tr><td>CEU6056100082</td><td>60561000</td><td>Administrative and support services</td><td>4357866</td></tr>",
                            "<tr><td>CES4142000082</td><td>41420000</td><td>Wholesale trade</td><td>4480134</td></tr>",
                            "<tr><td>CES4142000082</td><td>41420000</td><td>Wholesale trade</td><td>4480134</td></tr>",
                            "<tr><td>CEU4142000082</td><td>41420000</td><td>Wholesale trade</td><td>4506110</td></tr>",
                            "<tr><td>CEU4142000082</td><td>41420000</td><td>Wholesale trade</td><td>4506110</td></tr>",
                            "<tr><td>CES7000000082</td><td>70000000</td><td>Leisure and hospitality</td><td>4537173</td></tr>",
                            "<tr><td>CES7000000082</td><td>70000000</td><td>Leisure and hospitality</td><td>4537173</td></tr>",
                            "<tr><td>CES6056100082</td><td>60561000</td><td>Administrative and support services</td><td>4565569</td></tr>",
                            "<tr><td>CES6056100082</td><td>60561000</td><td>Administrative and support services</td><td>4565569</td></tr>",
                            "<tr><td>CEU6056000082</td><td>60560000</td><td>Administrative and waste services</td><td>4659531</td></tr>",
                            "<tr><td>CEU6056000082</td><td>60560000</td><td>Administrative and waste services</td><td>4659531</td></tr>",
                            "<tr><td>CES6562210082</td><td>65622100</td><td>General medical and surgical hospitals</td><td>4716914</td></tr>",
                            "<tr><td>CES6562210082</td><td>65622100</td><td>General medical and surgical hospitals</td><td>4716914</td></tr>",
                            "<tr><td>CEU2000000082</td><td>20000000</td><td>Construction</td><td>4724156</td></tr>",
                            "<tr><td>CEU2000000082</td><td>20000000</td><td>Construction</td><td>4724156</td></tr>",
                            "<tr><td>CEU6562210082</td><td>65622100</td><td>General medical and surgical hospitals</td><td>4773547</td></tr>",
                            "<tr><td>CEU6562210082</td><td>65622100</td><td>General medical and surgical hospitals</td><td>4773547</td></tr>",
                            "<tr><td>CEU3100000082</td><td>31000000</td><td>Durable goods</td><td>4808368</td></tr>",
                            "<tr><td>CEU3100000082</td><td>31000000</td><td>Durable goods</td><td>4808368</td></tr>",
                            "<tr><td>CES3100000082</td><td>31000000</td><td>Durable goods</td><td>4859716</td></tr>",
                            "<tr><td>CES3100000082</td><td>31000000</td><td>Durable goods</td><td>4859716</td></tr>",
                            "<tr><td>CES6562100082</td><td>65621000</td><td>Ambulatory health care services</td><td>4875906</td></tr>",
                            "<tr><td>CES6562100082</td><td>65621000</td><td>Ambulatory health care services</td><td>4875906</td></tr>",
                            "<tr><td>CES6056000082</td><td>60560000</td><td>Administrative and waste services</td><td>4886085</td></tr>",
                            "<tr><td>CES6056000082</td><td>60560000</td><td>Administrative and waste services</td><td>4886085</td></tr>",
                            "<tr><td>CEU6562100082</td><td>65621000</td><td>Ambulatory health care services</td><td>4907269</td></tr>",
                            "<tr><td>CEU6562100082</td><td>65621000</td><td>Ambulatory health care services</td><td>4907269</td></tr>",
                            "<tr><td>CES6562200082</td><td>65622000</td><td>Hospitals</td><td>5048432</td></tr>",
                            "<tr><td>CES6562200082</td><td>65622000</td><td>Hospitals</td><td>5048432</td></tr>",
                            "<tr><td>CEU6562200082</td><td>65622000</td><td>Hospitals</td><td>5105336</td></tr>",
                            "<tr><td>CEU6562200082</td><td>65622000</td><td>Hospitals</td><td>5105336</td></tr>",
                            "<tr><td>CES2000000082</td><td>20000000</td><td>Construction</td><td>5335274</td></tr>",
                            "<tr><td>CES2000000082</td><td>20000000</td><td>Construction</td><td>5335274</td></tr>",
                            "<tr><td>CEU4200000082</td><td>42000000</td><td>Retail trade</td><td>6060100</td></tr>",
                            "<tr><td>CEU4200000082</td><td>42000000</td><td>Retail trade</td><td>6060100</td></tr>",
                            "<tr><td>CES4200000082</td><td>42000000</td><td>Retail trade</td><td>6123554</td></tr>",
                            "<tr><td>CES4200000082</td><td>42000000</td><td>Retail trade</td><td>6123554</td></tr>",
                            "<tr><td>CES5500000082</td><td>55000000</td><td>Financial activities</td><td>6328968</td></tr>",
                            "<tr><td>CES5500000082</td><td>55000000</td><td>Financial activities</td><td>6328968</td></tr>",
                            "<tr><td>CEU5500000082</td><td>55000000</td><td>Financial activities</td><td>6467426</td></tr>",
                            "<tr><td>CEU5500000082</td><td>55000000</td><td>Financial activities</td><td>6467426</td></tr>",
                            "<tr><td>CEU3000000082</td><td>30000000</td><td>Manufacturing</td><td>7411960</td></tr>",
                            "<tr><td>CEU3000000082</td><td>30000000</td><td>Manufacturing</td><td>7411960</td></tr>",
                            "<tr><td>CES3000000082</td><td>30000000</td><td>Manufacturing</td><td>7491723</td></tr>",
                            "<tr><td>CES3000000082</td><td>30000000</td><td>Manufacturing</td><td>7491723</td></tr>",
                            "<tr><td>CES6054000082</td><td>60540000</td><td>Professional and technical services</td><td>8821026</td></tr>",
                            "<tr><td>CES6054000082</td><td>60540000</td><td>Professional and technical services</td><td>8821026</td></tr>",
                            "<tr><td>CEU6054000082</td><td>60540000</td><td>Professional and technical services</td><td>8976687</td></tr>",
                            "<tr><td>CEU6054000082</td><td>60540000</td><td>Professional and technical services</td><td>8976687</td></tr>",
                            "<tr><td>CES6562000182</td><td>65620001</td><td>NULL</td><td>11413008</td></tr>",
                            "<tr><td>CES6562000182</td><td>65620001</td><td>NULL</td><td>11413008</td></tr>",
                            "<tr><td>CEU6562000182</td><td>65620001</td><td>NULL</td><td>11537267</td></tr>",
                            "<tr><td>CEU6562000182</td><td>65620001</td><td>NULL</td><td>11537267</td></tr>",
                            "<tr><td>CEU0600000082</td><td>06000000</td><td>Goods-producing</td><td>12711945</td></tr>",
                            "<tr><td>CEU0600000082</td><td>06000000</td><td>Goods-producing</td><td>12711945</td></tr>",
                            "<tr><td>CES6562000082</td><td>65620000</td><td>Health care and social assistance</td><td>12762526</td></tr>",
                            "<tr><td>CES6562000082</td><td>65620000</td><td>Health care and social assistance</td><td>12762526</td></tr>",
                            "<tr><td>CEU6562000082</td><td>65620000</td><td>Health care and social assistance</td><td>12878462</td></tr>",
                            "<tr><td>CEU6562000082</td><td>65620000</td><td>Health care and social assistance</td><td>12878462</td></tr>",
                            "<tr><td>CES0600000082</td><td>06000000</td><td>Goods-producing</td><td>13426820</td></tr>",
                            "<tr><td>CES0600000082</td><td>06000000</td><td>Goods-producing</td><td>13426820</td></tr>",
                            "<tr><td>CEU4000000082</td><td>40000000</td><td>Trade</td><td>14732108</td></tr>",
                            "<tr><td>CEU4000000082</td><td>40000000</td><td>Trade</td><td>14732108</td></tr>",
                            "<tr><td>CES6500000082</td><td>65000000</td><td>Education and health services</td><td>14765156</td></tr>",
                            "<tr><td>CES6500000082</td><td>65000000</td><td>Education and health services</td><td>14765156</td></tr>",
                            "<tr><td>CEU6500000082</td><td>65000000</td><td>Education and health services</td><td>14816074</td></tr>",
                            "<tr><td>CEU6500000082</td><td>65000000</td><td>Education and health services</td><td>14816074</td></tr>",
                            "<tr><td>CES4000000082</td><td>40000000</td><td>Trade</td><td>14850661</td></tr>",
                            "<tr><td>CES4000000082</td><td>40000000</td><td>Trade</td><td>14850661</td></tr>",
                            "<tr><td>CEU6000000082</td><td>60000000</td><td>Professional and business services</td><td>15219807</td></tr>",
                            "<tr><td>CEU6000000082</td><td>60000000</td><td>Professional and business services</td><td>15219807</td></tr>",
                            "<tr><td>CES6000000082</td><td>60000000</td><td>Professional and business services</td><td>15251268</td></tr>",
                            "<tr><td>CES6000000082</td><td>60000000</td><td>Professional and business services</td><td>15251268</td></tr>",
                            "<tr><td>CEU0800000082</td><td>08000000</td><td>Private service-providing</td><td>60807771</td></tr>",
                            "<tr><td>CEU0800000082</td><td>08000000</td><td>Private service-providing</td><td>60807771</td></tr>",
                            "<tr><td>CES0800000082</td><td>08000000</td><td>Private service-providing</td><td>60914722</td></tr>",
                            "<tr><td>CES0800000082</td><td>08000000</td><td>Private service-providing</td><td>60914722</td></tr>",
                            "<tr><td>CEU0500000082</td><td>05000000</td><td>Total private</td><td>73474302</td></tr>",
                            "<tr><td>CEU0500000082</td><td>05000000</td><td>Total private</td><td>73474302</td></tr>",
                            "<tr><td>CES0500000082</td><td>05000000</td><td>Total private</td><td>74498171</td></tr>",
                            "<tr><td>CES0500000082</td><td>05000000</td><td>Total private</td><td>74498171</td></tr>",
                            "</table>"
                        ]
                    }
                }
            ],
            "execution_count": 112
        },
        {
            "cell_type": "markdown",
            "source": [
                "2. <span style=\"background-color: rgb(255, 255, 255); font-size: 10pt; white-space: pre-wrap; color: rgb(102, 102, 102); font-family: Arvo, serif;\">Create a Union table comparing average weekly earnings&nbsp; of production and nonsupervisory employees between annual_16 and january_17 using the data type 30.&nbsp; Round to the nearest penny.&nbsp; You should have a column for the average earnings and a column for the year, and the period.</span>\n",
                "\n",
                "<span style=\"font-size: 13.3333px; white-space: pre-wrap;\">The average weekly earnings in 2016 were $797.19. The period for 2016 is M13 meaning annual becuase this data was collected for the entire year of 2016. The average weekly earning in 2017 were $808.53. The period for 2017 is M01 meaning the first month or January becuase this data was collected for the monght of January in 2017.</span>"
            ],
            "metadata": {
                "azdata_cell_guid": "1bb0ed09-4b02-4132-910e-5903697628af"
            },
            "attachments": {}
        },
        {
            "cell_type": "code",
            "source": [
                "SELECT AVG(value) AS 'Average Weekly Earnings', year, period\n",
                "FROM LaborStatisticsDB.dbo.annual_2016 as a16 LEFT JOIN LaborStatisticsDB.dbo.series as s\n",
                "ON a16.series_id = s.series_id\n",
                "WHERE data_type_code = 30\n",
                "GROUP BY year, period\n",
                "UNION\n",
                "SELECT AVG(value) AS 'Average Weekly Earnings', year, period\n",
                "FROM LaborStatisticsDB.dbo.january_2017 as j17 LEFT JOIN LaborStatisticsDB.dbo.series as s\n",
                "ON j17.series_id = s.series_id\n",
                "WHERE data_type_code = 30\n",
                "GROUP BY year, period\n",
                ""
            ],
            "metadata": {
                "azdata_cell_guid": "0841b6d6-9af2-41ba-8e28-dc40d08bd061",
                "language": "sql"
            },
            "outputs": [
                {
                    "output_type": "display_data",
                    "data": {
                        "text/html": "(2 rows affected)"
                    },
                    "metadata": {}
                },
                {
                    "output_type": "display_data",
                    "data": {
                        "text/html": "Total execution time: 00:00:00.148"
                    },
                    "metadata": {}
                },
                {
                    "output_type": "execute_result",
                    "metadata": {},
                    "execution_count": 108,
                    "data": {
                        "application/vnd.dataresource+json": {
                            "schema": {
                                "fields": [
                                    {
                                        "name": "Average Weekly Earnings"
                                    },
                                    {
                                        "name": "year"
                                    },
                                    {
                                        "name": "period"
                                    }
                                ]
                            },
                            "data": [
                                {
                                    "Average Weekly Earnings": "797.1962613430123",
                                    "year": "2016",
                                    "period": "M13"
                                },
                                {
                                    "Average Weekly Earnings": "808.5303811252254",
                                    "year": "2017",
                                    "period": "M01"
                                }
                            ]
                        },
                        "text/html": [
                            "<table>",
                            "<tr><th>Average Weekly Earnings</th><th>year</th><th>period</th></tr>",
                            "<tr><td>797.1962613430123</td><td>2016</td><td>M13</td></tr>",
                            "<tr><td>808.5303811252254</td><td>2017</td><td>M01</td></tr>",
                            "</table>"
                        ]
                    }
                }
            ],
            "execution_count": 108
        },
        {
            "cell_type": "markdown",
            "source": [
                "## <span style=\"font-size:12pt;font-family:Montserrat, sans-serif;color:rgb(53, 74, 95);background-color:rgb(255, 255, 255);font-weight:700;vertical-align:baseline;white-space:pre-wrap;\">Summarize Your Results</span>\n",
                "\n",
                "<span style=\"font-size:10pt;font-family:Arvo, serif;color:rgb(102, 102, 102);background-color:rgb(255, 255, 255);vertical-align:baseline;white-space:pre-wrap;\">With what you know now about the </span> <span style=\"background-color:rgb(255, 255, 255);color:rgb(102, 102, 102);font-family:&quot;Times New Roman&quot;;font-size:13.3333px;white-space:pre-wrap;\">Bureau of Labor Statistics (BLS) Current Employment Survey (CES) results and working with the</span> <span style=\"color:rgb(102, 102, 102);white-space:pre-wrap;font-family:&quot;Times New Roman&quot;;font-size:13.3333px;\">Labor Statistics Database</span><span style=\"background-color:rgb(255, 255, 255);color:rgb(102, 102, 102);font-family:Arvo, serif;font-size:10pt;white-space:pre-wrap;\">, answer the following questions. Note that while this is subjective, you should include relevant data to back up your opinion.</span>\n",
                "\n",
                "1. <span style=\"background-color:rgb(255, 255, 255);font-size:10pt;white-space:pre-wrap;color:rgb(102, 102, 102);font-family:Arvo, serif;\">During which time period did production and nonsupervisory employees fare better?</span>"
            ],
            "metadata": {
                "azdata_cell_guid": "780f65a6-b9e7-4f24-9132-293c47f559e8"
            },
            "attachments": {}
        },
        {
            "cell_type": "markdown",
            "source": [
                "According to my analysis of average weekly earnings by period, the production and nonsupervisory employees fared better in January of 2017 than in 2016. The average weekly earnings were higher by only $11.34, so they earned almost the same amount on average."
            ],
            "metadata": {
                "azdata_cell_guid": "f11f1fb2-f7d1-41e5-bc9c-84087d7cfc93"
            },
            "attachments": {}
        },
        {
            "cell_type": "markdown",
            "source": [
                "2. <span style=\"background-color: rgb(255, 255, 255); font-size: 10pt; white-space: pre-wrap; color: rgb(102, 102, 102); font-family: Arvo, serif;\">In which industries did production and nonsupervisory employees fare better?</span>"
            ],
            "metadata": {
                "azdata_cell_guid": "f606e5e5-f6f1-4070-bbfa-e31617b43e56"
            },
            "attachments": {}
        },
        {
            "cell_type": "markdown",
            "source": [
                "The production and nonsupervisory employees fared better in the private, profesional services, trade, eduction/health, and goods-producing industries according to the weekly payroll amounts."
            ],
            "metadata": {
                "azdata_cell_guid": "94e18f5d-b87b-4ba6-b1fd-bde035dafc04"
            },
            "attachments": {}
        },
        {
            "cell_type": "code",
            "source": [
                "SELECT TOP(10) SUM(Value) as 'Total Weekly Payroll', s.industry_code, i.industry_name\n",
                "FROM LaborStatisticsDB.dbo.january_2017 as j17 \n",
                "LEFT JOIN LaborStatisticsDB.dbo.series as s \n",
                "ON j17.series_id = s.series_id\n",
                "JOIN LaborStatisticsDB.dbo.industry as i \n",
                "ON s.industry_code = i.industry_code\n",
                "WHERE data_type_code = 82\n",
                "GROUP BY s.industry_code, i.industry_name\n",
                "ORDER BY SUM(value) DESC"
            ],
            "metadata": {
                "azdata_cell_guid": "c509c12e-dfd8-4dc4-929c-7d849ae2e4d5",
                "language": "sql"
            },
            "outputs": [
                {
                    "output_type": "display_data",
                    "data": {
                        "text/html": "(10 rows affected)"
                    },
                    "metadata": {}
                },
                {
                    "output_type": "display_data",
                    "data": {
                        "text/html": "Total execution time: 00:00:00.157"
                    },
                    "metadata": {}
                },
                {
                    "output_type": "execute_result",
                    "metadata": {},
                    "execution_count": 114,
                    "data": {
                        "application/vnd.dataresource+json": {
                            "schema": {
                                "fields": [
                                    {
                                        "name": "Total Weekly Payroll"
                                    },
                                    {
                                        "name": "industry_code"
                                    },
                                    {
                                        "name": "industry_name"
                                    }
                                ]
                            },
                            "data": [
                                {
                                    "Total Weekly Payroll": "295944946",
                                    "industry_code": "05000000",
                                    "industry_name": "Total private"
                                },
                                {
                                    "Total Weekly Payroll": "243444986",
                                    "industry_code": "08000000",
                                    "industry_name": "Private service-providing"
                                },
                                {
                                    "Total Weekly Payroll": "60942150",
                                    "industry_code": "60000000",
                                    "industry_name": "Professional and business services"
                                },
                                {
                                    "Total Weekly Payroll": "59165538",
                                    "industry_code": "40000000",
                                    "industry_name": "Trade"
                                },
                                {
                                    "Total Weekly Payroll": "59162460",
                                    "industry_code": "65000000",
                                    "industry_name": "Education and health services"
                                },
                                {
                                    "Total Weekly Payroll": "52277530",
                                    "industry_code": "06000000",
                                    "industry_name": "Goods-producing"
                                },
                                {
                                    "Total Weekly Payroll": "51281976",
                                    "industry_code": "65620000",
                                    "industry_name": "Health care and social assistance"
                                },
                                {
                                    "Total Weekly Payroll": "45900550",
                                    "industry_code": "65620001",
                                    "industry_name": "NULL"
                                },
                                {
                                    "Total Weekly Payroll": "35595426",
                                    "industry_code": "60540000",
                                    "industry_name": "Professional and technical services"
                                },
                                {
                                    "Total Weekly Payroll": "29807366",
                                    "industry_code": "30000000",
                                    "industry_name": "Manufacturing"
                                }
                            ]
                        },
                        "text/html": [
                            "<table>",
                            "<tr><th>Total Weekly Payroll</th><th>industry_code</th><th>industry_name</th></tr>",
                            "<tr><td>295944946</td><td>05000000</td><td>Total private</td></tr>",
                            "<tr><td>243444986</td><td>08000000</td><td>Private service-providing</td></tr>",
                            "<tr><td>60942150</td><td>60000000</td><td>Professional and business services</td></tr>",
                            "<tr><td>59165538</td><td>40000000</td><td>Trade</td></tr>",
                            "<tr><td>59162460</td><td>65000000</td><td>Education and health services</td></tr>",
                            "<tr><td>52277530</td><td>06000000</td><td>Goods-producing</td></tr>",
                            "<tr><td>51281976</td><td>65620000</td><td>Health care and social assistance</td></tr>",
                            "<tr><td>45900550</td><td>65620001</td><td>NULL</td></tr>",
                            "<tr><td>35595426</td><td>60540000</td><td>Professional and technical services</td></tr>",
                            "<tr><td>29807366</td><td>30000000</td><td>Manufacturing</td></tr>",
                            "</table>"
                        ]
                    }
                }
            ],
            "execution_count": 114
        },
        {
            "cell_type": "markdown",
            "source": [
                "3. <span style=\"font-size: 10pt; font-family: Arvo, serif; color: rgb(102, 102, 102); background-color: rgb(255, 255, 255); font-variant-numeric: normal; font-variant-east-asian: normal; vertical-align: baseline; white-space: pre-wrap;\">Now that you have explored the datasets, is there any data or information that you wish you had in this analysis?</span>"
            ],
            "metadata": {
                "azdata_cell_guid": "101e4449-601a-46c6-b217-23f3339cfa76"
            },
            "attachments": {}
        },
        {
            "cell_type": "markdown",
            "source": [
                "In this analysis, I wish I could see a more detailed breakdown of average weekly payrolls by job title/employee in each industry. I think this would give us more insight as to what the average wage would be for each level of employee in each industry. This would also tell us if the averages are higher or lower becuase of large difference in wages."
            ],
            "metadata": {
                "azdata_cell_guid": "d07e9180-f5e0-49b4-b395-2c6c8a5f8aac"
            },
            "attachments": {}
        }
    ]
}